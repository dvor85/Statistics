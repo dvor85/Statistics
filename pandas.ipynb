{
 "cells": [
  {
   "cell_type": "markdown",
   "id": "6980475f",
   "metadata": {},
   "source": [
    "# Step 1.1"
   ]
  },
  {
   "cell_type": "code",
   "execution_count": 132,
   "id": "fe3b2bae",
   "metadata": {
    "ExecuteTime": {
     "end_time": "2022-05-30T13:24:59.687514Z",
     "start_time": "2022-05-30T13:24:59.680786Z"
    }
   },
   "outputs": [
    {
     "data": {
      "text/plain": [
       "0    z\n",
       "1    y\n",
       "2    x\n",
       "3    w\n",
       "4    v\n",
       "5    u\n",
       "6    t\n",
       "7    s\n",
       "8    r\n",
       "dtype: object"
      ]
     },
     "execution_count": 132,
     "metadata": {},
     "output_type": "execute_result"
    }
   ],
   "source": [
    "# Используйте print() чтобы распечатать получившийся pd.Series.\n",
    "\n",
    "import pandas as pd\n",
    "\n",
    "lst = list('zyxwvutsr')\n",
    "ser = pd.Series(lst)\n",
    "ser"
   ]
  },
  {
   "cell_type": "code",
   "execution_count": 133,
   "id": "42646a9b",
   "metadata": {
    "ExecuteTime": {
     "end_time": "2022-05-30T13:24:59.701091Z",
     "start_time": "2022-05-30T13:24:59.690677Z"
    }
   },
   "outputs": [
    {
     "data": {
      "text/plain": [
       "a    0\n",
       "b    1\n",
       "c    2\n",
       "e    3\n",
       "d    4\n",
       "dtype: int64"
      ]
     },
     "execution_count": 133,
     "metadata": {},
     "output_type": "execute_result"
    }
   ],
   "source": [
    "# На основе листа lst и массива arr сформируйте словарь и cоздайте pandas.Series из получившегося словаря.\n",
    "\n",
    "import numpy as np\n",
    "import pandas as pd\n",
    "\n",
    "lst = list('abced')\n",
    "arr = np.arange(5)\n",
    "pd.Series(arr, index=lst)"
   ]
  },
  {
   "cell_type": "code",
   "execution_count": 134,
   "id": "4ffbb28c",
   "metadata": {
    "ExecuteTime": {
     "end_time": "2022-05-30T13:24:59.714859Z",
     "start_time": "2022-05-30T13:24:59.703495Z"
    }
   },
   "outputs": [
    {
     "data": {
      "text/html": [
       "<div>\n",
       "<style scoped>\n",
       "    .dataframe tbody tr th:only-of-type {\n",
       "        vertical-align: middle;\n",
       "    }\n",
       "\n",
       "    .dataframe tbody tr th {\n",
       "        vertical-align: top;\n",
       "    }\n",
       "\n",
       "    .dataframe thead th {\n",
       "        text-align: right;\n",
       "    }\n",
       "</style>\n",
       "<table border=\"1\" class=\"dataframe\">\n",
       "  <thead>\n",
       "    <tr style=\"text-align: right;\">\n",
       "      <th></th>\n",
       "      <th>0</th>\n",
       "      <th>1</th>\n",
       "    </tr>\n",
       "  </thead>\n",
       "  <tbody>\n",
       "    <tr>\n",
       "      <th>0</th>\n",
       "      <td>a</td>\n",
       "      <td>0</td>\n",
       "    </tr>\n",
       "    <tr>\n",
       "      <th>1</th>\n",
       "      <td>b</td>\n",
       "      <td>1</td>\n",
       "    </tr>\n",
       "    <tr>\n",
       "      <th>2</th>\n",
       "      <td>c</td>\n",
       "      <td>2</td>\n",
       "    </tr>\n",
       "    <tr>\n",
       "      <th>3</th>\n",
       "      <td>e</td>\n",
       "      <td>3</td>\n",
       "    </tr>\n",
       "    <tr>\n",
       "      <th>4</th>\n",
       "      <td>d</td>\n",
       "      <td>4</td>\n",
       "    </tr>\n",
       "  </tbody>\n",
       "</table>\n",
       "</div>"
      ],
      "text/plain": [
       "   0  1\n",
       "0  a  0\n",
       "1  b  1\n",
       "2  c  2\n",
       "3  e  3\n",
       "4  d  4"
      ]
     },
     "execution_count": 134,
     "metadata": {},
     "output_type": "execute_result"
    }
   ],
   "source": [
    "# Объедините два pandas.Series (s1, s2) таким образом чтобы получился pandas.DataFrame не используя конструктор!\n",
    "\n",
    "import numpy as np\n",
    "import pandas as pd\n",
    "\n",
    "s1 = pd.Series(list('abced'))\n",
    "s2 = pd.Series(np.arange(5))\n",
    "\n",
    "pd.concat([s1, s2], axis=1)"
   ]
  },
  {
   "cell_type": "code",
   "execution_count": 135,
   "id": "6fafc54b",
   "metadata": {
    "ExecuteTime": {
     "end_time": "2022-05-30T13:24:59.726346Z",
     "start_time": "2022-05-30T13:24:59.716403Z"
    }
   },
   "outputs": [
    {
     "data": {
      "text/html": [
       "<div>\n",
       "<style scoped>\n",
       "    .dataframe tbody tr th:only-of-type {\n",
       "        vertical-align: middle;\n",
       "    }\n",
       "\n",
       "    .dataframe tbody tr th {\n",
       "        vertical-align: top;\n",
       "    }\n",
       "\n",
       "    .dataframe thead th {\n",
       "        text-align: right;\n",
       "    }\n",
       "</style>\n",
       "<table border=\"1\" class=\"dataframe\">\n",
       "  <thead>\n",
       "    <tr style=\"text-align: right;\">\n",
       "      <th></th>\n",
       "      <th>col1</th>\n",
       "      <th>col2</th>\n",
       "    </tr>\n",
       "  </thead>\n",
       "  <tbody>\n",
       "    <tr>\n",
       "      <th>0</th>\n",
       "      <td>a</td>\n",
       "      <td>0</td>\n",
       "    </tr>\n",
       "    <tr>\n",
       "      <th>1</th>\n",
       "      <td>b</td>\n",
       "      <td>1</td>\n",
       "    </tr>\n",
       "    <tr>\n",
       "      <th>2</th>\n",
       "      <td>c</td>\n",
       "      <td>2</td>\n",
       "    </tr>\n",
       "    <tr>\n",
       "      <th>3</th>\n",
       "      <td>e</td>\n",
       "      <td>3</td>\n",
       "    </tr>\n",
       "    <tr>\n",
       "      <th>4</th>\n",
       "      <td>d</td>\n",
       "      <td>4</td>\n",
       "    </tr>\n",
       "  </tbody>\n",
       "</table>\n",
       "</div>"
      ],
      "text/plain": [
       "  col1  col2\n",
       "0    a     0\n",
       "1    b     1\n",
       "2    c     2\n",
       "3    e     3\n",
       "4    d     4"
      ]
     },
     "execution_count": 135,
     "metadata": {},
     "output_type": "execute_result"
    }
   ],
   "source": [
    "# Объедините два pandas.Series (переменные s1, s2) таким образом чтобы получился pandas.DataFrame.\n",
    "\n",
    "import numpy as np\n",
    "import pandas as pd\n",
    "\n",
    "s1 = pd.Series(list('abced'))\n",
    "s2 = pd.Series(np.arange(5))\n",
    "\n",
    "pd.concat([s1, s2], axis=1, keys=[\"col1\", \"col2\"])"
   ]
  },
  {
   "cell_type": "code",
   "execution_count": 136,
   "id": "578b1e54",
   "metadata": {
    "ExecuteTime": {
     "end_time": "2022-05-30T13:24:59.733830Z",
     "start_time": "2022-05-30T13:24:59.728364Z"
    }
   },
   "outputs": [
    {
     "data": {
      "text/plain": [
       "0    a\n",
       "1    b\n",
       "2    c\n",
       "3    e\n",
       "4    d\n",
       "Name: characters, dtype: object"
      ]
     },
     "execution_count": 136,
     "metadata": {},
     "output_type": "execute_result"
    }
   ],
   "source": [
    "# Присвойте индексу pandas.Series имя 'characters'.\n",
    "\n",
    "import pandas as pd\n",
    "\n",
    "s = pd.Series(list('abced'))\n",
    "s.name = 'characters'\n",
    "s"
   ]
  },
  {
   "cell_type": "code",
   "execution_count": 137,
   "id": "e6cb6e57",
   "metadata": {
    "ExecuteTime": {
     "end_time": "2022-05-30T13:24:59.743739Z",
     "start_time": "2022-05-30T13:24:59.735595Z"
    }
   },
   "outputs": [
    {
     "data": {
      "text/plain": [
       "0    1\n",
       "1    2\n",
       "2    3\n",
       "dtype: int64"
      ]
     },
     "execution_count": 137,
     "metadata": {},
     "output_type": "execute_result"
    }
   ],
   "source": [
    "# Получите элементы s1, которые не присутствуют в s2.\n",
    "\n",
    "import pandas as pd\n",
    "\n",
    "s1 = pd.Series([1, 2, 3, 4, 5])\n",
    "s2 = pd.Series([4, 5, 6, 7, 8])\n",
    "\n",
    "s1[~s1.isin(s2)]"
   ]
  },
  {
   "cell_type": "code",
   "execution_count": 138,
   "id": "d36701c8",
   "metadata": {
    "ExecuteTime": {
     "end_time": "2022-05-30T13:24:59.754812Z",
     "start_time": "2022-05-30T13:24:59.745732Z"
    }
   },
   "outputs": [
    {
     "data": {
      "text/plain": [
       "0    1\n",
       "1    2\n",
       "2    3\n",
       "5    6\n",
       "6    7\n",
       "7    8\n",
       "dtype: int64"
      ]
     },
     "execution_count": 138,
     "metadata": {},
     "output_type": "execute_result"
    }
   ],
   "source": [
    "# Создайте новый pandas.Series из элементов, которые присутствуют только в одном из двух pandas.Series (переменные s1, s2).\n",
    "# Если элемент присутствует в двух Series, то выводить его не надо.\n",
    "\n",
    "import pandas as pd\n",
    "import numpy as np\n",
    "\n",
    "s1 = pd.Series([1, 2, 3, 4, 5])\n",
    "s2 = pd.Series([4, 5, 6, 7, 8])\n",
    "\n",
    "res = pd.Series(np.union1d(s1, s2))\n",
    "s12 = pd.Series(np.intersect1d(s1, s2))\n",
    "res[~res.isin(s12)]"
   ]
  },
  {
   "cell_type": "code",
   "execution_count": 139,
   "id": "e625d396",
   "metadata": {
    "ExecuteTime": {
     "end_time": "2022-05-30T13:24:59.764110Z",
     "start_time": "2022-05-30T13:24:59.756591Z"
    }
   },
   "outputs": [
    {
     "data": {
      "text/plain": [
       "array([ 1.822353  ,  5.61547186,  9.83484325, 10.91521602, 16.24734871])"
      ]
     },
     "execution_count": 139,
     "metadata": {},
     "output_type": "execute_result"
    }
   ],
   "source": [
    "# Имея данные в pandas.Series (переменная s1) рассчитайте:\n",
    "\n",
    "#    наименьшее значение\n",
    "#    25 перцентиль\n",
    "#    медиану\n",
    "#    75 перцентиль\n",
    "#    наибольшее значение\n",
    "\n",
    "import pandas as pd\n",
    "import numpy as np\n",
    "\n",
    "lst = [\n",
    "    12.53904795, 5.68886327, 16.24734871, 9.60194377, 5.55134259, 5.59100805,\n",
    "    10.09319475, 11.18922311, 10.06774274, 1.822353\n",
    "]\n",
    "\n",
    "s1 = pd.Series(lst)\n",
    "np.percentile(s1, [0, 25, 50, 75, 100])"
   ]
  },
  {
   "cell_type": "code",
   "execution_count": 140,
   "id": "44e23948",
   "metadata": {
    "ExecuteTime": {
     "end_time": "2022-05-30T13:24:59.776324Z",
     "start_time": "2022-05-30T13:24:59.766407Z"
    }
   },
   "outputs": [
    {
     "data": {
      "text/plain": [
       "a    8\n",
       "b    7\n",
       "c    6\n",
       "e    5\n",
       "d    4\n",
       "h    3\n",
       "f    2\n",
       "g    1\n",
       "dtype: int64"
      ]
     },
     "execution_count": 140,
     "metadata": {},
     "output_type": "execute_result"
    }
   ],
   "source": [
    "# Определите сколько раз встречается каждое значение в исходном pandas.Series (переменная s).\n",
    "\n",
    "import pandas as pd\n",
    "\n",
    "s = pd.Series(list('abdcbdhafceeabcahbcaedadaecbbbecafgh'))\n",
    "s.value_counts()"
   ]
  },
  {
   "cell_type": "markdown",
   "id": "58592504",
   "metadata": {},
   "source": [
    "# Step 1.2"
   ]
  },
  {
   "cell_type": "code",
   "execution_count": 141,
   "id": "ddf8a757",
   "metadata": {
    "ExecuteTime": {
     "end_time": "2022-05-30T13:24:59.787532Z",
     "start_time": "2022-05-30T13:24:59.779049Z"
    }
   },
   "outputs": [
    {
     "data": {
      "text/plain": [
       "0                     a\n",
       "1                     b\n",
       "2     Yet another value\n",
       "3     Yet another value\n",
       "4                     b\n",
       "5     Yet another value\n",
       "6     Yet another value\n",
       "7                     a\n",
       "8     Yet another value\n",
       "9     Yet another value\n",
       "10    Yet another value\n",
       "11    Yet another value\n",
       "12                    a\n",
       "13                    b\n",
       "14    Yet another value\n",
       "15                    a\n",
       "16    Yet another value\n",
       "17                    b\n",
       "18    Yet another value\n",
       "19                    a\n",
       "20    Yet another value\n",
       "21    Yet another value\n",
       "22                    a\n",
       "23    Yet another value\n",
       "24                    a\n",
       "25    Yet another value\n",
       "26    Yet another value\n",
       "27                    b\n",
       "28                    b\n",
       "29                    b\n",
       "30    Yet another value\n",
       "31    Yet another value\n",
       "32                    a\n",
       "33    Yet another value\n",
       "34    Yet another value\n",
       "35    Yet another value\n",
       "dtype: object"
      ]
     },
     "execution_count": 141,
     "metadata": {},
     "output_type": "execute_result"
    }
   ],
   "source": [
    "# Доработайте код таким образом, чтобы оставить только 2 наиболее встречающихся значения, а для остальных установите значение 'Yet another value'\n",
    "\n",
    "import pandas as pd\n",
    "\n",
    "s = pd.Series(list('abdcbdhafceeabcahbcaedadaecbbbecafgh'))\n",
    "r = s.value_counts().head(2).index\n",
    "s[~s.isin(r)] = 'Yet another value'\n",
    "s"
   ]
  },
  {
   "cell_type": "code",
   "execution_count": 142,
   "id": "c09ccf91",
   "metadata": {
    "ExecuteTime": {
     "end_time": "2022-05-30T13:24:59.814907Z",
     "start_time": "2022-05-30T13:24:59.789166Z"
    }
   },
   "outputs": [
    {
     "data": {
      "text/plain": [
       "0       (6.0, 9.0]\n",
       "1       (6.0, 9.0]\n",
       "2       (6.0, 9.0]\n",
       "3       (3.0, 6.0]\n",
       "4       (3.0, 6.0]\n",
       "5       (3.0, 6.0]\n",
       "6    (-0.001, 3.0]\n",
       "7    (-0.001, 3.0]\n",
       "8    (-0.001, 3.0]\n",
       "9    (-0.001, 3.0]\n",
       "dtype: category\n",
       "Categories (3, interval[float64, right]): [(-0.001, 3.0] < (3.0, 6.0] < (6.0, 9.0]]"
      ]
     },
     "execution_count": 142,
     "metadata": {},
     "output_type": "execute_result"
    }
   ],
   "source": [
    "# Разбейте все значения из pandas.Series (переменная s1) на 3 интервала равного размера.\n",
    "\n",
    "import pandas as pd\n",
    "\n",
    "s1 = pd.Series(reversed(range(0, 10)))\n",
    "pd.qcut(s1, 3)"
   ]
  },
  {
   "cell_type": "code",
   "execution_count": 143,
   "id": "6ec1304b",
   "metadata": {
    "ExecuteTime": {
     "end_time": "2022-05-30T13:24:59.825807Z",
     "start_time": "2022-05-30T13:24:59.816606Z"
    }
   },
   "outputs": [
    {
     "data": {
      "text/html": [
       "<div>\n",
       "<style scoped>\n",
       "    .dataframe tbody tr th:only-of-type {\n",
       "        vertical-align: middle;\n",
       "    }\n",
       "\n",
       "    .dataframe tbody tr th {\n",
       "        vertical-align: top;\n",
       "    }\n",
       "\n",
       "    .dataframe thead th {\n",
       "        text-align: right;\n",
       "    }\n",
       "</style>\n",
       "<table border=\"1\" class=\"dataframe\">\n",
       "  <thead>\n",
       "    <tr style=\"text-align: right;\">\n",
       "      <th></th>\n",
       "      <th>0</th>\n",
       "      <th>1</th>\n",
       "      <th>2</th>\n",
       "      <th>3</th>\n",
       "      <th>4</th>\n",
       "    </tr>\n",
       "  </thead>\n",
       "  <tbody>\n",
       "    <tr>\n",
       "      <th>0</th>\n",
       "      <td>0</td>\n",
       "      <td>1</td>\n",
       "      <td>2</td>\n",
       "      <td>3</td>\n",
       "      <td>4</td>\n",
       "    </tr>\n",
       "    <tr>\n",
       "      <th>1</th>\n",
       "      <td>5</td>\n",
       "      <td>6</td>\n",
       "      <td>7</td>\n",
       "      <td>8</td>\n",
       "      <td>9</td>\n",
       "    </tr>\n",
       "  </tbody>\n",
       "</table>\n",
       "</div>"
      ],
      "text/plain": [
       "   0  1  2  3  4\n",
       "0  0  1  2  3  4\n",
       "1  5  6  7  8  9"
      ]
     },
     "execution_count": 143,
     "metadata": {},
     "output_type": "execute_result"
    }
   ],
   "source": [
    "# Преобразуйте pandas.Series (переменная s1) в pandas.DataFrame размером 2 х 5.\n",
    "\n",
    "import pandas as pd\n",
    "import numpy as np\n",
    "\n",
    "s1 = pd.Series(range(0, 10))\n",
    "pd.DataFrame(np.array(s1).reshape(2, 5))"
   ]
  },
  {
   "cell_type": "code",
   "execution_count": 144,
   "id": "71c636d6",
   "metadata": {
    "ExecuteTime": {
     "end_time": "2022-05-30T13:24:59.833171Z",
     "start_time": "2022-05-30T13:24:59.827601Z"
    }
   },
   "outputs": [
    {
     "data": {
      "text/plain": [
       "array([[1],\n",
       "       [2],\n",
       "       [5]])"
      ]
     },
     "execution_count": 144,
     "metadata": {},
     "output_type": "execute_result"
    }
   ],
   "source": [
    "# Найдите индексы значений, которые кратны 2.\n",
    "\n",
    "import pandas as pd\n",
    "import numpy as np\n",
    "\n",
    "s1 = pd.Series([5, 10, 2, 3, 9, 12, 1])\n",
    "np.argwhere(s1.to_numpy() % 2 == 0)"
   ]
  },
  {
   "cell_type": "code",
   "execution_count": 145,
   "id": "2bb9e420",
   "metadata": {
    "ExecuteTime": {
     "end_time": "2022-05-30T13:24:59.843956Z",
     "start_time": "2022-05-30T13:24:59.835488Z"
    }
   },
   "outputs": [
    {
     "data": {
      "text/plain": [
       "0     a\n",
       "7     h\n",
       "12    m\n",
       "15    p\n",
       "19    t\n",
       "dtype: object"
      ]
     },
     "execution_count": 145,
     "metadata": {},
     "output_type": "execute_result"
    }
   ],
   "source": [
    "# Создайте новый pandas.Series из элементов, которые находятся по индексам: 0, 7, 12, 15, 19\n",
    "\n",
    "import pandas as pd\n",
    "\n",
    "s1 = pd.Series(list('abcdefghijklmnopqrstuvwxyz'))\n",
    "\n",
    "s1.take([0, 7, 12, 15, 19])"
   ]
  },
  {
   "cell_type": "code",
   "execution_count": 146,
   "id": "6169c6d4",
   "metadata": {
    "ExecuteTime": {
     "end_time": "2022-05-30T13:24:59.857561Z",
     "start_time": "2022-05-30T13:24:59.846125Z"
    }
   },
   "outputs": [
    {
     "data": {
      "text/plain": [
       "0   2022-01-01 00:00:00\n",
       "1   2022-02-02 00:00:00\n",
       "2   2022-03-03 00:00:00\n",
       "3   2022-04-04 00:00:00\n",
       "4   2022-05-05 00:00:00\n",
       "5   2022-06-06 12:20:00\n",
       "dtype: datetime64[ns]"
      ]
     },
     "execution_count": 146,
     "metadata": {},
     "output_type": "execute_result"
    }
   ],
   "source": [
    "# Преобразуйте элементы pandas.Series (переменная s1) из строк в даты\n",
    "\n",
    "import pandas as pd\n",
    "\n",
    "s1 = pd.Series([\n",
    "    '01 Jan 2022', '02-02-2022', '20220303', '2022/04/04', '2022-05-05',\n",
    "    '2022-06-06T12:20'\n",
    "])\n",
    "pd.to_datetime(s1)"
   ]
  },
  {
   "cell_type": "code",
   "execution_count": 147,
   "id": "b25b4042",
   "metadata": {
    "ExecuteTime": {
     "end_time": "2022-05-30T13:24:59.868457Z",
     "start_time": "2022-05-30T13:24:59.860000Z"
    }
   },
   "outputs": [
    {
     "data": {
      "text/plain": [
       "[5, 4, 0, 8]"
      ]
     },
     "execution_count": 147,
     "metadata": {},
     "output_type": "execute_result"
    }
   ],
   "source": [
    "# Объект pandas.Series (переменная s1) содержит некоторые числовые значения.\n",
    "# Для значений хранящихся в s2 определите индексы под которыми они хранятся  в s1.\n",
    "\n",
    "import pandas as pd\n",
    "\n",
    "s1 = pd.Series([10, 9, 6, 5, 3, 1, 12, 8, 13])\n",
    "s2 = pd.Series([1, 3, 10, 13])\n",
    "\n",
    "s1[s1.isin(s2)].sort_values().index.to_list()"
   ]
  },
  {
   "cell_type": "code",
   "execution_count": 148,
   "id": "0e00e814",
   "metadata": {
    "ExecuteTime": {
     "end_time": "2022-05-30T13:24:59.878492Z",
     "start_time": "2022-05-30T13:24:59.871284Z"
    }
   },
   "outputs": [
    {
     "data": {
      "text/plain": [
       "33.0"
      ]
     },
     "execution_count": 148,
     "metadata": {},
     "output_type": "execute_result"
    }
   ],
   "source": [
    "# Даны следующие ряды данных:\n",
    "# s_forecast - ряд прогнозных значений\n",
    "# s_real - ряд фактических значений\n",
    "# Вычислите среднеквадратичную ошибку.\n",
    "\n",
    "import pandas as pd\n",
    "\n",
    "s_forecast = pd.Series(range(10))\n",
    "s_real = pd.Series(reversed(range(10)))\n",
    "\n",
    "((s_forecast - s_real)**2).mean()"
   ]
  },
  {
   "cell_type": "code",
   "execution_count": 149,
   "id": "fe1c8203",
   "metadata": {
    "ExecuteTime": {
     "end_time": "2022-05-30T13:24:59.886870Z",
     "start_time": "2022-05-30T13:24:59.880222Z"
    }
   },
   "outputs": [
    {
     "data": {
      "text/plain": [
       "0        The\n",
       "1    Weather\n",
       "2         Is\n",
       "3       Fine\n",
       "dtype: object"
      ]
     },
     "execution_count": 149,
     "metadata": {},
     "output_type": "execute_result"
    }
   ],
   "source": [
    "# Измените первый символ каждого слова на верхний регистр.\n",
    "\n",
    "import pandas as pd\n",
    "\n",
    "s1 = pd.Series(['the', 'weather', 'is', 'fine'])\n",
    "\n",
    "s1.apply(lambda x: x.capitalize())"
   ]
  },
  {
   "cell_type": "code",
   "execution_count": 150,
   "id": "aca788ba",
   "metadata": {
    "ExecuteTime": {
     "end_time": "2022-05-30T13:24:59.896876Z",
     "start_time": "2022-05-30T13:24:59.891022Z"
    }
   },
   "outputs": [
    {
     "data": {
      "text/plain": [
       "0    3\n",
       "1    7\n",
       "2    2\n",
       "3    4\n",
       "dtype: int64"
      ]
     },
     "execution_count": 150,
     "metadata": {},
     "output_type": "execute_result"
    }
   ],
   "source": [
    "# Подсчитайте количество символов в каждом слове.\n",
    "\n",
    "import pandas as pd\n",
    "\n",
    "s1 = pd.Series(['the', 'weather', 'is', 'fine'])\n",
    "\n",
    "s1.str.len()"
   ]
  },
  {
   "cell_type": "markdown",
   "id": "0aa05df2",
   "metadata": {},
   "source": [
    "# Step 1.3"
   ]
  },
  {
   "cell_type": "code",
   "execution_count": 151,
   "id": "1ad5c51a",
   "metadata": {
    "ExecuteTime": {
     "end_time": "2022-05-30T13:24:59.909945Z",
     "start_time": "2022-05-30T13:24:59.898520Z"
    }
   },
   "outputs": [
    {
     "name": "stdout",
     "output_type": "stream",
     "text": [
      "Date:  [5, 4, 3, 4, 5, 6]\n",
      "Week number:  [1, 5, 13, 22, 9, 9]\n",
      "Day number of year:  [5, 35, 93, 155, 64, 65]\n",
      "Day of week:  ['Tuesday', 'Thursday', 'Saturday', 'Friday', 'Friday', 'Saturday']\n"
     ]
    }
   ],
   "source": [
    "# Вытяните день месяца, номер недели, день года и день недели из серии (s1)\n",
    "\n",
    "import pandas as pd\n",
    "import numpy as np\n",
    "\n",
    "s1 = pd.Series([\n",
    "    '05 Jan 2021', '02-04-2021', '20210403', '2021/06/04', '2021-03-05',\n",
    "    '2021-03-06T12:20'\n",
    "])\n",
    "\n",
    "s2 = pd.to_datetime(s1)\n",
    "print(\"Date: \", s2.dt.day.to_list())\n",
    "print(\"Week number: \", s2.dt.isocalendar().week.to_list())\n",
    "print(\"Day number of year: \", s2.dt.dayofyear.to_list())\n",
    "print(\"Day of week: \", s2.dt.day_name().to_list())"
   ]
  },
  {
   "cell_type": "code",
   "execution_count": 152,
   "id": "e5622b8e",
   "metadata": {
    "ExecuteTime": {
     "end_time": "2022-05-30T13:24:59.923404Z",
     "start_time": "2022-05-30T13:24:59.912406Z"
    }
   },
   "outputs": [
    {
     "data": {
      "text/plain": [
       "0   2022-01-10\n",
       "1   2022-02-10\n",
       "2   2022-03-10\n",
       "dtype: datetime64[ns]"
      ]
     },
     "execution_count": 152,
     "metadata": {},
     "output_type": "execute_result"
    }
   ],
   "source": [
    "# Измените даты лежащие в серии (s1) таким образом чтобы они начинались с 10-го числа соответствующего месяца.\n",
    "\n",
    "import pandas as pd\n",
    "import numpy as np\n",
    "\n",
    "s1 = pd.Series(['Jan 2022', 'Feb 2022', 'Mar 2022'])\n",
    "s2 = pd.to_datetime(s1)\n",
    "s2 + pd.Timedelta(days=9)"
   ]
  },
  {
   "cell_type": "code",
   "execution_count": 153,
   "id": "c342fa84",
   "metadata": {
    "ExecuteTime": {
     "end_time": "2022-05-30T13:24:59.935260Z",
     "start_time": "2022-05-30T13:24:59.925578Z"
    }
   },
   "outputs": [
    {
     "data": {
      "text/plain": [
       "0     Apple\n",
       "1    Orange\n",
       "4     Money\n",
       "dtype: object"
      ]
     },
     "execution_count": 153,
     "metadata": {},
     "output_type": "execute_result"
    }
   ],
   "source": [
    "# Из серии (s1) вытяните слова, содержащие не менее 2 гласных.\n",
    "\n",
    "import pandas as pd\n",
    "import numpy as np\n",
    "\n",
    "s1 = pd.Series(['Apple', 'Orange', 'Plan', 'Sky', 'Money'])\n",
    "\n",
    "s1[s1.str.lower().str.count(r'[aeiou]') > 1]"
   ]
  },
  {
   "cell_type": "code",
   "execution_count": 154,
   "id": "58a3c68b",
   "metadata": {
    "ExecuteTime": {
     "end_time": "2022-05-30T13:24:59.945591Z",
     "start_time": "2022-05-30T13:24:59.937739Z"
    }
   },
   "outputs": [
    {
     "data": {
      "text/plain": [
       "1          help@stepik.com\n",
       "2                user@t.co\n",
       "3    lovepandas@google.com\n",
       "dtype: object"
      ]
     },
     "execution_count": 154,
     "metadata": {},
     "output_type": "execute_result"
    }
   ],
   "source": [
    "# Извлеките корректные почтовые адреса из серии (s1). Используйте pattern для этой задачи.\n",
    "\n",
    "import pandas as pd\n",
    "import numpy as np\n",
    "\n",
    "s1 = pd.Series([\n",
    "    'teach pandas at stepik.com', 'help@stepik.com', 'user@t.co',\n",
    "    'lovepandas@google.com'\n",
    "])\n",
    "\n",
    "pattern = '[A-Za-z0-9._%+-]+@[A-Za-z0-9.-]+\\\\.[A-Za-z]{2,4}'\n",
    "s1[s1.str.match(pattern)]"
   ]
  },
  {
   "cell_type": "code",
   "execution_count": 155,
   "id": "3e56bcd0",
   "metadata": {
    "ExecuteTime": {
     "end_time": "2022-05-30T13:24:59.961028Z",
     "start_time": "2022-05-30T13:24:59.947285Z"
    },
    "scrolled": true
   },
   "outputs": [
    {
     "data": {
      "text/plain": [
       "apple     6.0\n",
       "banana    4.0\n",
       "carrot    5.8\n",
       "dtype: float64"
      ]
     },
     "execution_count": 155,
     "metadata": {},
     "output_type": "execute_result"
    }
   ],
   "source": [
    "# Вычислите среднее значение веса каждого фрукта.\n",
    "\n",
    "import pandas as pd\n",
    "import numpy as np\n",
    "\n",
    "fruit_list = [\n",
    "    'banana', 'carrot', 'apple', 'carrot', 'carrot', 'apple', 'banana',\n",
    "    'carrot', 'apple', 'carrot'\n",
    "]\n",
    "weights_list = [1.0, 2.0, 3.0, 4.0, 5.0, 6.0, 7.0, 8.0, 9.0, 10.0]\n",
    "\n",
    "fruits = pd.Series(fruit_list)\n",
    "weights = pd.Series(weights_list)\n",
    "\n",
    "weights.groupby(fruits).mean()"
   ]
  },
  {
   "cell_type": "code",
   "execution_count": 156,
   "id": "359d2cf1",
   "metadata": {
    "ExecuteTime": {
     "end_time": "2022-05-30T13:24:59.969342Z",
     "start_time": "2022-05-30T13:24:59.962753Z"
    }
   },
   "outputs": [
    {
     "data": {
      "text/plain": [
       "18.16590212458495"
      ]
     },
     "execution_count": 156,
     "metadata": {},
     "output_type": "execute_result"
    }
   ],
   "source": [
    "# Вычислить евклидово расстояние между рядами (точками) X и Y\n",
    "\n",
    "import pandas as pd\n",
    "import numpy as np\n",
    "\n",
    "X = pd.Series([1, 2, 3, 4, 5, 6, 7, 8, 9, 10])\n",
    "Y = pd.Series([10, 9, 8, 7, 6, 5, 4, 3, 2, 1])\n",
    "\n",
    "np.sqrt(sum((X - Y)**2))"
   ]
  },
  {
   "cell_type": "code",
   "execution_count": 157,
   "id": "d9a830d6",
   "metadata": {
    "ExecuteTime": {
     "end_time": "2022-05-30T13:24:59.978983Z",
     "start_time": "2022-05-30T13:24:59.971577Z"
    },
    "scrolled": true
   },
   "outputs": [
    {
     "data": {
      "text/plain": [
       "array([1, 5, 7])"
      ]
     },
     "execution_count": 157,
     "metadata": {},
     "output_type": "execute_result"
    }
   ],
   "source": [
    "# Определите индексы пиков (значения, окруженные меньшими значениями с обеих сторон).\n",
    "\n",
    "import pandas as pd\n",
    "import numpy as np\n",
    "\n",
    "s1 = pd.Series([2, 10, 3, 4, 9, 10, 2, 7, 3])\n",
    "s2 = s1.shift(1)\n",
    "s3 = s1.shift(-1)\n",
    "np.array(s1[(s1 > s2) & (s1 > s3)].index)"
   ]
  },
  {
   "cell_type": "code",
   "execution_count": 158,
   "id": "9b1a7941",
   "metadata": {
    "ExecuteTime": {
     "end_time": "2022-05-30T13:25:00.002222Z",
     "start_time": "2022-05-30T13:24:59.980719Z"
    }
   },
   "outputs": [
    {
     "data": {
      "text/plain": [
       "2022-01-01     1.0\n",
       "2022-01-02     1.0\n",
       "2022-01-03    10.0\n",
       "2022-01-04    10.0\n",
       "2022-01-05    10.0\n",
       "2022-01-06     3.0\n",
       "2022-01-07     3.0\n",
       "2022-01-08     3.0\n",
       "Freq: D, dtype: float64"
      ]
     },
     "execution_count": 158,
     "metadata": {},
     "output_type": "execute_result"
    }
   ],
   "source": [
    "# В серии (s1) находятся даты с 1 по 8 января 2022 года. Однако некоторые даты и значения к датам пропущены.\n",
    "# Сделайте так, чтобы все отсутствующие даты отображались и заполнялись значением из предыдущей даты.\n",
    "\n",
    "import pandas as pd\n",
    "import numpy as np\n",
    "\n",
    "s1 = pd.Series([1, 10, 3, np.nan],\n",
    "               index=pd.to_datetime(\n",
    "                   ['2022-01-01', '2022-01-03', '2022-01-06', '2022-01-08']))\n",
    "s1.asfreq('D').fillna(method='ffill')"
   ]
  },
  {
   "cell_type": "code",
   "execution_count": 159,
   "id": "13c61588",
   "metadata": {
    "ExecuteTime": {
     "end_time": "2022-05-30T13:25:00.013360Z",
     "start_time": "2022-05-30T13:25:00.004462Z"
    }
   },
   "outputs": [
    {
     "data": {
      "text/plain": [
       "Index(['user_name', 'user_balance', 'user_age', 'user_group'], dtype='object')"
      ]
     },
     "execution_count": 159,
     "metadata": {},
     "output_type": "execute_result"
    }
   ],
   "source": [
    "# Отредактируйте название колонок датафрейма (df) следующим образом:\n",
    "# 1. user -> user_name\n",
    "# 2. все точки в названии колонок заменить нижним подчёркиванием\n",
    "# Выведите названия колонок после преобразования.\n",
    "\n",
    "import pandas as pd\n",
    "import numpy as np\n",
    "\n",
    "df = pd.DataFrame(\n",
    "    data={\n",
    "        'user': ['Ivan', 'Petr', 'Alex'],\n",
    "        'user.balance': [500, 200, 0],\n",
    "        'user.age': [34, 25, 18],\n",
    "        'user.group': ['A', 'B', 'A']\n",
    "    })\n",
    "\n",
    "pd.Index(\n",
    "    pd.Series(df.columns).replace([\"user$\", \"\\.\"], [\"user_name\", \"_\"],\n",
    "                                  regex=True))"
   ]
  },
  {
   "cell_type": "code",
   "execution_count": 160,
   "id": "279fbce8",
   "metadata": {
    "ExecuteTime": {
     "end_time": "2022-05-30T13:25:00.023484Z",
     "start_time": "2022-05-30T13:25:00.015204Z"
    }
   },
   "outputs": [
    {
     "data": {
      "text/plain": [
       "True"
      ]
     },
     "execution_count": 160,
     "metadata": {},
     "output_type": "execute_result"
    }
   ],
   "source": [
    "# Проверьте, имеются ли пропущенные значения в датафрейме (df).\n",
    "\n",
    "import pandas as pd\n",
    "import numpy as np\n",
    "\n",
    "df = pd.DataFrame(\n",
    "    data={\n",
    "        'user': ['Ivan', 'Petr', 'Alex'],\n",
    "        'user.balance': [500, None, 0],\n",
    "        'user.age': [34, 25, 18],\n",
    "        'user.group': ['A', 'B', 'A']\n",
    "    })\n",
    "\n",
    "np.any(df.isna())"
   ]
  },
  {
   "cell_type": "markdown",
   "id": "369ab232",
   "metadata": {},
   "source": [
    "# Step 1.4"
   ]
  },
  {
   "cell_type": "code",
   "execution_count": 161,
   "id": "a89eb15e",
   "metadata": {
    "ExecuteTime": {
     "end_time": "2022-05-30T13:25:00.034311Z",
     "start_time": "2022-05-30T13:25:00.025076Z"
    }
   },
   "outputs": [
    {
     "data": {
      "text/plain": [
       "user            0\n",
       "user.balance    2\n",
       "user.age        1\n",
       "user.group      0\n",
       "dtype: int64"
      ]
     },
     "execution_count": 161,
     "metadata": {},
     "output_type": "execute_result"
    }
   ],
   "source": [
    "# Подсчитайте количество пропущенных значений в каждом столбце.\n",
    "\n",
    "import pandas as pd\n",
    "import numpy as np\n",
    "\n",
    "df = pd.DataFrame(\n",
    "    data={\n",
    "        'user': ['Ivan', 'Petr', 'Alex', 'Den'],\n",
    "        'user.balance': [500, None, 0, None],\n",
    "        'user.age': [34, None, 18, 43],\n",
    "        'user.group': ['A', 'B', 'A', 'B']\n",
    "    })\n",
    "\n",
    "df.isna().sum()"
   ]
  },
  {
   "cell_type": "code",
   "execution_count": 162,
   "id": "91b05d7f",
   "metadata": {
    "ExecuteTime": {
     "end_time": "2022-05-30T13:25:00.049337Z",
     "start_time": "2022-05-30T13:25:00.036069Z"
    }
   },
   "outputs": [
    {
     "data": {
      "text/html": [
       "<div>\n",
       "<style scoped>\n",
       "    .dataframe tbody tr th:only-of-type {\n",
       "        vertical-align: middle;\n",
       "    }\n",
       "\n",
       "    .dataframe tbody tr th {\n",
       "        vertical-align: top;\n",
       "    }\n",
       "\n",
       "    .dataframe thead th {\n",
       "        text-align: right;\n",
       "    }\n",
       "</style>\n",
       "<table border=\"1\" class=\"dataframe\">\n",
       "  <thead>\n",
       "    <tr style=\"text-align: right;\">\n",
       "      <th></th>\n",
       "      <th>user.speed</th>\n",
       "      <th>user.bag_weight</th>\n",
       "    </tr>\n",
       "  </thead>\n",
       "  <tbody>\n",
       "    <tr>\n",
       "      <th>0</th>\n",
       "      <td>40.0</td>\n",
       "      <td>8.000000</td>\n",
       "    </tr>\n",
       "    <tr>\n",
       "      <th>1</th>\n",
       "      <td>39.0</td>\n",
       "      <td>4.666667</td>\n",
       "    </tr>\n",
       "    <tr>\n",
       "      <th>2</th>\n",
       "      <td>42.0</td>\n",
       "      <td>2.000000</td>\n",
       "    </tr>\n",
       "    <tr>\n",
       "      <th>3</th>\n",
       "      <td>35.0</td>\n",
       "      <td>4.000000</td>\n",
       "    </tr>\n",
       "  </tbody>\n",
       "</table>\n",
       "</div>"
      ],
      "text/plain": [
       "   user.speed  user.bag_weight\n",
       "0        40.0         8.000000\n",
       "1        39.0         4.666667\n",
       "2        42.0         2.000000\n",
       "3        35.0         4.000000"
      ]
     },
     "execution_count": 162,
     "metadata": {},
     "output_type": "execute_result"
    }
   ],
   "source": [
    "# Замените отсутствующие значения в столбцах user.speed и user.bag_weight их соответствующими средними значениями.\n",
    "\n",
    "import pandas as pd\n",
    "import numpy as np\n",
    "\n",
    "df = pd.DataFrame(\n",
    "    data={\n",
    "        'user': ['Ivan', 'Petr', 'Alex', 'Den'],\n",
    "        'user.speed': [40, None, 42, 35],\n",
    "        'user.bag_weight': [8, None, 2, 4]\n",
    "    })\n",
    "\n",
    "means = df.mean(numeric_only=True)\n",
    "df.fillna(means)[['user.speed', 'user.bag_weight']]"
   ]
  },
  {
   "cell_type": "code",
   "execution_count": 163,
   "id": "d2bedce9",
   "metadata": {
    "ExecuteTime": {
     "end_time": "2022-05-30T13:25:00.066135Z",
     "start_time": "2022-05-30T13:25:00.051151Z"
    }
   },
   "outputs": [
    {
     "data": {
      "text/html": [
       "<div>\n",
       "<style scoped>\n",
       "    .dataframe tbody tr th:only-of-type {\n",
       "        vertical-align: middle;\n",
       "    }\n",
       "\n",
       "    .dataframe tbody tr th {\n",
       "        vertical-align: top;\n",
       "    }\n",
       "\n",
       "    .dataframe thead th {\n",
       "        text-align: right;\n",
       "    }\n",
       "</style>\n",
       "<table border=\"1\" class=\"dataframe\">\n",
       "  <thead>\n",
       "    <tr style=\"text-align: right;\">\n",
       "      <th></th>\n",
       "      <th>user</th>\n",
       "      <th>user.speed</th>\n",
       "      <th>user.bag_weight</th>\n",
       "    </tr>\n",
       "  </thead>\n",
       "  <tbody>\n",
       "    <tr>\n",
       "      <th>0</th>\n",
       "      <td>Ivan</td>\n",
       "      <td>40.0</td>\n",
       "      <td>8.0</td>\n",
       "    </tr>\n",
       "    <tr>\n",
       "      <th>1</th>\n",
       "      <td>Petr</td>\n",
       "      <td>39.0</td>\n",
       "      <td>4.0</td>\n",
       "    </tr>\n",
       "    <tr>\n",
       "      <th>2</th>\n",
       "      <td>Alex</td>\n",
       "      <td>42.0</td>\n",
       "      <td>2.0</td>\n",
       "    </tr>\n",
       "    <tr>\n",
       "      <th>3</th>\n",
       "      <td>Den</td>\n",
       "      <td>35.0</td>\n",
       "      <td>4.0</td>\n",
       "    </tr>\n",
       "  </tbody>\n",
       "</table>\n",
       "</div>"
      ],
      "text/plain": [
       "   user  user.speed  user.bag_weight\n",
       "0  Ivan        40.0              8.0\n",
       "1  Petr        39.0              4.0\n",
       "2  Alex        42.0              2.0\n",
       "3   Den        35.0              4.0"
      ]
     },
     "execution_count": 163,
     "metadata": {},
     "output_type": "execute_result"
    }
   ],
   "source": [
    "# Используйте метод apply, чтобы заменить отсутствующие значения в user.speed средним значением столбца, а в user.bag_weight — медианой столбца.\n",
    "\n",
    "import pandas as pd\n",
    "import numpy as np\n",
    "\n",
    "df = pd.DataFrame(\n",
    "    data={\n",
    "        'user': ['Ivan', 'Petr', 'Alex', 'Den'],\n",
    "        'user.speed': [40, None, 42, 35],\n",
    "        'user.bag_weight': [8, None, 2, 4]\n",
    "    })\n",
    "\n",
    "\n",
    "def foo(x):\n",
    "    if x.name == \"user.bag_weight\":\n",
    "        return x.fillna(x.median())\n",
    "    elif x.name == \"user.speed\":\n",
    "        return x.fillna(x.mean())\n",
    "    else:\n",
    "        return x\n",
    "\n",
    "\n",
    "df.apply(foo)"
   ]
  },
  {
   "cell_type": "code",
   "execution_count": 164,
   "id": "e307367f",
   "metadata": {
    "ExecuteTime": {
     "end_time": "2022-05-30T13:25:00.078043Z",
     "start_time": "2022-05-30T13:25:00.067969Z"
    }
   },
   "outputs": [
    {
     "data": {
      "text/html": [
       "<div>\n",
       "<style scoped>\n",
       "    .dataframe tbody tr th:only-of-type {\n",
       "        vertical-align: middle;\n",
       "    }\n",
       "\n",
       "    .dataframe tbody tr th {\n",
       "        vertical-align: top;\n",
       "    }\n",
       "\n",
       "    .dataframe thead th {\n",
       "        text-align: right;\n",
       "    }\n",
       "</style>\n",
       "<table border=\"1\" class=\"dataframe\">\n",
       "  <thead>\n",
       "    <tr style=\"text-align: right;\">\n",
       "      <th></th>\n",
       "      <th>e</th>\n",
       "      <th>b</th>\n",
       "      <th>c</th>\n",
       "      <th>d</th>\n",
       "      <th>a</th>\n",
       "    </tr>\n",
       "  </thead>\n",
       "  <tbody>\n",
       "    <tr>\n",
       "      <th>0</th>\n",
       "      <td>4</td>\n",
       "      <td>1</td>\n",
       "      <td>2</td>\n",
       "      <td>3</td>\n",
       "      <td>0</td>\n",
       "    </tr>\n",
       "    <tr>\n",
       "      <th>1</th>\n",
       "      <td>9</td>\n",
       "      <td>6</td>\n",
       "      <td>7</td>\n",
       "      <td>8</td>\n",
       "      <td>5</td>\n",
       "    </tr>\n",
       "    <tr>\n",
       "      <th>2</th>\n",
       "      <td>14</td>\n",
       "      <td>11</td>\n",
       "      <td>12</td>\n",
       "      <td>13</td>\n",
       "      <td>10</td>\n",
       "    </tr>\n",
       "    <tr>\n",
       "      <th>3</th>\n",
       "      <td>19</td>\n",
       "      <td>16</td>\n",
       "      <td>17</td>\n",
       "      <td>18</td>\n",
       "      <td>15</td>\n",
       "    </tr>\n",
       "  </tbody>\n",
       "</table>\n",
       "</div>"
      ],
      "text/plain": [
       "    e   b   c   d   a\n",
       "0   4   1   2   3   0\n",
       "1   9   6   7   8   5\n",
       "2  14  11  12  13  10\n",
       "3  19  16  17  18  15"
      ]
     },
     "execution_count": 164,
     "metadata": {},
     "output_type": "execute_result"
    }
   ],
   "source": [
    "# Поменяйте столбцы А и Е местами в датафрейме:\n",
    "\n",
    "import pandas as pd\n",
    "import numpy as np\n",
    "\n",
    "df = pd.DataFrame(np.arange(20).reshape(-1, 5), columns=list('abcde'))\n",
    "df.reindex(columns=list('ebcda'))"
   ]
  },
  {
   "cell_type": "code",
   "execution_count": 165,
   "id": "db158977",
   "metadata": {
    "ExecuteTime": {
     "end_time": "2022-05-30T13:25:00.089919Z",
     "start_time": "2022-05-30T13:25:00.079725Z"
    }
   },
   "outputs": [
    {
     "data": {
      "text/html": [
       "<div>\n",
       "<style scoped>\n",
       "    .dataframe tbody tr th:only-of-type {\n",
       "        vertical-align: middle;\n",
       "    }\n",
       "\n",
       "    .dataframe tbody tr th {\n",
       "        vertical-align: top;\n",
       "    }\n",
       "\n",
       "    .dataframe thead th {\n",
       "        text-align: right;\n",
       "    }\n",
       "</style>\n",
       "<table border=\"1\" class=\"dataframe\">\n",
       "  <thead>\n",
       "    <tr style=\"text-align: right;\">\n",
       "      <th></th>\n",
       "      <th>e</th>\n",
       "      <th>d</th>\n",
       "      <th>c</th>\n",
       "      <th>b</th>\n",
       "      <th>a</th>\n",
       "    </tr>\n",
       "  </thead>\n",
       "  <tbody>\n",
       "    <tr>\n",
       "      <th>0</th>\n",
       "      <td>4</td>\n",
       "      <td>3</td>\n",
       "      <td>2</td>\n",
       "      <td>1</td>\n",
       "      <td>0</td>\n",
       "    </tr>\n",
       "    <tr>\n",
       "      <th>1</th>\n",
       "      <td>9</td>\n",
       "      <td>8</td>\n",
       "      <td>7</td>\n",
       "      <td>6</td>\n",
       "      <td>5</td>\n",
       "    </tr>\n",
       "    <tr>\n",
       "      <th>2</th>\n",
       "      <td>14</td>\n",
       "      <td>13</td>\n",
       "      <td>12</td>\n",
       "      <td>11</td>\n",
       "      <td>10</td>\n",
       "    </tr>\n",
       "    <tr>\n",
       "      <th>3</th>\n",
       "      <td>19</td>\n",
       "      <td>18</td>\n",
       "      <td>17</td>\n",
       "      <td>16</td>\n",
       "      <td>15</td>\n",
       "    </tr>\n",
       "  </tbody>\n",
       "</table>\n",
       "</div>"
      ],
      "text/plain": [
       "    e   d   c   b   a\n",
       "0   4   3   2   1   0\n",
       "1   9   8   7   6   5\n",
       "2  14  13  12  11  10\n",
       "3  19  18  17  16  15"
      ]
     },
     "execution_count": 165,
     "metadata": {},
     "output_type": "execute_result"
    }
   ],
   "source": [
    "# Поменяйте порядок столбцов в датафрейме от Е до А.\n",
    "\n",
    "import pandas as pd\n",
    "import numpy as np\n",
    "\n",
    "df = pd.DataFrame(np.arange(20).reshape(-1, 5), columns=list('abcde'))\n",
    "df.reindex(columns=df.columns.sort_values(ascending=False))"
   ]
  },
  {
   "cell_type": "code",
   "execution_count": 166,
   "id": "614762b8",
   "metadata": {
    "ExecuteTime": {
     "end_time": "2022-05-30T13:25:00.102789Z",
     "start_time": "2022-05-30T13:25:00.091554Z"
    }
   },
   "outputs": [
    {
     "data": {
      "text/html": [
       "<div>\n",
       "<style scoped>\n",
       "    .dataframe tbody tr th:only-of-type {\n",
       "        vertical-align: middle;\n",
       "    }\n",
       "\n",
       "    .dataframe tbody tr th {\n",
       "        vertical-align: top;\n",
       "    }\n",
       "\n",
       "    .dataframe thead th {\n",
       "        text-align: right;\n",
       "    }\n",
       "</style>\n",
       "<table border=\"1\" class=\"dataframe\">\n",
       "  <thead>\n",
       "    <tr style=\"text-align: right;\">\n",
       "      <th></th>\n",
       "      <th>user</th>\n",
       "      <th>user.speed</th>\n",
       "      <th>user.bag_weight</th>\n",
       "    </tr>\n",
       "  </thead>\n",
       "  <tbody>\n",
       "    <tr>\n",
       "      <th>0</th>\n",
       "      <td>Ivan</td>\n",
       "      <td>40.0</td>\n",
       "      <td>8.0</td>\n",
       "    </tr>\n",
       "    <tr>\n",
       "      <th>2</th>\n",
       "      <td>Alex</td>\n",
       "      <td>42.0</td>\n",
       "      <td>2.0</td>\n",
       "    </tr>\n",
       "    <tr>\n",
       "      <th>4</th>\n",
       "      <td>Viktor</td>\n",
       "      <td>60.0</td>\n",
       "      <td>19.0</td>\n",
       "    </tr>\n",
       "  </tbody>\n",
       "</table>\n",
       "</div>"
      ],
      "text/plain": [
       "     user  user.speed  user.bag_weight\n",
       "0    Ivan        40.0              8.0\n",
       "2    Alex        42.0              2.0\n",
       "4  Viktor        60.0             19.0"
      ]
     },
     "execution_count": 166,
     "metadata": {},
     "output_type": "execute_result"
    }
   ],
   "source": [
    "# Выведите на экран строки датафрейма с шагом 2.\n",
    "\n",
    "import pandas as pd\n",
    "import numpy as np\n",
    "\n",
    "df = pd.DataFrame(\n",
    "    data={\n",
    "        'user': ['Ivan', 'Petr', 'Alex', 'Den', 'Viktor'],\n",
    "        'user.speed': [40, None, 42, 35, 60],\n",
    "        'user.bag_weight': [8, None, 2, 4, 19]\n",
    "    })\n",
    "\n",
    "df[df.index % 2 == 0]"
   ]
  },
  {
   "cell_type": "code",
   "execution_count": 167,
   "id": "a9817c7d",
   "metadata": {
    "ExecuteTime": {
     "end_time": "2022-05-30T13:25:00.119422Z",
     "start_time": "2022-05-30T13:25:00.104852Z"
    }
   },
   "outputs": [
    {
     "data": {
      "text/html": [
       "<div>\n",
       "<style scoped>\n",
       "    .dataframe tbody tr th:only-of-type {\n",
       "        vertical-align: middle;\n",
       "    }\n",
       "\n",
       "    .dataframe tbody tr th {\n",
       "        vertical-align: top;\n",
       "    }\n",
       "\n",
       "    .dataframe thead th {\n",
       "        text-align: right;\n",
       "    }\n",
       "</style>\n",
       "<table border=\"1\" class=\"dataframe\">\n",
       "  <thead>\n",
       "    <tr style=\"text-align: right;\">\n",
       "      <th></th>\n",
       "      <th>user</th>\n",
       "      <th>user.number</th>\n",
       "      <th>user.speed</th>\n",
       "      <th>user.bag_weight</th>\n",
       "    </tr>\n",
       "  </thead>\n",
       "  <tbody>\n",
       "    <tr>\n",
       "      <th>Ivan_222-333</th>\n",
       "      <td>Ivan</td>\n",
       "      <td>222-333</td>\n",
       "      <td>40.0</td>\n",
       "      <td>8.0</td>\n",
       "    </tr>\n",
       "    <tr>\n",
       "      <th>Petr_missing</th>\n",
       "      <td>Petr</td>\n",
       "      <td>missing</td>\n",
       "      <td>NaN</td>\n",
       "      <td>NaN</td>\n",
       "    </tr>\n",
       "    <tr>\n",
       "      <th>Alex_222-555</th>\n",
       "      <td>Alex</td>\n",
       "      <td>222-555</td>\n",
       "      <td>42.0</td>\n",
       "      <td>2.0</td>\n",
       "    </tr>\n",
       "    <tr>\n",
       "      <th>Den_222-666</th>\n",
       "      <td>Den</td>\n",
       "      <td>222-666</td>\n",
       "      <td>35.0</td>\n",
       "      <td>4.0</td>\n",
       "    </tr>\n",
       "    <tr>\n",
       "      <th>Viktor_222-777</th>\n",
       "      <td>Viktor</td>\n",
       "      <td>222-777</td>\n",
       "      <td>60.0</td>\n",
       "      <td>19.0</td>\n",
       "    </tr>\n",
       "  </tbody>\n",
       "</table>\n",
       "</div>"
      ],
      "text/plain": [
       "                  user user.number  user.speed  user.bag_weight\n",
       "Ivan_222-333      Ivan     222-333        40.0              8.0\n",
       "Petr_missing      Petr     missing         NaN              NaN\n",
       "Alex_222-555      Alex     222-555        42.0              2.0\n",
       "Den_222-666        Den     222-666        35.0              4.0\n",
       "Viktor_222-777  Viktor     222-777        60.0             19.0"
      ]
     },
     "execution_count": 167,
     "metadata": {},
     "output_type": "execute_result"
    }
   ],
   "source": [
    "# Создайте составной индекс на основе колонок user и user.number для датафрейма:\n",
    "\n",
    "import pandas as pd\n",
    "import numpy as np\n",
    "\n",
    "df = pd.DataFrame(\n",
    "    data={\n",
    "        'user': ['Ivan', 'Petr', 'Alex', 'Den', 'Viktor'],\n",
    "        'user.number': ['222-333', None, '222-555', '222-666', '222-777'],\n",
    "        'user.speed': [40, None, 42, 35, 60],\n",
    "        'user.bag_weight': [8, None, 2, 4, 19]\n",
    "    })\n",
    "\n",
    "df.loc[:, \"user.number\"].fillna(\"missing\", inplace=True)\n",
    "df.index = df.loc[:, 'user'] + \"_\" + df.loc[:, 'user.number']\n",
    "df"
   ]
  },
  {
   "cell_type": "code",
   "execution_count": 168,
   "id": "b045c7a2",
   "metadata": {
    "ExecuteTime": {
     "end_time": "2022-05-30T13:25:00.129733Z",
     "start_time": "2022-05-30T13:25:00.121333Z"
    }
   },
   "outputs": [
    {
     "data": {
      "text/plain": [
       "2"
      ]
     },
     "execution_count": 168,
     "metadata": {},
     "output_type": "execute_result"
    }
   ],
   "source": [
    "# Для столбца А найдите индекс строки в которой находится второе наибольшее значение.\n",
    "\n",
    "import pandas as pd\n",
    "import numpy as np\n",
    "\n",
    "df = pd.DataFrame(\n",
    "    [[16, 24, 29], [1, 10, 16], [26, 21, 10], [3, 3, 8], [6, 17, 17],\n",
    "     [2, 25, 14], [9, 13, 21], [27, 24, 17], [19, 29, 1], [20, 24, 6]],\n",
    "    columns=list('abc'))\n",
    "\n",
    "df.sort_values(\"a\").index[-2]"
   ]
  },
  {
   "cell_type": "code",
   "execution_count": 169,
   "id": "947aa9fa",
   "metadata": {
    "ExecuteTime": {
     "end_time": "2022-05-30T13:25:00.143138Z",
     "start_time": "2022-05-30T13:25:00.131536Z"
    }
   },
   "outputs": [
    {
     "data": {
      "text/html": [
       "<div>\n",
       "<style scoped>\n",
       "    .dataframe tbody tr th:only-of-type {\n",
       "        vertical-align: middle;\n",
       "    }\n",
       "\n",
       "    .dataframe tbody tr th {\n",
       "        vertical-align: top;\n",
       "    }\n",
       "\n",
       "    .dataframe thead th {\n",
       "        text-align: right;\n",
       "    }\n",
       "</style>\n",
       "<table border=\"1\" class=\"dataframe\">\n",
       "  <thead>\n",
       "    <tr style=\"text-align: right;\">\n",
       "      <th></th>\n",
       "      <th>0</th>\n",
       "      <th>1</th>\n",
       "      <th>2</th>\n",
       "      <th>3</th>\n",
       "    </tr>\n",
       "  </thead>\n",
       "  <tbody>\n",
       "    <tr>\n",
       "      <th>5</th>\n",
       "      <td>35</td>\n",
       "      <td>13</td>\n",
       "      <td>36</td>\n",
       "      <td>21</td>\n",
       "    </tr>\n",
       "    <tr>\n",
       "      <th>6</th>\n",
       "      <td>32</td>\n",
       "      <td>32</td>\n",
       "      <td>25</td>\n",
       "      <td>17</td>\n",
       "    </tr>\n",
       "  </tbody>\n",
       "</table>\n",
       "</div>"
      ],
      "text/plain": [
       "    0   1   2   3\n",
       "5  35  13  36  21\n",
       "6  32  32  25  17"
      ]
     },
     "execution_count": 169,
     "metadata": {},
     "output_type": "execute_result"
    }
   ],
   "source": [
    "# Выведите последние две строки датафрейма, сумма ячеек которых больше 100.\n",
    "\n",
    "import pandas as pd\n",
    "import numpy as np\n",
    "\n",
    "df = pd.DataFrame([[23, 33, 16, 35], [24, 20, 13, 10], [32, 33, 30, 28],\n",
    "                   [13, 32, 36, 18], [25, 27, 31, 10], [35, 13, 36, 21],\n",
    "                   [32, 32, 25, 17], [34, 24, 23, 19]])\n",
    "\n",
    "df[df.sum(axis=1) > 100].tail(2)"
   ]
  },
  {
   "cell_type": "markdown",
   "id": "79c79f33",
   "metadata": {},
   "source": [
    "# Step 1.5"
   ]
  },
  {
   "cell_type": "code",
   "execution_count": 170,
   "id": "d83de1dd",
   "metadata": {
    "ExecuteTime": {
     "end_time": "2022-05-30T13:25:00.165663Z",
     "start_time": "2022-05-30T13:25:00.148839Z"
    }
   },
   "outputs": [
    {
     "name": "stdout",
     "output_type": "stream",
     "text": [
      "<class 'pandas.core.frame.DataFrame'>\n",
      "Index: 10 entries, a to j\n",
      "Data columns (total 4 columns):\n",
      " #   Column    Non-Null Count  Dtype  \n",
      "---  ------    --------------  -----  \n",
      " 0   animal    10 non-null     object \n",
      " 1   age       8 non-null      float64\n",
      " 2   visits    10 non-null     int64  \n",
      " 3   priority  10 non-null     object \n",
      "dtypes: float64(1), int64(1), object(2)\n",
      "memory usage: 400.0+ bytes\n"
     ]
    }
   ],
   "source": [
    "# Выведите на экран сводку основной информации о датафрейме.\n",
    "\n",
    "import pandas as pd\n",
    "import numpy as np\n",
    "\n",
    "data = {\n",
    "    'animal':\n",
    "    ['cat', 'cat', 'snake', 'dog', 'dog', 'cat', 'snake', 'cat', 'dog', 'dog'],\n",
    "    'age': [2.5, 3, 0.5, np.nan, 5, 2, 4.5, np.nan, 7, 3],\n",
    "    'visits': [1, 3, 2, 3, 2, 3, 1, 1, 2, 1],\n",
    "    'priority':\n",
    "    ['yes', 'yes', 'no', 'yes', 'no', 'no', 'no', 'yes', 'no', 'no']\n",
    "}\n",
    "\n",
    "labels = ['a', 'b', 'c', 'd', 'e', 'f', 'g', 'h', 'i', 'j']\n",
    "\n",
    "df = pd.DataFrame(data, index=labels)\n",
    "\n",
    "#### YOUR ANSWER BELOW THIS LINE ######\n",
    "df.info(verbose=True)"
   ]
  },
  {
   "cell_type": "code",
   "execution_count": 171,
   "id": "6742272f",
   "metadata": {
    "ExecuteTime": {
     "end_time": "2022-05-30T13:25:00.181211Z",
     "start_time": "2022-05-30T13:25:00.167637Z"
    }
   },
   "outputs": [
    {
     "data": {
      "text/html": [
       "<div>\n",
       "<style scoped>\n",
       "    .dataframe tbody tr th:only-of-type {\n",
       "        vertical-align: middle;\n",
       "    }\n",
       "\n",
       "    .dataframe tbody tr th {\n",
       "        vertical-align: top;\n",
       "    }\n",
       "\n",
       "    .dataframe thead th {\n",
       "        text-align: right;\n",
       "    }\n",
       "</style>\n",
       "<table border=\"1\" class=\"dataframe\">\n",
       "  <thead>\n",
       "    <tr style=\"text-align: right;\">\n",
       "      <th></th>\n",
       "      <th>animal</th>\n",
       "      <th>age</th>\n",
       "      <th>visits</th>\n",
       "      <th>priority</th>\n",
       "    </tr>\n",
       "  </thead>\n",
       "  <tbody>\n",
       "    <tr>\n",
       "      <th>a</th>\n",
       "      <td>cat</td>\n",
       "      <td>2.5</td>\n",
       "      <td>1</td>\n",
       "      <td>yes</td>\n",
       "    </tr>\n",
       "    <tr>\n",
       "      <th>b</th>\n",
       "      <td>cat</td>\n",
       "      <td>3.0</td>\n",
       "      <td>3</td>\n",
       "      <td>yes</td>\n",
       "    </tr>\n",
       "    <tr>\n",
       "      <th>c</th>\n",
       "      <td>snake</td>\n",
       "      <td>0.5</td>\n",
       "      <td>2</td>\n",
       "      <td>no</td>\n",
       "    </tr>\n",
       "  </tbody>\n",
       "</table>\n",
       "</div>"
      ],
      "text/plain": [
       "  animal  age  visits priority\n",
       "a    cat  2.5       1      yes\n",
       "b    cat  3.0       3      yes\n",
       "c  snake  0.5       2       no"
      ]
     },
     "execution_count": 171,
     "metadata": {},
     "output_type": "execute_result"
    }
   ],
   "source": [
    "# Выведите на экран первые три записи датафрейма.\n",
    "\n",
    "import pandas as pd\n",
    "import numpy as np\n",
    "\n",
    "data = {\n",
    "    'animal':\n",
    "    ['cat', 'cat', 'snake', 'dog', 'dog', 'cat', 'snake', 'cat', 'dog', 'dog'],\n",
    "    'age': [2.5, 3, 0.5, np.nan, 5, 2, 4.5, np.nan, 7, 3],\n",
    "    'visits': [1, 3, 2, 3, 2, 3, 1, 1, 2, 1],\n",
    "    'priority':\n",
    "    ['yes', 'yes', 'no', 'yes', 'no', 'no', 'no', 'yes', 'no', 'no']\n",
    "}\n",
    "\n",
    "labels = ['a', 'b', 'c', 'd', 'e', 'f', 'g', 'h', 'i', 'j']\n",
    "\n",
    "df = pd.DataFrame(data, index=labels)\n",
    "\n",
    "#### YOUR ANSWER BELOW THIS LINE ######\n",
    "df.head(3)"
   ]
  },
  {
   "cell_type": "code",
   "execution_count": 172,
   "id": "68c706b0",
   "metadata": {
    "ExecuteTime": {
     "end_time": "2022-05-30T13:25:00.195948Z",
     "start_time": "2022-05-30T13:25:00.183149Z"
    }
   },
   "outputs": [
    {
     "data": {
      "text/html": [
       "<div>\n",
       "<style scoped>\n",
       "    .dataframe tbody tr th:only-of-type {\n",
       "        vertical-align: middle;\n",
       "    }\n",
       "\n",
       "    .dataframe tbody tr th {\n",
       "        vertical-align: top;\n",
       "    }\n",
       "\n",
       "    .dataframe thead th {\n",
       "        text-align: right;\n",
       "    }\n",
       "</style>\n",
       "<table border=\"1\" class=\"dataframe\">\n",
       "  <thead>\n",
       "    <tr style=\"text-align: right;\">\n",
       "      <th></th>\n",
       "      <th>animal</th>\n",
       "      <th>age</th>\n",
       "    </tr>\n",
       "  </thead>\n",
       "  <tbody>\n",
       "    <tr>\n",
       "      <th>d</th>\n",
       "      <td>dog</td>\n",
       "      <td>NaN</td>\n",
       "    </tr>\n",
       "    <tr>\n",
       "      <th>e</th>\n",
       "      <td>dog</td>\n",
       "      <td>5.0</td>\n",
       "    </tr>\n",
       "    <tr>\n",
       "      <th>i</th>\n",
       "      <td>dog</td>\n",
       "      <td>7.0</td>\n",
       "    </tr>\n",
       "  </tbody>\n",
       "</table>\n",
       "</div>"
      ],
      "text/plain": [
       "  animal  age\n",
       "d    dog  NaN\n",
       "e    dog  5.0\n",
       "i    dog  7.0"
      ]
     },
     "execution_count": 172,
     "metadata": {},
     "output_type": "execute_result"
    }
   ],
   "source": [
    "# Выведите на экран данные, которые хранятся в строках [3, 4, 8] и колонках ['animal', 'age'].\n",
    "\n",
    "import pandas as pd\n",
    "import numpy as np\n",
    "\n",
    "data = {\n",
    "    'animal':\n",
    "    ['cat', 'cat', 'snake', 'dog', 'dog', 'cat', 'snake', 'cat', 'dog', 'dog'],\n",
    "    'age': [2.5, 3, 0.5, np.nan, 5, 2, 4.5, np.nan, 7, 3],\n",
    "    'visits': [1, 3, 2, 3, 2, 3, 1, 1, 2, 1],\n",
    "    'priority':\n",
    "    ['yes', 'yes', 'no', 'yes', 'no', 'no', 'no', 'yes', 'no', 'no']\n",
    "}\n",
    "\n",
    "labels = ['a', 'b', 'c', 'd', 'e', 'f', 'g', 'h', 'i', 'j']\n",
    "\n",
    "df = pd.DataFrame(data, index=labels)\n",
    "\n",
    "#### YOUR ANSWER BELOW THIS LINE ######\n",
    "\n",
    "df.iloc[[3, 4, 8], [0, 1]]"
   ]
  },
  {
   "cell_type": "code",
   "execution_count": 173,
   "id": "676b11fd",
   "metadata": {
    "ExecuteTime": {
     "end_time": "2022-05-30T13:25:00.211679Z",
     "start_time": "2022-05-30T13:25:00.197747Z"
    }
   },
   "outputs": [
    {
     "data": {
      "text/html": [
       "<div>\n",
       "<style scoped>\n",
       "    .dataframe tbody tr th:only-of-type {\n",
       "        vertical-align: middle;\n",
       "    }\n",
       "\n",
       "    .dataframe tbody tr th {\n",
       "        vertical-align: top;\n",
       "    }\n",
       "\n",
       "    .dataframe thead th {\n",
       "        text-align: right;\n",
       "    }\n",
       "</style>\n",
       "<table border=\"1\" class=\"dataframe\">\n",
       "  <thead>\n",
       "    <tr style=\"text-align: right;\">\n",
       "      <th></th>\n",
       "      <th>animal</th>\n",
       "      <th>age</th>\n",
       "      <th>visits</th>\n",
       "      <th>priority</th>\n",
       "    </tr>\n",
       "  </thead>\n",
       "  <tbody>\n",
       "    <tr>\n",
       "      <th>b</th>\n",
       "      <td>cat</td>\n",
       "      <td>3.0</td>\n",
       "      <td>3</td>\n",
       "      <td>yes</td>\n",
       "    </tr>\n",
       "    <tr>\n",
       "      <th>d</th>\n",
       "      <td>dog</td>\n",
       "      <td>NaN</td>\n",
       "      <td>3</td>\n",
       "      <td>yes</td>\n",
       "    </tr>\n",
       "    <tr>\n",
       "      <th>f</th>\n",
       "      <td>cat</td>\n",
       "      <td>2.0</td>\n",
       "      <td>3</td>\n",
       "      <td>no</td>\n",
       "    </tr>\n",
       "  </tbody>\n",
       "</table>\n",
       "</div>"
      ],
      "text/plain": [
       "  animal  age  visits priority\n",
       "b    cat  3.0       3      yes\n",
       "d    dog  NaN       3      yes\n",
       "f    cat  2.0       3       no"
      ]
     },
     "execution_count": 173,
     "metadata": {},
     "output_type": "execute_result"
    }
   ],
   "source": [
    "# Выберите только те строки, в которых количество посещений (visits) больше 2.\n",
    "\n",
    "import pandas as pd\n",
    "import numpy as np\n",
    "\n",
    "data = {\n",
    "    'animal':\n",
    "    ['cat', 'cat', 'snake', 'dog', 'dog', 'cat', 'snake', 'cat', 'dog', 'dog'],\n",
    "    'age': [2.5, 3, 0.5, np.nan, 5, 2, 4.5, np.nan, 7, 3],\n",
    "    'visits': [1, 3, 2, 3, 2, 3, 1, 1, 2, 1],\n",
    "    'priority':\n",
    "    ['yes', 'yes', 'no', 'yes', 'no', 'no', 'no', 'yes', 'no', 'no']\n",
    "}\n",
    "\n",
    "labels = ['a', 'b', 'c', 'd', 'e', 'f', 'g', 'h', 'i', 'j']\n",
    "\n",
    "df = pd.DataFrame(data, index=labels)\n",
    "\n",
    "#### YOUR ANSWER BELOW THIS LINE ######\n",
    "df.loc[df['visits'] > 2]"
   ]
  },
  {
   "cell_type": "code",
   "execution_count": 174,
   "id": "de66cee2",
   "metadata": {
    "ExecuteTime": {
     "end_time": "2022-05-30T13:25:00.229479Z",
     "start_time": "2022-05-30T13:25:00.213425Z"
    }
   },
   "outputs": [
    {
     "data": {
      "text/html": [
       "<div>\n",
       "<style scoped>\n",
       "    .dataframe tbody tr th:only-of-type {\n",
       "        vertical-align: middle;\n",
       "    }\n",
       "\n",
       "    .dataframe tbody tr th {\n",
       "        vertical-align: top;\n",
       "    }\n",
       "\n",
       "    .dataframe thead th {\n",
       "        text-align: right;\n",
       "    }\n",
       "</style>\n",
       "<table border=\"1\" class=\"dataframe\">\n",
       "  <thead>\n",
       "    <tr style=\"text-align: right;\">\n",
       "      <th></th>\n",
       "      <th>animal</th>\n",
       "      <th>age</th>\n",
       "      <th>visits</th>\n",
       "      <th>priority</th>\n",
       "    </tr>\n",
       "  </thead>\n",
       "  <tbody>\n",
       "    <tr>\n",
       "      <th>a</th>\n",
       "      <td>cat</td>\n",
       "      <td>2.5</td>\n",
       "      <td>1</td>\n",
       "      <td>yes</td>\n",
       "    </tr>\n",
       "    <tr>\n",
       "      <th>f</th>\n",
       "      <td>cat</td>\n",
       "      <td>2.0</td>\n",
       "      <td>3</td>\n",
       "      <td>no</td>\n",
       "    </tr>\n",
       "  </tbody>\n",
       "</table>\n",
       "</div>"
      ],
      "text/plain": [
       "  animal  age  visits priority\n",
       "a    cat  2.5       1      yes\n",
       "f    cat  2.0       3       no"
      ]
     },
     "execution_count": 174,
     "metadata": {},
     "output_type": "execute_result"
    }
   ],
   "source": [
    "# Выберите строки датафрейма  в которых animal = cat, а age < 3.\n",
    "\n",
    "import pandas as pd\n",
    "import numpy as np\n",
    "\n",
    "data = {\n",
    "    'animal':\n",
    "    ['cat', 'cat', 'snake', 'dog', 'dog', 'cat', 'snake', 'cat', 'dog', 'dog'],\n",
    "    'age': [2.5, 3, 0.5, np.nan, 5, 2, 4.5, np.nan, 7, 3],\n",
    "    'visits': [1, 3, 2, 3, 2, 3, 1, 1, 2, 1],\n",
    "    'priority':\n",
    "    ['yes', 'yes', 'no', 'yes', 'no', 'no', 'no', 'yes', 'no', 'no']\n",
    "}\n",
    "\n",
    "labels = ['a', 'b', 'c', 'd', 'e', 'f', 'g', 'h', 'i', 'j']\n",
    "\n",
    "df = pd.DataFrame(data, index=labels)\n",
    "\n",
    "#### YOUR ANSWER BELOW THIS LINE ######\n",
    "df.query(\"animal=='cat' & age<3\")"
   ]
  },
  {
   "cell_type": "code",
   "execution_count": 175,
   "id": "ed521981",
   "metadata": {
    "ExecuteTime": {
     "end_time": "2022-05-30T13:25:00.246084Z",
     "start_time": "2022-05-30T13:25:00.231137Z"
    }
   },
   "outputs": [
    {
     "data": {
      "text/html": [
       "<div>\n",
       "<style scoped>\n",
       "    .dataframe tbody tr th:only-of-type {\n",
       "        vertical-align: middle;\n",
       "    }\n",
       "\n",
       "    .dataframe tbody tr th {\n",
       "        vertical-align: top;\n",
       "    }\n",
       "\n",
       "    .dataframe thead th {\n",
       "        text-align: right;\n",
       "    }\n",
       "</style>\n",
       "<table border=\"1\" class=\"dataframe\">\n",
       "  <thead>\n",
       "    <tr style=\"text-align: right;\">\n",
       "      <th></th>\n",
       "      <th>animal</th>\n",
       "      <th>age</th>\n",
       "      <th>visits</th>\n",
       "      <th>priority</th>\n",
       "    </tr>\n",
       "  </thead>\n",
       "  <tbody>\n",
       "    <tr>\n",
       "      <th>a</th>\n",
       "      <td>cat</td>\n",
       "      <td>2.5</td>\n",
       "      <td>1</td>\n",
       "      <td>yes</td>\n",
       "    </tr>\n",
       "    <tr>\n",
       "      <th>b</th>\n",
       "      <td>cat</td>\n",
       "      <td>3.0</td>\n",
       "      <td>3</td>\n",
       "      <td>yes</td>\n",
       "    </tr>\n",
       "    <tr>\n",
       "      <th>c</th>\n",
       "      <td>snake</td>\n",
       "      <td>0.5</td>\n",
       "      <td>2</td>\n",
       "      <td>no</td>\n",
       "    </tr>\n",
       "    <tr>\n",
       "      <th>d</th>\n",
       "      <td>dog</td>\n",
       "      <td>NaN</td>\n",
       "      <td>3</td>\n",
       "      <td>yes</td>\n",
       "    </tr>\n",
       "    <tr>\n",
       "      <th>e</th>\n",
       "      <td>dog</td>\n",
       "      <td>5.0</td>\n",
       "      <td>2</td>\n",
       "      <td>no</td>\n",
       "    </tr>\n",
       "    <tr>\n",
       "      <th>f</th>\n",
       "      <td>cat</td>\n",
       "      <td>1.5</td>\n",
       "      <td>3</td>\n",
       "      <td>no</td>\n",
       "    </tr>\n",
       "    <tr>\n",
       "      <th>g</th>\n",
       "      <td>snake</td>\n",
       "      <td>4.5</td>\n",
       "      <td>1</td>\n",
       "      <td>no</td>\n",
       "    </tr>\n",
       "    <tr>\n",
       "      <th>h</th>\n",
       "      <td>cat</td>\n",
       "      <td>NaN</td>\n",
       "      <td>1</td>\n",
       "      <td>yes</td>\n",
       "    </tr>\n",
       "    <tr>\n",
       "      <th>i</th>\n",
       "      <td>dog</td>\n",
       "      <td>7.0</td>\n",
       "      <td>2</td>\n",
       "      <td>no</td>\n",
       "    </tr>\n",
       "    <tr>\n",
       "      <th>j</th>\n",
       "      <td>dog</td>\n",
       "      <td>3.0</td>\n",
       "      <td>1</td>\n",
       "      <td>no</td>\n",
       "    </tr>\n",
       "  </tbody>\n",
       "</table>\n",
       "</div>"
      ],
      "text/plain": [
       "  animal  age  visits priority\n",
       "a    cat  2.5       1      yes\n",
       "b    cat  3.0       3      yes\n",
       "c  snake  0.5       2       no\n",
       "d    dog  NaN       3      yes\n",
       "e    dog  5.0       2       no\n",
       "f    cat  1.5       3       no\n",
       "g  snake  4.5       1       no\n",
       "h    cat  NaN       1      yes\n",
       "i    dog  7.0       2       no\n",
       "j    dog  3.0       1       no"
      ]
     },
     "execution_count": 175,
     "metadata": {},
     "output_type": "execute_result"
    }
   ],
   "source": [
    "# В строке f замените значение в колонке age на 1.5\n",
    "\n",
    "import pandas as pd\n",
    "import numpy as np\n",
    "\n",
    "data = {\n",
    "    'animal':\n",
    "    ['cat', 'cat', 'snake', 'dog', 'dog', 'cat', 'snake', 'cat', 'dog', 'dog'],\n",
    "    'age': [2.5, 3, 0.5, np.nan, 5, 2, 4.5, np.nan, 7, 3],\n",
    "    'visits': [1, 3, 2, 3, 2, 3, 1, 1, 2, 1],\n",
    "    'priority':\n",
    "    ['yes', 'yes', 'no', 'yes', 'no', 'no', 'no', 'yes', 'no', 'no']\n",
    "}\n",
    "\n",
    "labels = ['a', 'b', 'c', 'd', 'e', 'f', 'g', 'h', 'i', 'j']\n",
    "\n",
    "df = pd.DataFrame(data, index=labels)\n",
    "\n",
    "#### YOUR ANSWER BELOW THIS LINE ######\n",
    "df.loc[\"f\", \"age\"] = 1.5\n",
    "df"
   ]
  },
  {
   "cell_type": "code",
   "execution_count": 176,
   "id": "c68172d5",
   "metadata": {
    "ExecuteTime": {
     "end_time": "2022-05-30T13:25:00.256952Z",
     "start_time": "2022-05-30T13:25:00.247911Z"
    }
   },
   "outputs": [
    {
     "data": {
      "text/plain": [
       "19"
      ]
     },
     "execution_count": 176,
     "metadata": {},
     "output_type": "execute_result"
    }
   ],
   "source": [
    "# Посчитайте итоговое количество посещений (visits)\n",
    "\n",
    "import pandas as pd\n",
    "import numpy as np\n",
    "\n",
    "data = {\n",
    "    'animal':\n",
    "    ['cat', 'cat', 'snake', 'dog', 'dog', 'cat', 'snake', 'cat', 'dog', 'dog'],\n",
    "    'age': [2.5, 3, 0.5, np.nan, 5, 2, 4.5, np.nan, 7, 3],\n",
    "    'visits': [1, 3, 2, 3, 2, 3, 1, 1, 2, 1],\n",
    "    'priority':\n",
    "    ['yes', 'yes', 'no', 'yes', 'no', 'no', 'no', 'yes', 'no', 'no']\n",
    "}\n",
    "\n",
    "labels = ['a', 'b', 'c', 'd', 'e', 'f', 'g', 'h', 'i', 'j']\n",
    "\n",
    "df = pd.DataFrame(data, index=labels)\n",
    "\n",
    "#### YOUR ANSWER BELOW THIS LINE ######\n",
    "df[\"visits\"].sum()"
   ]
  },
  {
   "cell_type": "code",
   "execution_count": 177,
   "id": "200c7df0",
   "metadata": {
    "ExecuteTime": {
     "end_time": "2022-05-30T13:25:00.274417Z",
     "start_time": "2022-05-30T13:25:00.259162Z"
    }
   },
   "outputs": [
    {
     "data": {
      "text/plain": [
       "animal\n",
       "cat      2.5\n",
       "dog      5.0\n",
       "snake    2.5\n",
       "Name: age, dtype: float64"
      ]
     },
     "execution_count": 177,
     "metadata": {},
     "output_type": "execute_result"
    }
   ],
   "source": [
    "# Посчитайте средний возраст каждого вида животного (animal)\n",
    "\n",
    "import pandas as pd\n",
    "import numpy as np\n",
    "\n",
    "data = {\n",
    "    'animal':\n",
    "    ['cat', 'cat', 'snake', 'dog', 'dog', 'cat', 'snake', 'cat', 'dog', 'dog'],\n",
    "    'age': [2.5, 3, 0.5, np.nan, 5, 2, 4.5, np.nan, 7, 3],\n",
    "    'visits': [1, 3, 2, 3, 2, 3, 1, 1, 2, 1],\n",
    "    'priority':\n",
    "    ['yes', 'yes', 'no', 'yes', 'no', 'no', 'no', 'yes', 'no', 'no']\n",
    "}\n",
    "\n",
    "labels = ['a', 'b', 'c', 'd', 'e', 'f', 'g', 'h', 'i', 'j']\n",
    "\n",
    "df = pd.DataFrame(data, index=labels)\n",
    "\n",
    "#### YOUR ANSWER BELOW THIS LINE ######\n",
    "df.groupby('animal')['age'].mean()"
   ]
  },
  {
   "cell_type": "code",
   "execution_count": 178,
   "id": "0684e71c",
   "metadata": {
    "ExecuteTime": {
     "end_time": "2022-05-30T13:25:00.294657Z",
     "start_time": "2022-05-30T13:25:00.276289Z"
    }
   },
   "outputs": [
    {
     "data": {
      "text/html": [
       "<div>\n",
       "<style scoped>\n",
       "    .dataframe tbody tr th:only-of-type {\n",
       "        vertical-align: middle;\n",
       "    }\n",
       "\n",
       "    .dataframe tbody tr th {\n",
       "        vertical-align: top;\n",
       "    }\n",
       "\n",
       "    .dataframe thead th {\n",
       "        text-align: right;\n",
       "    }\n",
       "</style>\n",
       "<table border=\"1\" class=\"dataframe\">\n",
       "  <thead>\n",
       "    <tr style=\"text-align: right;\">\n",
       "      <th></th>\n",
       "      <th>animal</th>\n",
       "      <th>age</th>\n",
       "      <th>visits</th>\n",
       "      <th>priority</th>\n",
       "    </tr>\n",
       "  </thead>\n",
       "  <tbody>\n",
       "    <tr>\n",
       "      <th>i</th>\n",
       "      <td>dog</td>\n",
       "      <td>7.0</td>\n",
       "      <td>2</td>\n",
       "      <td>no</td>\n",
       "    </tr>\n",
       "    <tr>\n",
       "      <th>e</th>\n",
       "      <td>dog</td>\n",
       "      <td>5.0</td>\n",
       "      <td>2</td>\n",
       "      <td>no</td>\n",
       "    </tr>\n",
       "    <tr>\n",
       "      <th>g</th>\n",
       "      <td>snake</td>\n",
       "      <td>4.5</td>\n",
       "      <td>1</td>\n",
       "      <td>no</td>\n",
       "    </tr>\n",
       "    <tr>\n",
       "      <th>j</th>\n",
       "      <td>dog</td>\n",
       "      <td>3.0</td>\n",
       "      <td>1</td>\n",
       "      <td>no</td>\n",
       "    </tr>\n",
       "    <tr>\n",
       "      <th>b</th>\n",
       "      <td>cat</td>\n",
       "      <td>3.0</td>\n",
       "      <td>3</td>\n",
       "      <td>yes</td>\n",
       "    </tr>\n",
       "    <tr>\n",
       "      <th>a</th>\n",
       "      <td>cat</td>\n",
       "      <td>2.5</td>\n",
       "      <td>1</td>\n",
       "      <td>yes</td>\n",
       "    </tr>\n",
       "    <tr>\n",
       "      <th>f</th>\n",
       "      <td>cat</td>\n",
       "      <td>2.0</td>\n",
       "      <td>3</td>\n",
       "      <td>no</td>\n",
       "    </tr>\n",
       "    <tr>\n",
       "      <th>c</th>\n",
       "      <td>snake</td>\n",
       "      <td>0.5</td>\n",
       "      <td>2</td>\n",
       "      <td>no</td>\n",
       "    </tr>\n",
       "    <tr>\n",
       "      <th>h</th>\n",
       "      <td>cat</td>\n",
       "      <td>NaN</td>\n",
       "      <td>1</td>\n",
       "      <td>yes</td>\n",
       "    </tr>\n",
       "    <tr>\n",
       "      <th>d</th>\n",
       "      <td>dog</td>\n",
       "      <td>NaN</td>\n",
       "      <td>3</td>\n",
       "      <td>yes</td>\n",
       "    </tr>\n",
       "  </tbody>\n",
       "</table>\n",
       "</div>"
      ],
      "text/plain": [
       "  animal  age  visits priority\n",
       "i    dog  7.0       2       no\n",
       "e    dog  5.0       2       no\n",
       "g  snake  4.5       1       no\n",
       "j    dog  3.0       1       no\n",
       "b    cat  3.0       3      yes\n",
       "a    cat  2.5       1      yes\n",
       "f    cat  2.0       3       no\n",
       "c  snake  0.5       2       no\n",
       "h    cat  NaN       1      yes\n",
       "d    dog  NaN       3      yes"
      ]
     },
     "execution_count": 178,
     "metadata": {},
     "output_type": "execute_result"
    }
   ],
   "source": [
    "# Отсортируйте датафрейм по столбцу age в порядке убывания, а затем по столбцу visits в порядке возрастания.\n",
    "\n",
    "import pandas as pd\n",
    "import numpy as np\n",
    "\n",
    "data = {\n",
    "    'animal':\n",
    "    ['cat', 'cat', 'snake', 'dog', 'dog', 'cat', 'snake', 'cat', 'dog', 'dog'],\n",
    "    'age': [2.5, 3, 0.5, np.nan, 5, 2, 4.5, np.nan, 7, 3],\n",
    "    'visits': [1, 3, 2, 3, 2, 3, 1, 1, 2, 1],\n",
    "    'priority':\n",
    "    ['yes', 'yes', 'no', 'yes', 'no', 'no', 'no', 'yes', 'no', 'no']\n",
    "}\n",
    "\n",
    "labels = ['a', 'b', 'c', 'd', 'e', 'f', 'g', 'h', 'i', 'j']\n",
    "\n",
    "df = pd.DataFrame(data, index=labels)\n",
    "\n",
    "#### YOUR ANSWER BELOW THIS LINE ######\n",
    "df.sort_values(['age', 'visits'], ascending=[False, True])"
   ]
  },
  {
   "cell_type": "code",
   "execution_count": 179,
   "id": "1c857777",
   "metadata": {
    "ExecuteTime": {
     "end_time": "2022-05-30T13:25:00.314941Z",
     "start_time": "2022-05-30T13:25:00.296305Z"
    }
   },
   "outputs": [
    {
     "data": {
      "text/html": [
       "<div>\n",
       "<style scoped>\n",
       "    .dataframe tbody tr th:only-of-type {\n",
       "        vertical-align: middle;\n",
       "    }\n",
       "\n",
       "    .dataframe tbody tr th {\n",
       "        vertical-align: top;\n",
       "    }\n",
       "\n",
       "    .dataframe thead th {\n",
       "        text-align: right;\n",
       "    }\n",
       "</style>\n",
       "<table border=\"1\" class=\"dataframe\">\n",
       "  <thead>\n",
       "    <tr style=\"text-align: right;\">\n",
       "      <th></th>\n",
       "      <th>animal</th>\n",
       "      <th>age</th>\n",
       "      <th>visits</th>\n",
       "      <th>priority</th>\n",
       "    </tr>\n",
       "  </thead>\n",
       "  <tbody>\n",
       "    <tr>\n",
       "      <th>a</th>\n",
       "      <td>cat</td>\n",
       "      <td>2.5</td>\n",
       "      <td>1</td>\n",
       "      <td>True</td>\n",
       "    </tr>\n",
       "    <tr>\n",
       "      <th>b</th>\n",
       "      <td>cat</td>\n",
       "      <td>3.0</td>\n",
       "      <td>3</td>\n",
       "      <td>True</td>\n",
       "    </tr>\n",
       "    <tr>\n",
       "      <th>c</th>\n",
       "      <td>snake</td>\n",
       "      <td>0.5</td>\n",
       "      <td>2</td>\n",
       "      <td>False</td>\n",
       "    </tr>\n",
       "    <tr>\n",
       "      <th>d</th>\n",
       "      <td>dog</td>\n",
       "      <td>NaN</td>\n",
       "      <td>3</td>\n",
       "      <td>True</td>\n",
       "    </tr>\n",
       "    <tr>\n",
       "      <th>e</th>\n",
       "      <td>dog</td>\n",
       "      <td>5.0</td>\n",
       "      <td>2</td>\n",
       "      <td>False</td>\n",
       "    </tr>\n",
       "    <tr>\n",
       "      <th>f</th>\n",
       "      <td>cat</td>\n",
       "      <td>2.0</td>\n",
       "      <td>3</td>\n",
       "      <td>False</td>\n",
       "    </tr>\n",
       "    <tr>\n",
       "      <th>g</th>\n",
       "      <td>snake</td>\n",
       "      <td>4.5</td>\n",
       "      <td>1</td>\n",
       "      <td>False</td>\n",
       "    </tr>\n",
       "    <tr>\n",
       "      <th>h</th>\n",
       "      <td>cat</td>\n",
       "      <td>NaN</td>\n",
       "      <td>1</td>\n",
       "      <td>True</td>\n",
       "    </tr>\n",
       "    <tr>\n",
       "      <th>i</th>\n",
       "      <td>dog</td>\n",
       "      <td>7.0</td>\n",
       "      <td>2</td>\n",
       "      <td>False</td>\n",
       "    </tr>\n",
       "    <tr>\n",
       "      <th>j</th>\n",
       "      <td>dog</td>\n",
       "      <td>3.0</td>\n",
       "      <td>1</td>\n",
       "      <td>False</td>\n",
       "    </tr>\n",
       "  </tbody>\n",
       "</table>\n",
       "</div>"
      ],
      "text/plain": [
       "  animal  age  visits  priority\n",
       "a    cat  2.5       1      True\n",
       "b    cat  3.0       3      True\n",
       "c  snake  0.5       2     False\n",
       "d    dog  NaN       3      True\n",
       "e    dog  5.0       2     False\n",
       "f    cat  2.0       3     False\n",
       "g  snake  4.5       1     False\n",
       "h    cat  NaN       1      True\n",
       "i    dog  7.0       2     False\n",
       "j    dog  3.0       1     False"
      ]
     },
     "execution_count": 179,
     "metadata": {},
     "output_type": "execute_result"
    }
   ],
   "source": [
    "# Столбец priority содержит строковые значения yes и no. Замените их на булевы True и False\n",
    "\n",
    "import pandas as pd\n",
    "import numpy as np\n",
    "\n",
    "data = {\n",
    "    'animal':\n",
    "    ['cat', 'cat', 'snake', 'dog', 'dog', 'cat', 'snake', 'cat', 'dog', 'dog'],\n",
    "    'age': [2.5, 3, 0.5, np.nan, 5, 2, 4.5, np.nan, 7, 3],\n",
    "    'visits': [1, 3, 2, 3, 2, 3, 1, 1, 2, 1],\n",
    "    'priority':\n",
    "    ['yes', 'yes', 'no', 'yes', 'no', 'no', 'no', 'yes', 'no', 'no']\n",
    "}\n",
    "\n",
    "labels = ['a', 'b', 'c', 'd', 'e', 'f', 'g', 'h', 'i', 'j']\n",
    "\n",
    "df = pd.DataFrame(data, index=labels)\n",
    "\n",
    "#### YOUR ANSWER BELOW THIS LINE ######\n",
    "df['priority'].replace(regex={'yes': True, 'no': False}, inplace=True)\n",
    "df"
   ]
  },
  {
   "cell_type": "code",
   "execution_count": 180,
   "id": "f164f5b7",
   "metadata": {
    "ExecuteTime": {
     "end_time": "2022-05-30T13:25:00.338672Z",
     "start_time": "2022-05-30T13:25:00.316595Z"
    }
   },
   "outputs": [
    {
     "data": {
      "text/html": [
       "<div>\n",
       "<style scoped>\n",
       "    .dataframe tbody tr th:only-of-type {\n",
       "        vertical-align: middle;\n",
       "    }\n",
       "\n",
       "    .dataframe tbody tr th {\n",
       "        vertical-align: top;\n",
       "    }\n",
       "\n",
       "    .dataframe thead th {\n",
       "        text-align: right;\n",
       "    }\n",
       "</style>\n",
       "<table border=\"1\" class=\"dataframe\">\n",
       "  <thead>\n",
       "    <tr style=\"text-align: right;\">\n",
       "      <th>visits</th>\n",
       "      <th>1</th>\n",
       "      <th>2</th>\n",
       "      <th>3</th>\n",
       "    </tr>\n",
       "    <tr>\n",
       "      <th>animal</th>\n",
       "      <th></th>\n",
       "      <th></th>\n",
       "      <th></th>\n",
       "    </tr>\n",
       "  </thead>\n",
       "  <tbody>\n",
       "    <tr>\n",
       "      <th>cat</th>\n",
       "      <td>2.5</td>\n",
       "      <td>NaN</td>\n",
       "      <td>2.5</td>\n",
       "    </tr>\n",
       "    <tr>\n",
       "      <th>dog</th>\n",
       "      <td>3.0</td>\n",
       "      <td>6.0</td>\n",
       "      <td>NaN</td>\n",
       "    </tr>\n",
       "    <tr>\n",
       "      <th>snake</th>\n",
       "      <td>4.5</td>\n",
       "      <td>0.5</td>\n",
       "      <td>NaN</td>\n",
       "    </tr>\n",
       "  </tbody>\n",
       "</table>\n",
       "</div>"
      ],
      "text/plain": [
       "visits    1    2    3\n",
       "animal               \n",
       "cat     2.5  NaN  2.5\n",
       "dog     3.0  6.0  NaN\n",
       "snake   4.5  0.5  NaN"
      ]
     },
     "execution_count": 180,
     "metadata": {},
     "output_type": "execute_result"
    }
   ],
   "source": [
    "# Определите средний возраст для каждого типа животного и количества посещений.\n",
    "\n",
    "import pandas as pd\n",
    "import numpy as np\n",
    "\n",
    "data = {\n",
    "    'animal':\n",
    "    ['cat', 'cat', 'snake', 'dog', 'dog', 'cat', 'snake', 'cat', 'dog', 'dog'],\n",
    "    'age': [2.5, 3, 0.5, np.nan, 5, 2, 4.5, np.nan, 7, 3],\n",
    "    'visits': [1, 3, 2, 3, 2, 3, 1, 1, 2, 1],\n",
    "    'priority':\n",
    "    ['yes', 'yes', 'no', 'yes', 'no', 'no', 'no', 'yes', 'no', 'no']\n",
    "}\n",
    "\n",
    "labels = ['a', 'b', 'c', 'd', 'e', 'f', 'g', 'h', 'i', 'j']\n",
    "\n",
    "df = pd.DataFrame(data, index=labels)\n",
    "\n",
    "#### YOUR ANSWER BELOW THIS LINE ######\n",
    "df.pivot_table(columns='visits', index='animal', values='age')"
   ]
  },
  {
   "cell_type": "markdown",
   "id": "bc7ea900",
   "metadata": {},
   "source": [
    "# Step 1.6"
   ]
  },
  {
   "cell_type": "code",
   "execution_count": 181,
   "id": "acca09ee",
   "metadata": {
    "ExecuteTime": {
     "end_time": "2022-05-30T13:25:00.350553Z",
     "start_time": "2022-05-30T13:25:00.340362Z"
    }
   },
   "outputs": [
    {
     "data": {
      "text/html": [
       "<div>\n",
       "<style scoped>\n",
       "    .dataframe tbody tr th:only-of-type {\n",
       "        vertical-align: middle;\n",
       "    }\n",
       "\n",
       "    .dataframe tbody tr th {\n",
       "        vertical-align: top;\n",
       "    }\n",
       "\n",
       "    .dataframe thead th {\n",
       "        text-align: right;\n",
       "    }\n",
       "</style>\n",
       "<table border=\"1\" class=\"dataframe\">\n",
       "  <thead>\n",
       "    <tr style=\"text-align: right;\">\n",
       "      <th></th>\n",
       "      <th>0</th>\n",
       "      <th>1</th>\n",
       "      <th>2</th>\n",
       "    </tr>\n",
       "  </thead>\n",
       "  <tbody>\n",
       "    <tr>\n",
       "      <th>0</th>\n",
       "      <td>-0.469429</td>\n",
       "      <td>-0.032952</td>\n",
       "      <td>0.502381</td>\n",
       "    </tr>\n",
       "    <tr>\n",
       "      <th>1</th>\n",
       "      <td>0.280649</td>\n",
       "      <td>0.092736</td>\n",
       "      <td>-0.373386</td>\n",
       "    </tr>\n",
       "    <tr>\n",
       "      <th>2</th>\n",
       "      <td>-0.103336</td>\n",
       "      <td>0.085149</td>\n",
       "      <td>0.018186</td>\n",
       "    </tr>\n",
       "  </tbody>\n",
       "</table>\n",
       "</div>"
      ],
      "text/plain": [
       "          0         1         2\n",
       "0 -0.469429 -0.032952  0.502381\n",
       "1  0.280649  0.092736 -0.373386\n",
       "2 -0.103336  0.085149  0.018186"
      ]
     },
     "execution_count": 181,
     "metadata": {},
     "output_type": "execute_result"
    }
   ],
   "source": [
    "# Вычтите среднее значение строки из каждого элемента в строке.\n",
    "\n",
    "import pandas as pd\n",
    "import numpy as np\n",
    "\n",
    "df = pd.DataFrame([[0.020448, 0.456925, 0.992258],\n",
    "                   [0.743399, 0.555486, 0.089364],\n",
    "                   [0.094699, 0.283184, 0.216221]])\n",
    "\n",
    "df.sub(df.mean(axis=1), axis=0)"
   ]
  },
  {
   "cell_type": "code",
   "execution_count": 182,
   "id": "f9a5644b",
   "metadata": {
    "ExecuteTime": {
     "end_time": "2022-05-30T13:25:00.359293Z",
     "start_time": "2022-05-30T13:25:00.352111Z"
    }
   },
   "outputs": [
    {
     "data": {
      "text/plain": [
       "'a'"
      ]
     },
     "execution_count": 182,
     "metadata": {},
     "output_type": "execute_result"
    }
   ],
   "source": [
    "# В каком столбце чисел сумма наименьшая? Выведите на экран название этого столбца.\n",
    "\n",
    "import pandas as pd\n",
    "import numpy as np\n",
    "\n",
    "df = pd.DataFrame(\n",
    "    [[0.020448, 0.456925, 0.992258], [0.743399, 0.555486, 0.089364],\n",
    "     [0.094699, 0.283184, 0.216221]],\n",
    "    columns=list('abc'))\n",
    "\n",
    "df.sum().idxmin()"
   ]
  },
  {
   "cell_type": "code",
   "execution_count": 183,
   "id": "904dec50",
   "metadata": {
    "ExecuteTime": {
     "end_time": "2022-05-30T13:25:00.370691Z",
     "start_time": "2022-05-30T13:25:00.361192Z"
    }
   },
   "outputs": [
    {
     "data": {
      "text/plain": [
       "2"
      ]
     },
     "execution_count": 183,
     "metadata": {},
     "output_type": "execute_result"
    }
   ],
   "source": [
    "# Как подсчитать, сколько уникальных строк имеет датафрейм (т. е. игнорировать все повторяющиеся строки)?\n",
    "\n",
    "import pandas as pd\n",
    "import numpy as np\n",
    "\n",
    "df = pd.DataFrame(\n",
    "    [[0.020448, 0.456925, 0.992258], [0.743399, 0.555486, 0.089364],\n",
    "     [0.020448, 0.456925, 0.992258], [0.094699, 0.283184, 0.216221]],\n",
    "    columns=list('abc'))\n",
    "df.duplicated(keep=False).sum()"
   ]
  },
  {
   "cell_type": "code",
   "execution_count": 184,
   "id": "a5e62b6d",
   "metadata": {
    "ExecuteTime": {
     "end_time": "2022-05-30T13:25:00.390658Z",
     "start_time": "2022-05-30T13:25:00.373538Z"
    }
   },
   "outputs": [
    {
     "data": {
      "text/plain": [
       "0    e\n",
       "1    c\n",
       "2    d\n",
       "3    h\n",
       "4    d\n",
       "dtype: object"
      ]
     },
     "execution_count": 184,
     "metadata": {},
     "output_type": "execute_result"
    }
   ],
   "source": [
    "# Имеется датафрейм состоящий из 10 столбцов чисел с плавающей запятой.\n",
    "# Ровно 5 записей в каждой строке являются значениями NaN.\n",
    "# Для каждой строки датафрейма найдите столбец, содержащий третье значение NaN.\n",
    "\n",
    "import pandas as pd\n",
    "import numpy as np\n",
    "\n",
    "nan = np.nan\n",
    "\n",
    "data = [[0.04, nan, nan, 0.25, nan, 0.43, 0.71, 0.51, nan, nan],\n",
    "        [nan, nan, nan, 0.04, 0.76, nan, nan, 0.67, 0.76, 0.16],\n",
    "        [nan, nan, 0.5, nan, 0.31, 0.4, nan, nan, 0.24, 0.01],\n",
    "        [0.49, nan, nan, 0.62, 0.73, 0.26, 0.85, nan, nan, nan],\n",
    "        [nan, nan, 0.41, nan, 0.05, nan, 0.61, nan, 0.48, 0.68]]\n",
    "\n",
    "columns = list('abcdefghij')\n",
    "\n",
    "df = pd.DataFrame(data, columns=columns)\n",
    "df.apply(lambda x: x[x.isna()].index[2], axis=1)"
   ]
  },
  {
   "cell_type": "code",
   "execution_count": 185,
   "id": "3f4bc9d8",
   "metadata": {
    "ExecuteTime": {
     "end_time": "2022-05-30T13:25:00.408926Z",
     "start_time": "2022-05-30T13:25:00.393263Z"
    }
   },
   "outputs": [
    {
     "data": {
      "text/plain": [
       "grps\n",
       "a    409\n",
       "b    156\n",
       "c    345\n",
       "Name: vals, dtype: int64"
      ]
     },
     "execution_count": 185,
     "metadata": {},
     "output_type": "execute_result"
    }
   ],
   "source": [
    "# Датафрейм содержит колонку grps (название некоторой группы) и колонку целочисленных значений vals.\n",
    "# Для каждой группы найдите сумму трех наибольших значений.\n",
    "\n",
    "import pandas as pd\n",
    "import numpy as np\n",
    "\n",
    "df = pd.DataFrame({\n",
    "    'grps':\n",
    "    list('aaabbcaabcccbbc'),\n",
    "    'vals': [12, 345, 3, 1, 45, 14, 4, 52, 54, 23, 235, 21, 57, 3, 87]\n",
    "})\n",
    "\n",
    "df.groupby('grps').agg(\n",
    "    lambda x: x.sort_values(ascending=False).head(3).sum()).squeeze()"
   ]
  },
  {
   "cell_type": "code",
   "execution_count": 186,
   "id": "69298f3a",
   "metadata": {
    "ExecuteTime": {
     "end_time": "2022-05-30T13:25:00.434951Z",
     "start_time": "2022-05-30T13:25:00.412507Z"
    }
   },
   "outputs": [
    {
     "data": {
      "text/plain": [
       "A\n",
       "(0, 10]      635\n",
       "(10, 20]     360\n",
       "(20, 30]     315\n",
       "(30, 40]     306\n",
       "(40, 50]     750\n",
       "(50, 60]     284\n",
       "(60, 70]     424\n",
       "(70, 80]     526\n",
       "(80, 90]     835\n",
       "(90, 100]    852\n",
       "Name: B, dtype: int64"
      ]
     },
     "execution_count": 186,
     "metadata": {},
     "output_type": "execute_result"
    }
   ],
   "source": [
    "# Датафрейм df имеет два целочисленных столбца «A» и «B». Значения в «A» находятся в диапазоне от 1 до 100 (включительно).\n",
    "# Для каждой группы из 10 последовательных целых чисел в столбце А (т. е. (0, 10], (10, 20], ...)\n",
    "# вычислите сумму соответствующих значений в столбце B.\n",
    "\n",
    "import pandas as pd\n",
    "import numpy as np\n",
    "\n",
    "df = pd.DataFrame(np.random.RandomState(8765).randint(1, 101, size=(100, 2)),\n",
    "                  columns=[\"A\", \"B\"])\n",
    "df['B'].groupby(\n",
    "    pd.cut(df['A'], bins=pd.interval_range(start=0, end=100, freq=10))).sum()"
   ]
  },
  {
   "cell_type": "code",
   "execution_count": 187,
   "id": "dc4b3c10",
   "metadata": {
    "ExecuteTime": {
     "end_time": "2022-05-30T13:25:00.446209Z",
     "start_time": "2022-05-30T13:25:00.436615Z"
    }
   },
   "outputs": [
    {
     "data": {
      "text/plain": [
       "[(5, 7), (6, 4), (2, 5)]"
      ]
     },
     "execution_count": 187,
     "metadata": {},
     "output_type": "execute_result"
    }
   ],
   "source": [
    "# Создайте список индексов столбцов и строк для 3 самых больших значений в предлагаемом датафрейме.\n",
    "\n",
    "import pandas as pd\n",
    "import numpy as np\n",
    "\n",
    "df = pd.DataFrame(np.random.RandomState(30).randint(1, 101, size=(8, 8)))\n",
    "df.unstack().sort_values().tail(3).index.to_list()"
   ]
  },
  {
   "cell_type": "code",
   "execution_count": 188,
   "id": "5d3dc987",
   "metadata": {
    "ExecuteTime": {
     "end_time": "2022-05-30T13:25:00.468813Z",
     "start_time": "2022-05-30T13:25:00.448323Z"
    }
   },
   "outputs": [
    {
     "data": {
      "text/html": [
       "<div>\n",
       "<style scoped>\n",
       "    .dataframe tbody tr th:only-of-type {\n",
       "        vertical-align: middle;\n",
       "    }\n",
       "\n",
       "    .dataframe tbody tr th {\n",
       "        vertical-align: top;\n",
       "    }\n",
       "\n",
       "    .dataframe thead th {\n",
       "        text-align: right;\n",
       "    }\n",
       "</style>\n",
       "<table border=\"1\" class=\"dataframe\">\n",
       "  <thead>\n",
       "    <tr style=\"text-align: right;\">\n",
       "      <th></th>\n",
       "      <th>vals</th>\n",
       "      <th>grps</th>\n",
       "      <th>patched_vals</th>\n",
       "    </tr>\n",
       "  </thead>\n",
       "  <tbody>\n",
       "    <tr>\n",
       "      <th>0</th>\n",
       "      <td>-12</td>\n",
       "      <td>A</td>\n",
       "      <td>13.6</td>\n",
       "    </tr>\n",
       "    <tr>\n",
       "      <th>1</th>\n",
       "      <td>-7</td>\n",
       "      <td>B</td>\n",
       "      <td>28.0</td>\n",
       "    </tr>\n",
       "    <tr>\n",
       "      <th>2</th>\n",
       "      <td>-14</td>\n",
       "      <td>A</td>\n",
       "      <td>13.6</td>\n",
       "    </tr>\n",
       "    <tr>\n",
       "      <th>3</th>\n",
       "      <td>4</td>\n",
       "      <td>A</td>\n",
       "      <td>4.0</td>\n",
       "    </tr>\n",
       "    <tr>\n",
       "      <th>4</th>\n",
       "      <td>-7</td>\n",
       "      <td>A</td>\n",
       "      <td>13.6</td>\n",
       "    </tr>\n",
       "    <tr>\n",
       "      <th>5</th>\n",
       "      <td>28</td>\n",
       "      <td>B</td>\n",
       "      <td>28.0</td>\n",
       "    </tr>\n",
       "    <tr>\n",
       "      <th>6</th>\n",
       "      <td>-2</td>\n",
       "      <td>A</td>\n",
       "      <td>13.6</td>\n",
       "    </tr>\n",
       "    <tr>\n",
       "      <th>7</th>\n",
       "      <td>-1</td>\n",
       "      <td>A</td>\n",
       "      <td>13.6</td>\n",
       "    </tr>\n",
       "    <tr>\n",
       "      <th>8</th>\n",
       "      <td>8</td>\n",
       "      <td>A</td>\n",
       "      <td>8.0</td>\n",
       "    </tr>\n",
       "    <tr>\n",
       "      <th>9</th>\n",
       "      <td>-2</td>\n",
       "      <td>B</td>\n",
       "      <td>28.0</td>\n",
       "    </tr>\n",
       "    <tr>\n",
       "      <th>10</th>\n",
       "      <td>28</td>\n",
       "      <td>A</td>\n",
       "      <td>28.0</td>\n",
       "    </tr>\n",
       "    <tr>\n",
       "      <th>11</th>\n",
       "      <td>12</td>\n",
       "      <td>A</td>\n",
       "      <td>12.0</td>\n",
       "    </tr>\n",
       "    <tr>\n",
       "      <th>12</th>\n",
       "      <td>16</td>\n",
       "      <td>A</td>\n",
       "      <td>16.0</td>\n",
       "    </tr>\n",
       "    <tr>\n",
       "      <th>13</th>\n",
       "      <td>-24</td>\n",
       "      <td>A</td>\n",
       "      <td>13.6</td>\n",
       "    </tr>\n",
       "    <tr>\n",
       "      <th>14</th>\n",
       "      <td>-12</td>\n",
       "      <td>A</td>\n",
       "      <td>13.6</td>\n",
       "    </tr>\n",
       "  </tbody>\n",
       "</table>\n",
       "</div>"
      ],
      "text/plain": [
       "    vals grps  patched_vals\n",
       "0    -12    A          13.6\n",
       "1     -7    B          28.0\n",
       "2    -14    A          13.6\n",
       "3      4    A           4.0\n",
       "4     -7    A          13.6\n",
       "5     28    B          28.0\n",
       "6     -2    A          13.6\n",
       "7     -1    A          13.6\n",
       "8      8    A           8.0\n",
       "9     -2    B          28.0\n",
       "10    28    A          28.0\n",
       "11    12    A          12.0\n",
       "12    16    A          16.0\n",
       "13   -24    A          13.6\n",
       "14   -12    A          13.6"
      ]
     },
     "execution_count": 188,
     "metadata": {},
     "output_type": "execute_result"
    }
   ],
   "source": [
    "# Создайте новый столбец patched_vals, который содержит те же значения, что и vals,\n",
    "# но отрицательные значения заменить средним значением группы.\n",
    "\n",
    "import pandas as pd\n",
    "import numpy as np\n",
    "\n",
    "df = pd.DataFrame({\n",
    "    \"vals\": np.random.RandomState(31).randint(-30, 30, size=15),\n",
    "    \"grps\": np.random.RandomState(31).choice([\"A\", \"B\"], 15)\n",
    "})\n",
    "\n",
    "df['patched_vals'] = df['vals']\n",
    "df.loc[df['patched_vals'] < 0, 'patched_vals'] = np.nan\n",
    "df.groupby('grps').apply(lambda x: x.fillna(x['patched_vals'].mean()))"
   ]
  },
  {
   "cell_type": "code",
   "execution_count": 189,
   "id": "8174f0a3",
   "metadata": {
    "ExecuteTime": {
     "end_time": "2022-05-30T13:25:00.491976Z",
     "start_time": "2022-05-30T13:25:00.470497Z"
    }
   },
   "outputs": [
    {
     "data": {
      "text/plain": [
       "23.508792429234397"
      ]
     },
     "execution_count": 189,
     "metadata": {},
     "output_type": "execute_result"
    }
   ],
   "source": [
    "# Найдите сумму всех значений, которые указаны для среды (Wednesday)\n",
    "\n",
    "import pandas as pd\n",
    "import numpy as np\n",
    "\n",
    "dti = pd.date_range(start='2021-01-01', end='2021-12-31', freq='B')\n",
    "s = pd.Series(np.random.RandomState(30).rand(len(dti)), index=dti)\n",
    "s[s.index.dayofweek == 2].sum()"
   ]
  },
  {
   "cell_type": "code",
   "execution_count": 190,
   "id": "85507863",
   "metadata": {
    "ExecuteTime": {
     "end_time": "2022-05-30T13:25:00.512772Z",
     "start_time": "2022-05-30T13:25:00.494166Z"
    }
   },
   "outputs": [
    {
     "data": {
      "text/plain": [
       "2021-01-31    0.507726\n",
       "2021-02-28    0.462692\n",
       "2021-03-31    0.478605\n",
       "2021-04-30    0.564210\n",
       "2021-05-31    0.387735\n",
       "2021-06-30    0.451999\n",
       "2021-07-31    0.541958\n",
       "2021-08-31    0.553241\n",
       "2021-09-30    0.507650\n",
       "2021-10-31    0.453517\n",
       "2021-11-30    0.490528\n",
       "2021-12-31    0.495812\n",
       "Freq: M, dtype: float64"
      ]
     },
     "execution_count": 190,
     "metadata": {},
     "output_type": "execute_result"
    }
   ],
   "source": [
    "# Для каждого месяца найдите среднее значение.\n",
    "\n",
    "import pandas as pd\n",
    "import numpy as np\n",
    "\n",
    "dti = pd.date_range(start='2021-01-01', end='2021-12-31', freq='B')\n",
    "s = pd.Series(np.random.RandomState(30).rand(len(dti)), index=dti)\n",
    "\n",
    "s.groupby(pd.Grouper(freq='M')).mean()"
   ]
  },
  {
   "cell_type": "markdown",
   "id": "d59d3188",
   "metadata": {},
   "source": [
    "# Step 1.7"
   ]
  },
  {
   "cell_type": "code",
   "execution_count": 191,
   "id": "6b787772",
   "metadata": {
    "ExecuteTime": {
     "end_time": "2022-05-30T13:25:00.526100Z",
     "start_time": "2022-05-30T13:25:00.516116Z"
    }
   },
   "outputs": [
    {
     "data": {
      "text/plain": [
       "array([[17., 17., 25., 25., 33., 26., 21., 45.],\n",
       "       [29., 25., 41., 15., 42., 26., 25., 44.],\n",
       "       [42., 30., 13., 35., 38., 37., 24., 17.],\n",
       "       [37., 19., 13., 27., 19., 16., 20., 34.],\n",
       "       [49., 10., 29., 32., 24., 41., 14., 23.],\n",
       "       [40., 31., 21., 36., 19., 13.,  8., 38.],\n",
       "       [25., 28., 35., 25., 11.,  9., 24.,  9.],\n",
       "       [31., 35., 32., 41., 19., 10., 24., 27.]])"
      ]
     },
     "execution_count": 191,
     "metadata": {},
     "output_type": "execute_result"
    }
   ],
   "source": [
    "# Превратите датафрейм в квадрат с максимально возможной длиной стороны n, убрав отрицательные значения.\n",
    "# При необходимости удалите наименьшие значения.\n",
    "# Порядок положительных чисел в результате должен оставаться таким же, как и в оригинале.\n",
    "\n",
    "import pandas as pd\n",
    "import numpy as np\n",
    "\n",
    "df = pd.DataFrame(\n",
    "    np.random.RandomState(30).randint(-20, 50, 100).reshape(10, -1))\n",
    "\n",
    "df = df.to_numpy(dtype=\"float64\")\n",
    "df = df[df > 0]\n",
    "n = int(np.floor(len(df)**0.5))\n",
    "df[sorted(df.argsort()[-n**2:])].reshape(n, n)"
   ]
  },
  {
   "cell_type": "code",
   "execution_count": 192,
   "id": "1d242ece",
   "metadata": {
    "ExecuteTime": {
     "end_time": "2022-05-30T13:25:00.542134Z",
     "start_time": "2022-05-30T13:25:00.528206Z"
    }
   },
   "outputs": [
    {
     "data": {
      "text/html": [
       "<div>\n",
       "<style scoped>\n",
       "    .dataframe tbody tr th:only-of-type {\n",
       "        vertical-align: middle;\n",
       "    }\n",
       "\n",
       "    .dataframe tbody tr th {\n",
       "        vertical-align: top;\n",
       "    }\n",
       "\n",
       "    .dataframe thead th {\n",
       "        text-align: right;\n",
       "    }\n",
       "</style>\n",
       "<table border=\"1\" class=\"dataframe\">\n",
       "  <thead>\n",
       "    <tr style=\"text-align: right;\">\n",
       "      <th></th>\n",
       "      <th>0</th>\n",
       "      <th>1</th>\n",
       "      <th>2</th>\n",
       "      <th>3</th>\n",
       "      <th>4</th>\n",
       "    </tr>\n",
       "  </thead>\n",
       "  <tbody>\n",
       "    <tr>\n",
       "      <th>0</th>\n",
       "      <td>0</td>\n",
       "      <td>1</td>\n",
       "      <td>2</td>\n",
       "      <td>3</td>\n",
       "      <td>4</td>\n",
       "    </tr>\n",
       "    <tr>\n",
       "      <th>1</th>\n",
       "      <td>10</td>\n",
       "      <td>11</td>\n",
       "      <td>12</td>\n",
       "      <td>13</td>\n",
       "      <td>14</td>\n",
       "    </tr>\n",
       "    <tr>\n",
       "      <th>2</th>\n",
       "      <td>5</td>\n",
       "      <td>6</td>\n",
       "      <td>7</td>\n",
       "      <td>8</td>\n",
       "      <td>9</td>\n",
       "    </tr>\n",
       "    <tr>\n",
       "      <th>3</th>\n",
       "      <td>15</td>\n",
       "      <td>16</td>\n",
       "      <td>17</td>\n",
       "      <td>18</td>\n",
       "      <td>19</td>\n",
       "    </tr>\n",
       "    <tr>\n",
       "      <th>4</th>\n",
       "      <td>20</td>\n",
       "      <td>21</td>\n",
       "      <td>22</td>\n",
       "      <td>23</td>\n",
       "      <td>24</td>\n",
       "    </tr>\n",
       "  </tbody>\n",
       "</table>\n",
       "</div>"
      ],
      "text/plain": [
       "    0   1   2   3   4\n",
       "0   0   1   2   3   4\n",
       "1  10  11  12  13  14\n",
       "2   5   6   7   8   9\n",
       "3  15  16  17  18  19\n",
       "4  20  21  22  23  24"
      ]
     },
     "execution_count": 192,
     "metadata": {},
     "output_type": "execute_result"
    }
   ],
   "source": [
    "#Поменяйте местами строки 1 и 2\n",
    "\n",
    "import pandas as pd\n",
    "import numpy as np\n",
    "\n",
    "df = pd.DataFrame(np.arange(25).reshape(5, -1))\n",
    "df.reindex([0, 2, 1, 3, 4]).reset_index(drop=True)"
   ]
  },
  {
   "cell_type": "code",
   "execution_count": 193,
   "id": "41d7ad80",
   "metadata": {
    "ExecuteTime": {
     "end_time": "2022-05-30T13:25:00.553731Z",
     "start_time": "2022-05-30T13:25:00.544388Z"
    }
   },
   "outputs": [
    {
     "data": {
      "text/html": [
       "<div>\n",
       "<style scoped>\n",
       "    .dataframe tbody tr th:only-of-type {\n",
       "        vertical-align: middle;\n",
       "    }\n",
       "\n",
       "    .dataframe tbody tr th {\n",
       "        vertical-align: top;\n",
       "    }\n",
       "\n",
       "    .dataframe thead th {\n",
       "        text-align: right;\n",
       "    }\n",
       "</style>\n",
       "<table border=\"1\" class=\"dataframe\">\n",
       "  <thead>\n",
       "    <tr style=\"text-align: right;\">\n",
       "      <th></th>\n",
       "      <th>0</th>\n",
       "      <th>1</th>\n",
       "      <th>2</th>\n",
       "      <th>3</th>\n",
       "      <th>4</th>\n",
       "    </tr>\n",
       "  </thead>\n",
       "  <tbody>\n",
       "    <tr>\n",
       "      <th>4</th>\n",
       "      <td>20</td>\n",
       "      <td>21</td>\n",
       "      <td>22</td>\n",
       "      <td>23</td>\n",
       "      <td>24</td>\n",
       "    </tr>\n",
       "    <tr>\n",
       "      <th>3</th>\n",
       "      <td>15</td>\n",
       "      <td>16</td>\n",
       "      <td>17</td>\n",
       "      <td>18</td>\n",
       "      <td>19</td>\n",
       "    </tr>\n",
       "    <tr>\n",
       "      <th>2</th>\n",
       "      <td>10</td>\n",
       "      <td>11</td>\n",
       "      <td>12</td>\n",
       "      <td>13</td>\n",
       "      <td>14</td>\n",
       "    </tr>\n",
       "    <tr>\n",
       "      <th>1</th>\n",
       "      <td>5</td>\n",
       "      <td>6</td>\n",
       "      <td>7</td>\n",
       "      <td>8</td>\n",
       "      <td>9</td>\n",
       "    </tr>\n",
       "    <tr>\n",
       "      <th>0</th>\n",
       "      <td>0</td>\n",
       "      <td>1</td>\n",
       "      <td>2</td>\n",
       "      <td>3</td>\n",
       "      <td>4</td>\n",
       "    </tr>\n",
       "  </tbody>\n",
       "</table>\n",
       "</div>"
      ],
      "text/plain": [
       "    0   1   2   3   4\n",
       "4  20  21  22  23  24\n",
       "3  15  16  17  18  19\n",
       "2  10  11  12  13  14\n",
       "1   5   6   7   8   9\n",
       "0   0   1   2   3   4"
      ]
     },
     "execution_count": 193,
     "metadata": {},
     "output_type": "execute_result"
    }
   ],
   "source": [
    "#Измените порядок строк датафрейма таким образом, чтобы последние стали первыми, а первые последними (reverse).\n",
    "\n",
    "import pandas as pd\n",
    "import numpy as np\n",
    "\n",
    "df = pd.DataFrame(np.arange(25).reshape(5, -1))\n",
    "df.reindex(df.index.sort_values(ascending=False))"
   ]
  },
  {
   "cell_type": "code",
   "execution_count": 194,
   "id": "2e414ba2",
   "metadata": {
    "ExecuteTime": {
     "end_time": "2022-05-30T13:25:00.572214Z",
     "start_time": "2022-05-30T13:25:00.555634Z"
    }
   },
   "outputs": [
    {
     "data": {
      "text/html": [
       "<div>\n",
       "<style scoped>\n",
       "    .dataframe tbody tr th:only-of-type {\n",
       "        vertical-align: middle;\n",
       "    }\n",
       "\n",
       "    .dataframe tbody tr th {\n",
       "        vertical-align: top;\n",
       "    }\n",
       "\n",
       "    .dataframe thead th {\n",
       "        text-align: right;\n",
       "    }\n",
       "</style>\n",
       "<table border=\"1\" class=\"dataframe\">\n",
       "  <thead>\n",
       "    <tr style=\"text-align: right;\">\n",
       "      <th></th>\n",
       "      <th>0</th>\n",
       "      <th>5</th>\n",
       "      <th>10</th>\n",
       "      <th>15</th>\n",
       "      <th>20</th>\n",
       "      <th>b</th>\n",
       "      <th>c</th>\n",
       "      <th>d</th>\n",
       "      <th>e</th>\n",
       "    </tr>\n",
       "  </thead>\n",
       "  <tbody>\n",
       "    <tr>\n",
       "      <th>0</th>\n",
       "      <td>1</td>\n",
       "      <td>0</td>\n",
       "      <td>0</td>\n",
       "      <td>0</td>\n",
       "      <td>0</td>\n",
       "      <td>1</td>\n",
       "      <td>2</td>\n",
       "      <td>3</td>\n",
       "      <td>4</td>\n",
       "    </tr>\n",
       "    <tr>\n",
       "      <th>1</th>\n",
       "      <td>0</td>\n",
       "      <td>1</td>\n",
       "      <td>0</td>\n",
       "      <td>0</td>\n",
       "      <td>0</td>\n",
       "      <td>6</td>\n",
       "      <td>7</td>\n",
       "      <td>8</td>\n",
       "      <td>9</td>\n",
       "    </tr>\n",
       "    <tr>\n",
       "      <th>2</th>\n",
       "      <td>0</td>\n",
       "      <td>0</td>\n",
       "      <td>1</td>\n",
       "      <td>0</td>\n",
       "      <td>0</td>\n",
       "      <td>11</td>\n",
       "      <td>12</td>\n",
       "      <td>13</td>\n",
       "      <td>14</td>\n",
       "    </tr>\n",
       "    <tr>\n",
       "      <th>3</th>\n",
       "      <td>0</td>\n",
       "      <td>0</td>\n",
       "      <td>0</td>\n",
       "      <td>1</td>\n",
       "      <td>0</td>\n",
       "      <td>16</td>\n",
       "      <td>17</td>\n",
       "      <td>18</td>\n",
       "      <td>19</td>\n",
       "    </tr>\n",
       "    <tr>\n",
       "      <th>4</th>\n",
       "      <td>0</td>\n",
       "      <td>0</td>\n",
       "      <td>0</td>\n",
       "      <td>0</td>\n",
       "      <td>1</td>\n",
       "      <td>21</td>\n",
       "      <td>22</td>\n",
       "      <td>23</td>\n",
       "      <td>24</td>\n",
       "    </tr>\n",
       "  </tbody>\n",
       "</table>\n",
       "</div>"
      ],
      "text/plain": [
       "   0  5  10  15  20   b   c   d   e\n",
       "0  1  0   0   0   0   1   2   3   4\n",
       "1  0  1   0   0   0   6   7   8   9\n",
       "2  0  0   1   0   0  11  12  13  14\n",
       "3  0  0   0   1   0  16  17  18  19\n",
       "4  0  0   0   0   1  21  22  23  24"
      ]
     },
     "execution_count": 194,
     "metadata": {},
     "output_type": "execute_result"
    }
   ],
   "source": [
    "#Выполните one-hot encoding для столбца А и добавьте результат к датафрейму\n",
    "\n",
    "import pandas as pd\n",
    "import numpy as np\n",
    "\n",
    "df = pd.DataFrame(np.arange(25).reshape(5, -1), columns=list('abcde'))\n",
    "\n",
    "pd.concat([pd.get_dummies(df['a']), df.reindex(columns=list('bcde'))], axis=1)"
   ]
  },
  {
   "cell_type": "code",
   "execution_count": 195,
   "id": "00d810db",
   "metadata": {
    "ExecuteTime": {
     "end_time": "2022-05-30T13:25:00.585785Z",
     "start_time": "2022-05-30T13:25:00.574290Z"
    }
   },
   "outputs": [
    {
     "data": {
      "text/plain": [
       "3"
      ]
     },
     "execution_count": 195,
     "metadata": {},
     "output_type": "execute_result"
    }
   ],
   "source": [
    "#Определите имя столбца с наибольшим количеством строковых максимумов.\n",
    "\n",
    "import pandas as pd\n",
    "import numpy as np\n",
    "\n",
    "df = pd.DataFrame(\n",
    "    np.random.RandomState(30).randint(1, 100, 40).reshape(10, -1))\n",
    "\n",
    "df.rank(axis=1,\n",
    "        method='max').agg(lambda x: x[x == x.max()].sum()).argsort().max()"
   ]
  },
  {
   "cell_type": "code",
   "execution_count": 196,
   "id": "9f08e017",
   "metadata": {
    "ExecuteTime": {
     "end_time": "2022-05-30T13:25:00.655479Z",
     "start_time": "2022-05-30T13:25:00.587553Z"
    }
   },
   "outputs": [
    {
     "data": {
      "text/html": [
       "<div>\n",
       "<style scoped>\n",
       "    .dataframe tbody tr th:only-of-type {\n",
       "        vertical-align: middle;\n",
       "    }\n",
       "\n",
       "    .dataframe tbody tr th {\n",
       "        vertical-align: top;\n",
       "    }\n",
       "\n",
       "    .dataframe thead th {\n",
       "        text-align: right;\n",
       "    }\n",
       "</style>\n",
       "<table border=\"1\" class=\"dataframe\">\n",
       "  <thead>\n",
       "    <tr style=\"text-align: right;\">\n",
       "      <th></th>\n",
       "      <th>p</th>\n",
       "      <th>q</th>\n",
       "      <th>r</th>\n",
       "      <th>s</th>\n",
       "      <th>nearest_row</th>\n",
       "      <th>dist</th>\n",
       "    </tr>\n",
       "  </thead>\n",
       "  <tbody>\n",
       "    <tr>\n",
       "      <th>a</th>\n",
       "      <td>38</td>\n",
       "      <td>38</td>\n",
       "      <td>46</td>\n",
       "      <td>46</td>\n",
       "      <td>f</td>\n",
       "      <td>61</td>\n",
       "    </tr>\n",
       "    <tr>\n",
       "      <th>b</th>\n",
       "      <td>13</td>\n",
       "      <td>24</td>\n",
       "      <td>3</td>\n",
       "      <td>54</td>\n",
       "      <td>j</td>\n",
       "      <td>100</td>\n",
       "    </tr>\n",
       "    <tr>\n",
       "      <th>c</th>\n",
       "      <td>18</td>\n",
       "      <td>47</td>\n",
       "      <td>4</td>\n",
       "      <td>42</td>\n",
       "      <td>j</td>\n",
       "      <td>97</td>\n",
       "    </tr>\n",
       "    <tr>\n",
       "      <th>d</th>\n",
       "      <td>8</td>\n",
       "      <td>66</td>\n",
       "      <td>50</td>\n",
       "      <td>46</td>\n",
       "      <td>f</td>\n",
       "      <td>96</td>\n",
       "    </tr>\n",
       "    <tr>\n",
       "      <th>e</th>\n",
       "      <td>62</td>\n",
       "      <td>36</td>\n",
       "      <td>19</td>\n",
       "      <td>19</td>\n",
       "      <td>j</td>\n",
       "      <td>103</td>\n",
       "    </tr>\n",
       "    <tr>\n",
       "      <th>f</th>\n",
       "      <td>77</td>\n",
       "      <td>17</td>\n",
       "      <td>7</td>\n",
       "      <td>63</td>\n",
       "      <td>j</td>\n",
       "      <td>107</td>\n",
       "    </tr>\n",
       "    <tr>\n",
       "      <th>g</th>\n",
       "      <td>28</td>\n",
       "      <td>47</td>\n",
       "      <td>46</td>\n",
       "      <td>65</td>\n",
       "      <td>h</td>\n",
       "      <td>71</td>\n",
       "    </tr>\n",
       "    <tr>\n",
       "      <th>h</th>\n",
       "      <td>63</td>\n",
       "      <td>12</td>\n",
       "      <td>16</td>\n",
       "      <td>24</td>\n",
       "      <td>j</td>\n",
       "      <td>110</td>\n",
       "    </tr>\n",
       "    <tr>\n",
       "      <th>i</th>\n",
       "      <td>14</td>\n",
       "      <td>51</td>\n",
       "      <td>34</td>\n",
       "      <td>56</td>\n",
       "      <td>f</td>\n",
       "      <td>77</td>\n",
       "    </tr>\n",
       "    <tr>\n",
       "      <th>j</th>\n",
       "      <td>29</td>\n",
       "      <td>59</td>\n",
       "      <td>92</td>\n",
       "      <td>79</td>\n",
       "      <td>h</td>\n",
       "      <td>110</td>\n",
       "    </tr>\n",
       "  </tbody>\n",
       "</table>\n",
       "</div>"
      ],
      "text/plain": [
       "    p   q   r   s nearest_row  dist\n",
       "a  38  38  46  46           f    61\n",
       "b  13  24   3  54           j   100\n",
       "c  18  47   4  42           j    97\n",
       "d   8  66  50  46           f    96\n",
       "e  62  36  19  19           j   103\n",
       "f  77  17   7  63           j   107\n",
       "g  28  47  46  65           h    71\n",
       "h  63  12  16  24           j   110\n",
       "i  14  51  34  56           f    77\n",
       "j  29  59  92  79           h   110"
      ]
     },
     "execution_count": 196,
     "metadata": {},
     "output_type": "execute_result"
    }
   ],
   "source": [
    "#Создайте новый столбец таким образом, чтобы каждая строка содержала номер ближайшей строки-записи по евклидову расстоянию.\n",
    "\n",
    "import pandas as pd\n",
    "import numpy as np\n",
    "\n",
    "\n",
    "def solution(df):\n",
    "\n",
    "    def foo(x):\n",
    "        return df.apply(lambda y: int(round(np.sqrt(np.sum((x - y)**2)))),\n",
    "                        axis=1)\n",
    "\n",
    "    _df = df.apply(foo, axis=1)\n",
    "    df['nearest_row'] = _df.idxmax()\n",
    "    df['dist'] = _df.max()\n",
    "    return df\n",
    "\n",
    "\n",
    "df = pd.DataFrame(np.random.RandomState(30).randint(1, 100,\n",
    "                                                    40).reshape(10, -1),\n",
    "                  columns=list('pqrs'),\n",
    "                  index=list('abcdefghij'))\n",
    "solution(df)"
   ]
  },
  {
   "cell_type": "code",
   "execution_count": 197,
   "id": "02108984",
   "metadata": {
    "ExecuteTime": {
     "end_time": "2022-05-30T13:25:00.674922Z",
     "start_time": "2022-05-30T13:25:00.658530Z"
    }
   },
   "outputs": [
    {
     "data": {
      "text/plain": [
       "array([0.77, 0.64, 0.77, 0.85, 0.62, 0.85, 0.62, 0.67, 0.44, 0.62])"
      ]
     },
     "execution_count": 197,
     "metadata": {},
     "output_type": "execute_result"
    }
   ],
   "source": [
    "#Определите максимально возможное значение корреляции каждого столбца по сравнению с другими столбцами датафрейма.\n",
    "\n",
    "import numpy as np\n",
    "import pandas as pd\n",
    "\n",
    "df = pd.DataFrame(np.random.RandomState(25).randint(1, 100, 80).reshape(8, -1),\n",
    "                  columns=list('pqrstuvwxy'),\n",
    "                  index=list('abcdefgh'))\n",
    "\n",
    "_df = df.corr().round(2).abs()\n",
    "_df[_df < 1].max().to_numpy()"
   ]
  },
  {
   "cell_type": "code",
   "execution_count": 198,
   "id": "a5c155d2",
   "metadata": {
    "ExecuteTime": {
     "end_time": "2022-05-30T13:25:00.687257Z",
     "start_time": "2022-05-30T13:25:00.678519Z"
    }
   },
   "outputs": [
    {
     "data": {
      "text/plain": [
       "0    0.054945\n",
       "1    0.022222\n",
       "2    0.023529\n",
       "3    0.022989\n",
       "4    0.030303\n",
       "5    0.032967\n",
       "6    0.170455\n",
       "7    0.164835\n",
       "dtype: float64"
      ]
     },
     "execution_count": 198,
     "metadata": {},
     "output_type": "execute_result"
    }
   ],
   "source": [
    "#Определите отношение минимума к максимуму для каждой строки.\n",
    "\n",
    "import pandas as pd\n",
    "import numpy as np\n",
    "\n",
    "df = pd.DataFrame(np.random.RandomState(25).randint(1, 100, 80).reshape(8, -1))\n",
    "\n",
    "df.min(axis=1) / df.max(axis=1)"
   ]
  },
  {
   "cell_type": "code",
   "execution_count": 199,
   "id": "47ddac17",
   "metadata": {
    "ExecuteTime": {
     "end_time": "2022-05-30T13:25:00.721104Z",
     "start_time": "2022-05-30T13:25:00.689159Z"
    }
   },
   "outputs": [
    {
     "data": {
      "text/html": [
       "<div>\n",
       "<style scoped>\n",
       "    .dataframe tbody tr th:only-of-type {\n",
       "        vertical-align: middle;\n",
       "    }\n",
       "\n",
       "    .dataframe tbody tr th {\n",
       "        vertical-align: top;\n",
       "    }\n",
       "\n",
       "    .dataframe thead th {\n",
       "        text-align: right;\n",
       "    }\n",
       "</style>\n",
       "<table border=\"1\" class=\"dataframe\">\n",
       "  <thead>\n",
       "    <tr style=\"text-align: right;\">\n",
       "      <th></th>\n",
       "      <th>0</th>\n",
       "      <th>1</th>\n",
       "      <th>2</th>\n",
       "      <th>3</th>\n",
       "      <th>4</th>\n",
       "      <th>5</th>\n",
       "      <th>6</th>\n",
       "      <th>7</th>\n",
       "      <th>8</th>\n",
       "      <th>9</th>\n",
       "      <th>penultimate</th>\n",
       "    </tr>\n",
       "  </thead>\n",
       "  <tbody>\n",
       "    <tr>\n",
       "      <th>0</th>\n",
       "      <td>5</td>\n",
       "      <td>63</td>\n",
       "      <td>91</td>\n",
       "      <td>16</td>\n",
       "      <td>62</td>\n",
       "      <td>24</td>\n",
       "      <td>45</td>\n",
       "      <td>51</td>\n",
       "      <td>9</td>\n",
       "      <td>29</td>\n",
       "      <td>63</td>\n",
       "    </tr>\n",
       "    <tr>\n",
       "      <th>1</th>\n",
       "      <td>5</td>\n",
       "      <td>90</td>\n",
       "      <td>32</td>\n",
       "      <td>70</td>\n",
       "      <td>2</td>\n",
       "      <td>40</td>\n",
       "      <td>4</td>\n",
       "      <td>89</td>\n",
       "      <td>56</td>\n",
       "      <td>4</td>\n",
       "      <td>89</td>\n",
       "    </tr>\n",
       "    <tr>\n",
       "      <th>2</th>\n",
       "      <td>85</td>\n",
       "      <td>46</td>\n",
       "      <td>4</td>\n",
       "      <td>2</td>\n",
       "      <td>23</td>\n",
       "      <td>32</td>\n",
       "      <td>49</td>\n",
       "      <td>48</td>\n",
       "      <td>74</td>\n",
       "      <td>17</td>\n",
       "      <td>74</td>\n",
       "    </tr>\n",
       "    <tr>\n",
       "      <th>3</th>\n",
       "      <td>51</td>\n",
       "      <td>86</td>\n",
       "      <td>37</td>\n",
       "      <td>10</td>\n",
       "      <td>33</td>\n",
       "      <td>11</td>\n",
       "      <td>61</td>\n",
       "      <td>48</td>\n",
       "      <td>2</td>\n",
       "      <td>87</td>\n",
       "      <td>86</td>\n",
       "    </tr>\n",
       "    <tr>\n",
       "      <th>4</th>\n",
       "      <td>92</td>\n",
       "      <td>50</td>\n",
       "      <td>19</td>\n",
       "      <td>93</td>\n",
       "      <td>37</td>\n",
       "      <td>99</td>\n",
       "      <td>31</td>\n",
       "      <td>39</td>\n",
       "      <td>3</td>\n",
       "      <td>6</td>\n",
       "      <td>93</td>\n",
       "    </tr>\n",
       "    <tr>\n",
       "      <th>5</th>\n",
       "      <td>58</td>\n",
       "      <td>74</td>\n",
       "      <td>23</td>\n",
       "      <td>12</td>\n",
       "      <td>3</td>\n",
       "      <td>44</td>\n",
       "      <td>91</td>\n",
       "      <td>62</td>\n",
       "      <td>85</td>\n",
       "      <td>84</td>\n",
       "      <td>85</td>\n",
       "    </tr>\n",
       "    <tr>\n",
       "      <th>6</th>\n",
       "      <td>75</td>\n",
       "      <td>18</td>\n",
       "      <td>15</td>\n",
       "      <td>84</td>\n",
       "      <td>38</td>\n",
       "      <td>88</td>\n",
       "      <td>51</td>\n",
       "      <td>52</td>\n",
       "      <td>15</td>\n",
       "      <td>72</td>\n",
       "      <td>84</td>\n",
       "    </tr>\n",
       "    <tr>\n",
       "      <th>7</th>\n",
       "      <td>63</td>\n",
       "      <td>91</td>\n",
       "      <td>16</td>\n",
       "      <td>15</td>\n",
       "      <td>77</td>\n",
       "      <td>40</td>\n",
       "      <td>89</td>\n",
       "      <td>47</td>\n",
       "      <td>54</td>\n",
       "      <td>30</td>\n",
       "      <td>89</td>\n",
       "    </tr>\n",
       "  </tbody>\n",
       "</table>\n",
       "</div>"
      ],
      "text/plain": [
       "    0   1   2   3   4   5   6   7   8   9  penultimate\n",
       "0   5  63  91  16  62  24  45  51   9  29           63\n",
       "1   5  90  32  70   2  40   4  89  56   4           89\n",
       "2  85  46   4   2  23  32  49  48  74  17           74\n",
       "3  51  86  37  10  33  11  61  48   2  87           86\n",
       "4  92  50  19  93  37  99  31  39   3   6           93\n",
       "5  58  74  23  12   3  44  91  62  85  84           85\n",
       "6  75  18  15  84  38  88  51  52  15  72           84\n",
       "7  63  91  16  15  77  40  89  47  54  30           89"
      ]
     },
     "execution_count": 199,
     "metadata": {},
     "output_type": "execute_result"
    }
   ],
   "source": [
    "#Создайте новый столбец penultimate (с англ. предпоследний), который имеет второе по величине значение каждой строки датафрейма:\n",
    "\n",
    "import pandas as pd\n",
    "import numpy as np\n",
    "\n",
    "df = pd.DataFrame(np.random.RandomState(25).randint(1, 100, 80).reshape(8, -1))\n",
    "df['penultimate'] = df.apply(lambda x: x.nlargest(2).min(), axis=1)\n",
    "df"
   ]
  },
  {
   "cell_type": "code",
   "execution_count": 200,
   "id": "555d5593",
   "metadata": {
    "ExecuteTime": {
     "end_time": "2022-05-30T13:25:00.754972Z",
     "start_time": "2022-05-30T13:25:00.722819Z"
    }
   },
   "outputs": [
    {
     "data": {
      "text/html": [
       "<div>\n",
       "<style scoped>\n",
       "    .dataframe tbody tr th:only-of-type {\n",
       "        vertical-align: middle;\n",
       "    }\n",
       "\n",
       "    .dataframe tbody tr th {\n",
       "        vertical-align: top;\n",
       "    }\n",
       "\n",
       "    .dataframe thead th {\n",
       "        text-align: right;\n",
       "    }\n",
       "</style>\n",
       "<table border=\"1\" class=\"dataframe\">\n",
       "  <thead>\n",
       "    <tr style=\"text-align: right;\">\n",
       "      <th></th>\n",
       "      <th>0</th>\n",
       "      <th>1</th>\n",
       "      <th>2</th>\n",
       "      <th>3</th>\n",
       "      <th>4</th>\n",
       "      <th>5</th>\n",
       "      <th>6</th>\n",
       "      <th>7</th>\n",
       "      <th>8</th>\n",
       "      <th>9</th>\n",
       "    </tr>\n",
       "  </thead>\n",
       "  <tbody>\n",
       "    <tr>\n",
       "      <th>0</th>\n",
       "      <td>1.47</td>\n",
       "      <td>-1.13</td>\n",
       "      <td>1.31</td>\n",
       "      <td>-0.59</td>\n",
       "      <td>1.38</td>\n",
       "      <td>-1.00</td>\n",
       "      <td>-1.27</td>\n",
       "      <td>0.98</td>\n",
       "      <td>-0.46</td>\n",
       "      <td>0.59</td>\n",
       "    </tr>\n",
       "    <tr>\n",
       "      <th>1</th>\n",
       "      <td>-0.23</td>\n",
       "      <td>1.07</td>\n",
       "      <td>-0.50</td>\n",
       "      <td>1.08</td>\n",
       "      <td>1.38</td>\n",
       "      <td>-0.47</td>\n",
       "      <td>1.03</td>\n",
       "      <td>-0.97</td>\n",
       "      <td>0.72</td>\n",
       "      <td>-1.08</td>\n",
       "    </tr>\n",
       "    <tr>\n",
       "      <th>2</th>\n",
       "      <td>-1.05</td>\n",
       "      <td>1.12</td>\n",
       "      <td>-1.62</td>\n",
       "      <td>-0.65</td>\n",
       "      <td>-0.69</td>\n",
       "      <td>1.07</td>\n",
       "      <td>0.12</td>\n",
       "      <td>-0.67</td>\n",
       "      <td>-1.02</td>\n",
       "      <td>0.68</td>\n",
       "    </tr>\n",
       "    <tr>\n",
       "      <th>3</th>\n",
       "      <td>1.02</td>\n",
       "      <td>0.12</td>\n",
       "      <td>0.72</td>\n",
       "      <td>1.02</td>\n",
       "      <td>0.50</td>\n",
       "      <td>1.67</td>\n",
       "      <td>-0.83</td>\n",
       "      <td>-1.17</td>\n",
       "      <td>-0.93</td>\n",
       "      <td>0.71</td>\n",
       "    </tr>\n",
       "    <tr>\n",
       "      <th>4</th>\n",
       "      <td>-0.71</td>\n",
       "      <td>-1.45</td>\n",
       "      <td>0.72</td>\n",
       "      <td>-0.92</td>\n",
       "      <td>0.12</td>\n",
       "      <td>-0.78</td>\n",
       "      <td>-1.34</td>\n",
       "      <td>1.11</td>\n",
       "      <td>1.55</td>\n",
       "      <td>0.23</td>\n",
       "    </tr>\n",
       "    <tr>\n",
       "      <th>5</th>\n",
       "      <td>0.89</td>\n",
       "      <td>0.50</td>\n",
       "      <td>-0.86</td>\n",
       "      <td>-0.10</td>\n",
       "      <td>-0.87</td>\n",
       "      <td>0.70</td>\n",
       "      <td>0.85</td>\n",
       "      <td>-0.71</td>\n",
       "      <td>-0.58</td>\n",
       "      <td>1.26</td>\n",
       "    </tr>\n",
       "    <tr>\n",
       "      <th>6</th>\n",
       "      <td>-0.26</td>\n",
       "      <td>0.58</td>\n",
       "      <td>-0.43</td>\n",
       "      <td>1.34</td>\n",
       "      <td>-0.95</td>\n",
       "      <td>-0.72</td>\n",
       "      <td>0.56</td>\n",
       "      <td>0.22</td>\n",
       "      <td>-0.46</td>\n",
       "      <td>-1.14</td>\n",
       "    </tr>\n",
       "    <tr>\n",
       "      <th>7</th>\n",
       "      <td>-1.14</td>\n",
       "      <td>-0.80</td>\n",
       "      <td>0.66</td>\n",
       "      <td>-1.18</td>\n",
       "      <td>-0.87</td>\n",
       "      <td>-0.47</td>\n",
       "      <td>0.89</td>\n",
       "      <td>1.21</td>\n",
       "      <td>1.19</td>\n",
       "      <td>-1.26</td>\n",
       "    </tr>\n",
       "  </tbody>\n",
       "</table>\n",
       "</div>"
      ],
      "text/plain": [
       "      0     1     2     3     4     5     6     7     8     9\n",
       "0  1.47 -1.13  1.31 -0.59  1.38 -1.00 -1.27  0.98 -0.46  0.59\n",
       "1 -0.23  1.07 -0.50  1.08  1.38 -0.47  1.03 -0.97  0.72 -1.08\n",
       "2 -1.05  1.12 -1.62 -0.65 -0.69  1.07  0.12 -0.67 -1.02  0.68\n",
       "3  1.02  0.12  0.72  1.02  0.50  1.67 -0.83 -1.17 -0.93  0.71\n",
       "4 -0.71 -1.45  0.72 -0.92  0.12 -0.78 -1.34  1.11  1.55  0.23\n",
       "5  0.89  0.50 -0.86 -0.10 -0.87  0.70  0.85 -0.71 -0.58  1.26\n",
       "6 -0.26  0.58 -0.43  1.34 -0.95 -0.72  0.56  0.22 -0.46 -1.14\n",
       "7 -1.14 -0.80  0.66 -1.18 -0.87 -0.47  0.89  1.21  1.19 -1.26"
      ]
     },
     "execution_count": 200,
     "metadata": {},
     "output_type": "execute_result"
    }
   ],
   "source": [
    "#Нормализуйте все столбцы датафрейма, вычитая среднее значение столбца и разделив на стандартное отклонение:\n",
    "\n",
    "import numpy as np\n",
    "import pandas as pd\n",
    "\n",
    "df = pd.DataFrame(np.random.RandomState(20).randint(1, 100, 80).reshape(8, -1))\n",
    "df\n",
    "round((df - df.mean()) / df.std(), 2)"
   ]
  },
  {
   "cell_type": "markdown",
   "id": "28c47997",
   "metadata": {},
   "source": [
    "# Step 1.8"
   ]
  },
  {
   "cell_type": "code",
   "execution_count": 201,
   "id": "a500262f",
   "metadata": {
    "ExecuteTime": {
     "end_time": "2022-05-30T13:25:00.776057Z",
     "start_time": "2022-05-30T13:25:00.757407Z"
    }
   },
   "outputs": [
    {
     "data": {
      "text/html": [
       "<div>\n",
       "<style scoped>\n",
       "    .dataframe tbody tr th:only-of-type {\n",
       "        vertical-align: middle;\n",
       "    }\n",
       "\n",
       "    .dataframe tbody tr th {\n",
       "        vertical-align: top;\n",
       "    }\n",
       "\n",
       "    .dataframe thead th {\n",
       "        text-align: right;\n",
       "    }\n",
       "</style>\n",
       "<table border=\"1\" class=\"dataframe\">\n",
       "  <thead>\n",
       "    <tr style=\"text-align: right;\">\n",
       "      <th></th>\n",
       "      <th>user_name</th>\n",
       "      <th>user_tags</th>\n",
       "      <th>user_main_tag</th>\n",
       "    </tr>\n",
       "  </thead>\n",
       "  <tbody>\n",
       "    <tr>\n",
       "      <th>0</th>\n",
       "      <td>Ivan 007</td>\n",
       "      <td>['sport', 'law', 'cars']</td>\n",
       "      <td>sport</td>\n",
       "    </tr>\n",
       "    <tr>\n",
       "      <th>1</th>\n",
       "      <td>Petr 911</td>\n",
       "      <td>['cars', 'law', 'girls']</td>\n",
       "      <td>cars</td>\n",
       "    </tr>\n",
       "    <tr>\n",
       "      <th>2</th>\n",
       "      <td>Nikolay 112</td>\n",
       "      <td>['law', 'travels', 'cars']</td>\n",
       "      <td>law</td>\n",
       "    </tr>\n",
       "  </tbody>\n",
       "</table>\n",
       "</div>"
      ],
      "text/plain": [
       "     user_name                   user_tags user_main_tag\n",
       "0     Ivan 007    ['sport', 'law', 'cars']         sport\n",
       "1     Petr 911    ['cars', 'law', 'girls']          cars\n",
       "2  Nikolay 112  ['law', 'travels', 'cars']           law"
      ]
     },
     "execution_count": 201,
     "metadata": {},
     "output_type": "execute_result"
    }
   ],
   "source": [
    "# Для вас подготовлен датафрейм содержащий имена пользователей и их теги.\n",
    "# Ваша задача заключается в том чтобы вытянуть самый первый тег из списка и сформировать отдельную колонку:\n",
    "\n",
    "import pandas as pd\n",
    "\n",
    "\n",
    "def solution(df):\n",
    "    #df[\"user_main_tag\"] = df.apply(lambda x: x.str.replace(r\"^\\['(\\w+)'.*\", \"\\g<1>\", regex=True)[\"user_tags\"], axis=1)\n",
    "    df['user_main_tag'] = df['user_tags'].apply(lambda x: eval(x)[0])\n",
    "    return df\n",
    "\n",
    "\n",
    "df = pd.DataFrame({\n",
    "    'user_name': {\n",
    "        '0': 'Ivan 007',\n",
    "        '1': 'Petr 911',\n",
    "        '2': 'Nikolay 112'\n",
    "    },\n",
    "    'user_tags': {\n",
    "        '0': \"['sport', 'law', 'cars']\",\n",
    "        '1': \"['cars', 'law', 'girls']\",\n",
    "        '2': \"['law', 'travels', 'cars']\"\n",
    "    }\n",
    "})\n",
    "solution(df)"
   ]
  },
  {
   "cell_type": "code",
   "execution_count": 202,
   "id": "7d62bd87",
   "metadata": {
    "ExecuteTime": {
     "end_time": "2022-05-30T13:25:00.800848Z",
     "start_time": "2022-05-30T13:25:00.781179Z"
    }
   },
   "outputs": [
    {
     "data": {
      "text/html": [
       "<div>\n",
       "<style scoped>\n",
       "    .dataframe tbody tr th:only-of-type {\n",
       "        vertical-align: middle;\n",
       "    }\n",
       "\n",
       "    .dataframe tbody tr th {\n",
       "        vertical-align: top;\n",
       "    }\n",
       "\n",
       "    .dataframe thead th {\n",
       "        text-align: right;\n",
       "    }\n",
       "</style>\n",
       "<table border=\"1\" class=\"dataframe\">\n",
       "  <thead>\n",
       "    <tr style=\"text-align: right;\">\n",
       "      <th></th>\n",
       "      <th>From_To</th>\n",
       "      <th>FlightNumber</th>\n",
       "      <th>RecentDelays</th>\n",
       "      <th>Airline</th>\n",
       "    </tr>\n",
       "  </thead>\n",
       "  <tbody>\n",
       "    <tr>\n",
       "      <th>0</th>\n",
       "      <td>LoNDon_paris</td>\n",
       "      <td>10045</td>\n",
       "      <td>[23, 47]</td>\n",
       "      <td>KLM(!)</td>\n",
       "    </tr>\n",
       "    <tr>\n",
       "      <th>1</th>\n",
       "      <td>MAdrid_miLAN</td>\n",
       "      <td>10055</td>\n",
       "      <td>[]</td>\n",
       "      <td>&lt;Air France&gt; (12)</td>\n",
       "    </tr>\n",
       "    <tr>\n",
       "      <th>2</th>\n",
       "      <td>londON_StockhOlm</td>\n",
       "      <td>10065</td>\n",
       "      <td>[24, 43, 87]</td>\n",
       "      <td>(British Airways. )</td>\n",
       "    </tr>\n",
       "    <tr>\n",
       "      <th>3</th>\n",
       "      <td>Budapest_PaRis</td>\n",
       "      <td>10075</td>\n",
       "      <td>[13]</td>\n",
       "      <td>12. Air France</td>\n",
       "    </tr>\n",
       "    <tr>\n",
       "      <th>4</th>\n",
       "      <td>Brussels_londOn</td>\n",
       "      <td>10085</td>\n",
       "      <td>[67, 32]</td>\n",
       "      <td>\"Swiss Air\"</td>\n",
       "    </tr>\n",
       "  </tbody>\n",
       "</table>\n",
       "</div>"
      ],
      "text/plain": [
       "            From_To  FlightNumber  RecentDelays              Airline\n",
       "0      LoNDon_paris         10045      [23, 47]               KLM(!)\n",
       "1      MAdrid_miLAN         10055            []    <Air France> (12)\n",
       "2  londON_StockhOlm         10065  [24, 43, 87]  (British Airways. )\n",
       "3    Budapest_PaRis         10075          [13]       12. Air France\n",
       "4   Brussels_londOn         10085      [67, 32]          \"Swiss Air\""
      ]
     },
     "execution_count": 202,
     "metadata": {},
     "output_type": "execute_result"
    }
   ],
   "source": [
    "# Некоторые значения в столбце FlightNumber отсутствуют.\n",
    "# Значения в столбце должны увеличиваться на 10 с каждой строкой, поэтому в пропусках необходимо установить 10055 и 10075.\n",
    "# Заполните эти недостающие числа и измените тип столбца с float на int\n",
    "\n",
    "import pandas as pd\n",
    "import numpy as np\n",
    "\n",
    "\n",
    "def solution(df):\n",
    "    df[\"FlightNumber\"] = df[\"FlightNumber\"].interpolate().astype(\"int\")\n",
    "    return df\n",
    "\n",
    "\n",
    "df = pd.DataFrame({\n",
    "    'From_To': {\n",
    "        0: 'LoNDon_paris',\n",
    "        1: 'MAdrid_miLAN',\n",
    "        2: 'londON_StockhOlm',\n",
    "        3: 'Budapest_PaRis',\n",
    "        4: 'Brussels_londOn'\n",
    "    },\n",
    "    'FlightNumber': {\n",
    "        0: 10045.0,\n",
    "        1: np.nan,\n",
    "        2: 10065.0,\n",
    "        3: np.nan,\n",
    "        4: 10085.0\n",
    "    },\n",
    "    'RecentDelays': {\n",
    "        0: [23, 47],\n",
    "        1: [],\n",
    "        2: [24, 43, 87],\n",
    "        3: [13],\n",
    "        4: [67, 32]\n",
    "    },\n",
    "    'Airline': {\n",
    "        0: 'KLM(!)',\n",
    "        1: '<Air France> (12)',\n",
    "        2: '(British Airways. )',\n",
    "        3: '12. Air France',\n",
    "        4: '\"Swiss Air\"'\n",
    "    }\n",
    "})\n",
    "\n",
    "solution(df)"
   ]
  },
  {
   "cell_type": "code",
   "execution_count": 203,
   "id": "6d553579",
   "metadata": {
    "ExecuteTime": {
     "end_time": "2022-05-30T13:25:00.830287Z",
     "start_time": "2022-05-30T13:25:00.803359Z"
    }
   },
   "outputs": [
    {
     "data": {
      "text/html": [
       "<div>\n",
       "<style scoped>\n",
       "    .dataframe tbody tr th:only-of-type {\n",
       "        vertical-align: middle;\n",
       "    }\n",
       "\n",
       "    .dataframe tbody tr th {\n",
       "        vertical-align: top;\n",
       "    }\n",
       "\n",
       "    .dataframe thead th {\n",
       "        text-align: right;\n",
       "    }\n",
       "</style>\n",
       "<table border=\"1\" class=\"dataframe\">\n",
       "  <thead>\n",
       "    <tr style=\"text-align: right;\">\n",
       "      <th></th>\n",
       "      <th>FlightNumber</th>\n",
       "      <th>RecentDelays</th>\n",
       "      <th>Airline</th>\n",
       "      <th>From</th>\n",
       "      <th>To</th>\n",
       "    </tr>\n",
       "  </thead>\n",
       "  <tbody>\n",
       "    <tr>\n",
       "      <th>0</th>\n",
       "      <td>10045.0</td>\n",
       "      <td>[23, 47]</td>\n",
       "      <td>KLM(!)</td>\n",
       "      <td>London</td>\n",
       "      <td>Paris</td>\n",
       "    </tr>\n",
       "    <tr>\n",
       "      <th>1</th>\n",
       "      <td>NaN</td>\n",
       "      <td>[]</td>\n",
       "      <td>&lt;Air France&gt; (12)</td>\n",
       "      <td>Madrid</td>\n",
       "      <td>Milan</td>\n",
       "    </tr>\n",
       "    <tr>\n",
       "      <th>2</th>\n",
       "      <td>10065.0</td>\n",
       "      <td>[24, 43, 87]</td>\n",
       "      <td>(British Airways. )</td>\n",
       "      <td>London</td>\n",
       "      <td>Stockholm</td>\n",
       "    </tr>\n",
       "    <tr>\n",
       "      <th>3</th>\n",
       "      <td>NaN</td>\n",
       "      <td>[13]</td>\n",
       "      <td>12. Air France</td>\n",
       "      <td>Budapest</td>\n",
       "      <td>Paris</td>\n",
       "    </tr>\n",
       "    <tr>\n",
       "      <th>4</th>\n",
       "      <td>10085.0</td>\n",
       "      <td>[67, 32]</td>\n",
       "      <td>\"Swiss Air\"</td>\n",
       "      <td>Brussels</td>\n",
       "      <td>London</td>\n",
       "    </tr>\n",
       "  </tbody>\n",
       "</table>\n",
       "</div>"
      ],
      "text/plain": [
       "   FlightNumber  RecentDelays              Airline      From         To\n",
       "0       10045.0      [23, 47]               KLM(!)    London      Paris\n",
       "1           NaN            []    <Air France> (12)    Madrid      Milan\n",
       "2       10065.0  [24, 43, 87]  (British Airways. )    London  Stockholm\n",
       "3           NaN          [13]       12. Air France  Budapest      Paris\n",
       "4       10085.0      [67, 32]          \"Swiss Air\"  Brussels     London"
      ]
     },
     "execution_count": 203,
     "metadata": {},
     "output_type": "execute_result"
    }
   ],
   "source": [
    "# Разбейте данные из столбца From_To на два столбца From и То. Исходный столбец удалите.\n",
    "\n",
    "import pandas as pd\n",
    "import numpy as np\n",
    "\n",
    "\n",
    "def solution(df):\n",
    "    df = pd.concat([\n",
    "        df.drop(columns=[\"From_To\"]), df[\"From_To\"].str.extract(\n",
    "            r'(?P<From>.*?)_(?P<To>.*)').apply(lambda x: x.str.capitalize())\n",
    "    ],\n",
    "                   axis=1)\n",
    "    return df\n",
    "\n",
    "\n",
    "df = pd.DataFrame({\n",
    "    'From_To': {\n",
    "        0: 'LoNDon_paris',\n",
    "        1: 'MAdrid_miLAN',\n",
    "        2: 'londON_StockhOlm',\n",
    "        3: 'Budapest_PaRis',\n",
    "        4: 'Brussels_londOn'\n",
    "    },\n",
    "    'FlightNumber': {\n",
    "        0: 10045.0,\n",
    "        1: np.nan,\n",
    "        2: 10065.0,\n",
    "        3: np.nan,\n",
    "        4: 10085.0\n",
    "    },\n",
    "    'RecentDelays': {\n",
    "        0: [23, 47],\n",
    "        1: [],\n",
    "        2: [24, 43, 87],\n",
    "        3: [13],\n",
    "        4: [67, 32]\n",
    "    },\n",
    "    'Airline': {\n",
    "        0: 'KLM(!)',\n",
    "        1: '<Air France> (12)',\n",
    "        2: '(British Airways. )',\n",
    "        3: '12. Air France',\n",
    "        4: '\"Swiss Air\"'\n",
    "    }\n",
    "})\n",
    "\n",
    "solution(df)"
   ]
  },
  {
   "cell_type": "code",
   "execution_count": 204,
   "id": "358e4a33",
   "metadata": {
    "ExecuteTime": {
     "end_time": "2022-05-30T13:25:00.854345Z",
     "start_time": "2022-05-30T13:25:00.832517Z"
    }
   },
   "outputs": [
    {
     "data": {
      "text/html": [
       "<div>\n",
       "<style scoped>\n",
       "    .dataframe tbody tr th:only-of-type {\n",
       "        vertical-align: middle;\n",
       "    }\n",
       "\n",
       "    .dataframe tbody tr th {\n",
       "        vertical-align: top;\n",
       "    }\n",
       "\n",
       "    .dataframe thead th {\n",
       "        text-align: right;\n",
       "    }\n",
       "</style>\n",
       "<table border=\"1\" class=\"dataframe\">\n",
       "  <thead>\n",
       "    <tr style=\"text-align: right;\">\n",
       "      <th></th>\n",
       "      <th>From_To</th>\n",
       "      <th>FlightNumber</th>\n",
       "      <th>RecentDelays</th>\n",
       "      <th>Airline</th>\n",
       "    </tr>\n",
       "  </thead>\n",
       "  <tbody>\n",
       "    <tr>\n",
       "      <th>0</th>\n",
       "      <td>LoNDon_paris</td>\n",
       "      <td>10045.0</td>\n",
       "      <td>[23, 47]</td>\n",
       "      <td>KLM</td>\n",
       "    </tr>\n",
       "    <tr>\n",
       "      <th>1</th>\n",
       "      <td>MAdrid_miLAN</td>\n",
       "      <td>NaN</td>\n",
       "      <td>[]</td>\n",
       "      <td>Air France</td>\n",
       "    </tr>\n",
       "    <tr>\n",
       "      <th>2</th>\n",
       "      <td>londON_StockhOlm</td>\n",
       "      <td>10065.0</td>\n",
       "      <td>[24, 43, 87]</td>\n",
       "      <td>British Airways</td>\n",
       "    </tr>\n",
       "    <tr>\n",
       "      <th>3</th>\n",
       "      <td>Budapest_PaRis</td>\n",
       "      <td>NaN</td>\n",
       "      <td>[13]</td>\n",
       "      <td>Air France</td>\n",
       "    </tr>\n",
       "    <tr>\n",
       "      <th>4</th>\n",
       "      <td>Brussels_londOn</td>\n",
       "      <td>10085.0</td>\n",
       "      <td>[67, 32]</td>\n",
       "      <td>Swiss Air</td>\n",
       "    </tr>\n",
       "  </tbody>\n",
       "</table>\n",
       "</div>"
      ],
      "text/plain": [
       "            From_To  FlightNumber  RecentDelays          Airline\n",
       "0      LoNDon_paris       10045.0      [23, 47]              KLM\n",
       "1      MAdrid_miLAN           NaN            []       Air France\n",
       "2  londON_StockhOlm       10065.0  [24, 43, 87]  British Airways\n",
       "3    Budapest_PaRis           NaN          [13]       Air France\n",
       "4   Brussels_londOn       10085.0      [67, 32]        Swiss Air"
      ]
     },
     "execution_count": 204,
     "metadata": {},
     "output_type": "execute_result"
    }
   ],
   "source": [
    "# В столбце Airline содержатся наименования авиакомпаний.\n",
    "# Можно заметить, что в названиях присутствуют 'лишние' символы. Выполните преобразование столбца Airline:\n",
    "\n",
    "import pandas as pd\n",
    "import numpy as np\n",
    "\n",
    "\n",
    "def solution(df):\n",
    "    df[\"Airline\"] = df[\"Airline\"].replace(r'[^a-zA-Z\\s]', '',\n",
    "                                          regex=True).str.strip()\n",
    "    return df\n",
    "\n",
    "\n",
    "df = pd.DataFrame({\n",
    "    'From_To': {\n",
    "        0: 'LoNDon_paris',\n",
    "        1: 'MAdrid_miLAN',\n",
    "        2: 'londON_StockhOlm',\n",
    "        3: 'Budapest_PaRis',\n",
    "        4: 'Brussels_londOn'\n",
    "    },\n",
    "    'FlightNumber': {\n",
    "        0: 10045.0,\n",
    "        1: np.nan,\n",
    "        2: 10065.0,\n",
    "        3: np.nan,\n",
    "        4: 10085.0\n",
    "    },\n",
    "    'RecentDelays': {\n",
    "        0: [23, 47],\n",
    "        1: [],\n",
    "        2: [24, 43, 87],\n",
    "        3: [13],\n",
    "        4: [67, 32]\n",
    "    },\n",
    "    'Airline': {\n",
    "        0: 'KLM(!)',\n",
    "        1: '<Air France> (12)',\n",
    "        2: '(British Airways. )',\n",
    "        3: '12. Air France',\n",
    "        4: '\"Swiss Air\"'\n",
    "    }\n",
    "})\n",
    "\n",
    "solution(df)"
   ]
  },
  {
   "cell_type": "code",
   "execution_count": 205,
   "id": "52084bb0",
   "metadata": {
    "ExecuteTime": {
     "end_time": "2022-05-30T13:25:00.892627Z",
     "start_time": "2022-05-30T13:25:00.855953Z"
    }
   },
   "outputs": [
    {
     "data": {
      "text/html": [
       "<div>\n",
       "<style scoped>\n",
       "    .dataframe tbody tr th:only-of-type {\n",
       "        vertical-align: middle;\n",
       "    }\n",
       "\n",
       "    .dataframe tbody tr th {\n",
       "        vertical-align: top;\n",
       "    }\n",
       "\n",
       "    .dataframe thead th {\n",
       "        text-align: right;\n",
       "    }\n",
       "</style>\n",
       "<table border=\"1\" class=\"dataframe\">\n",
       "  <thead>\n",
       "    <tr style=\"text-align: right;\">\n",
       "      <th></th>\n",
       "      <th>From_To</th>\n",
       "      <th>FlightNumber</th>\n",
       "      <th>Airline</th>\n",
       "      <th>delay_1</th>\n",
       "      <th>delay_2</th>\n",
       "      <th>delay_3</th>\n",
       "    </tr>\n",
       "  </thead>\n",
       "  <tbody>\n",
       "    <tr>\n",
       "      <th>0</th>\n",
       "      <td>LoNDon_paris</td>\n",
       "      <td>10045.0</td>\n",
       "      <td>KLM(!)</td>\n",
       "      <td>23.0</td>\n",
       "      <td>47.0</td>\n",
       "      <td>NaN</td>\n",
       "    </tr>\n",
       "    <tr>\n",
       "      <th>1</th>\n",
       "      <td>MAdrid_miLAN</td>\n",
       "      <td>NaN</td>\n",
       "      <td>&lt;Air France&gt; (12)</td>\n",
       "      <td>NaN</td>\n",
       "      <td>NaN</td>\n",
       "      <td>NaN</td>\n",
       "    </tr>\n",
       "    <tr>\n",
       "      <th>2</th>\n",
       "      <td>londON_StockhOlm</td>\n",
       "      <td>10065.0</td>\n",
       "      <td>(British Airways. )</td>\n",
       "      <td>24.0</td>\n",
       "      <td>43.0</td>\n",
       "      <td>87.0</td>\n",
       "    </tr>\n",
       "    <tr>\n",
       "      <th>3</th>\n",
       "      <td>Budapest_PaRis</td>\n",
       "      <td>NaN</td>\n",
       "      <td>12. Air France</td>\n",
       "      <td>13.0</td>\n",
       "      <td>NaN</td>\n",
       "      <td>NaN</td>\n",
       "    </tr>\n",
       "    <tr>\n",
       "      <th>4</th>\n",
       "      <td>Brussels_londOn</td>\n",
       "      <td>10085.0</td>\n",
       "      <td>\"Swiss Air\"</td>\n",
       "      <td>67.0</td>\n",
       "      <td>32.0</td>\n",
       "      <td>NaN</td>\n",
       "    </tr>\n",
       "  </tbody>\n",
       "</table>\n",
       "</div>"
      ],
      "text/plain": [
       "            From_To  FlightNumber              Airline  delay_1  delay_2  \\\n",
       "0      LoNDon_paris       10045.0               KLM(!)     23.0     47.0   \n",
       "1      MAdrid_miLAN           NaN    <Air France> (12)      NaN      NaN   \n",
       "2  londON_StockhOlm       10065.0  (British Airways. )     24.0     43.0   \n",
       "3    Budapest_PaRis           NaN       12. Air France     13.0      NaN   \n",
       "4   Brussels_londOn       10085.0          \"Swiss Air\"     67.0     32.0   \n",
       "\n",
       "   delay_3  \n",
       "0      NaN  \n",
       "1      NaN  \n",
       "2     87.0  \n",
       "3      NaN  \n",
       "4      NaN  "
      ]
     },
     "execution_count": 205,
     "metadata": {},
     "output_type": "execute_result"
    }
   ],
   "source": [
    "#Распакуйте данные из RecentDelays по столбцам delay_1 ... delay_n. После распаковки удалите столбец RecentDelays.\n",
    "\n",
    "import pandas as pd\n",
    "import numpy as np\n",
    "\n",
    "\n",
    "def solution(df):\n",
    "\n",
    "    def foo(x):\n",
    "        for i, v in enumerate(x):\n",
    "            df.loc[x.name, f\"delay_{i+1}\"] = v\n",
    "\n",
    "    df['RecentDelays'].explode().groupby(level=0).apply(foo)\n",
    "    df.drop(columns='RecentDelays', inplace=True)\n",
    "    return df\n",
    "\n",
    "\n",
    "df = pd.DataFrame({\n",
    "    'From_To': {\n",
    "        0: 'LoNDon_paris',\n",
    "        1: 'MAdrid_miLAN',\n",
    "        2: 'londON_StockhOlm',\n",
    "        3: 'Budapest_PaRis',\n",
    "        4: 'Brussels_londOn'\n",
    "    },\n",
    "    'FlightNumber': {\n",
    "        0: 10045.0,\n",
    "        1: np.nan,\n",
    "        2: 10065.0,\n",
    "        3: np.nan,\n",
    "        4: 10085.0\n",
    "    },\n",
    "    'RecentDelays': {\n",
    "        0: [23, 47],\n",
    "        1: [],\n",
    "        2: [24, 43, 87],\n",
    "        3: [13],\n",
    "        4: [67, 32]\n",
    "    },\n",
    "    'Airline': {\n",
    "        0: 'KLM(!)',\n",
    "        1: '<Air France> (12)',\n",
    "        2: '(British Airways. )',\n",
    "        3: '12. Air France',\n",
    "        4: '\"Swiss Air\"'\n",
    "    }\n",
    "})\n",
    "\n",
    "solution(df)"
   ]
  },
  {
   "cell_type": "code",
   "execution_count": 206,
   "id": "735008cd",
   "metadata": {
    "ExecuteTime": {
     "end_time": "2022-05-30T13:25:00.931444Z",
     "start_time": "2022-05-30T13:25:00.895880Z"
    }
   },
   "outputs": [
    {
     "data": {
      "text/html": [
       "<div>\n",
       "<style scoped>\n",
       "    .dataframe tbody tr th:only-of-type {\n",
       "        vertical-align: middle;\n",
       "    }\n",
       "\n",
       "    .dataframe tbody tr th {\n",
       "        vertical-align: top;\n",
       "    }\n",
       "\n",
       "    .dataframe thead th {\n",
       "        text-align: right;\n",
       "    }\n",
       "</style>\n",
       "<table border=\"1\" class=\"dataframe\">\n",
       "  <thead>\n",
       "    <tr style=\"text-align: right;\">\n",
       "      <th></th>\n",
       "      <th>0</th>\n",
       "      <th>1</th>\n",
       "      <th>2</th>\n",
       "      <th>3</th>\n",
       "      <th>4</th>\n",
       "      <th>5</th>\n",
       "      <th>6</th>\n",
       "      <th>7</th>\n",
       "      <th>8</th>\n",
       "      <th>9</th>\n",
       "    </tr>\n",
       "  </thead>\n",
       "  <tbody>\n",
       "    <tr>\n",
       "      <th>0</th>\n",
       "      <td>0</td>\n",
       "      <td>16</td>\n",
       "      <td>65</td>\n",
       "      <td>29</td>\n",
       "      <td>90</td>\n",
       "      <td>94</td>\n",
       "      <td>30</td>\n",
       "      <td>9</td>\n",
       "      <td>74</td>\n",
       "      <td>0</td>\n",
       "    </tr>\n",
       "    <tr>\n",
       "      <th>1</th>\n",
       "      <td>41</td>\n",
       "      <td>0</td>\n",
       "      <td>17</td>\n",
       "      <td>12</td>\n",
       "      <td>55</td>\n",
       "      <td>89</td>\n",
       "      <td>63</td>\n",
       "      <td>34</td>\n",
       "      <td>0</td>\n",
       "      <td>79</td>\n",
       "    </tr>\n",
       "    <tr>\n",
       "      <th>2</th>\n",
       "      <td>50</td>\n",
       "      <td>52</td>\n",
       "      <td>0</td>\n",
       "      <td>78</td>\n",
       "      <td>70</td>\n",
       "      <td>14</td>\n",
       "      <td>26</td>\n",
       "      <td>0</td>\n",
       "      <td>93</td>\n",
       "      <td>87</td>\n",
       "    </tr>\n",
       "    <tr>\n",
       "      <th>3</th>\n",
       "      <td>31</td>\n",
       "      <td>31</td>\n",
       "      <td>90</td>\n",
       "      <td>0</td>\n",
       "      <td>66</td>\n",
       "      <td>32</td>\n",
       "      <td>0</td>\n",
       "      <td>37</td>\n",
       "      <td>28</td>\n",
       "      <td>19</td>\n",
       "    </tr>\n",
       "    <tr>\n",
       "      <th>4</th>\n",
       "      <td>94</td>\n",
       "      <td>78</td>\n",
       "      <td>23</td>\n",
       "      <td>24</td>\n",
       "      <td>0</td>\n",
       "      <td>0</td>\n",
       "      <td>29</td>\n",
       "      <td>75</td>\n",
       "      <td>89</td>\n",
       "      <td>10</td>\n",
       "    </tr>\n",
       "    <tr>\n",
       "      <th>5</th>\n",
       "      <td>16</td>\n",
       "      <td>19</td>\n",
       "      <td>81</td>\n",
       "      <td>72</td>\n",
       "      <td>0</td>\n",
       "      <td>0</td>\n",
       "      <td>18</td>\n",
       "      <td>47</td>\n",
       "      <td>8</td>\n",
       "      <td>76</td>\n",
       "    </tr>\n",
       "    <tr>\n",
       "      <th>6</th>\n",
       "      <td>29</td>\n",
       "      <td>34</td>\n",
       "      <td>85</td>\n",
       "      <td>0</td>\n",
       "      <td>89</td>\n",
       "      <td>45</td>\n",
       "      <td>0</td>\n",
       "      <td>5</td>\n",
       "      <td>72</td>\n",
       "      <td>89</td>\n",
       "    </tr>\n",
       "    <tr>\n",
       "      <th>7</th>\n",
       "      <td>89</td>\n",
       "      <td>51</td>\n",
       "      <td>0</td>\n",
       "      <td>35</td>\n",
       "      <td>16</td>\n",
       "      <td>78</td>\n",
       "      <td>89</td>\n",
       "      <td>0</td>\n",
       "      <td>7</td>\n",
       "      <td>86</td>\n",
       "    </tr>\n",
       "    <tr>\n",
       "      <th>8</th>\n",
       "      <td>23</td>\n",
       "      <td>0</td>\n",
       "      <td>13</td>\n",
       "      <td>93</td>\n",
       "      <td>97</td>\n",
       "      <td>63</td>\n",
       "      <td>58</td>\n",
       "      <td>80</td>\n",
       "      <td>0</td>\n",
       "      <td>58</td>\n",
       "    </tr>\n",
       "    <tr>\n",
       "      <th>9</th>\n",
       "      <td>0</td>\n",
       "      <td>51</td>\n",
       "      <td>46</td>\n",
       "      <td>41</td>\n",
       "      <td>90</td>\n",
       "      <td>74</td>\n",
       "      <td>38</td>\n",
       "      <td>1</td>\n",
       "      <td>19</td>\n",
       "      <td>0</td>\n",
       "    </tr>\n",
       "  </tbody>\n",
       "</table>\n",
       "</div>"
      ],
      "text/plain": [
       "    0   1   2   3   4   5   6   7   8   9\n",
       "0   0  16  65  29  90  94  30   9  74   0\n",
       "1  41   0  17  12  55  89  63  34   0  79\n",
       "2  50  52   0  78  70  14  26   0  93  87\n",
       "3  31  31  90   0  66  32   0  37  28  19\n",
       "4  94  78  23  24   0   0  29  75  89  10\n",
       "5  16  19  81  72   0   0  18  47   8  76\n",
       "6  29  34  85   0  89  45   0   5  72  89\n",
       "7  89  51   0  35  16  78  89   0   7  86\n",
       "8  23   0  13  93  97  63  58  80   0  58\n",
       "9   0  51  46  41  90  74  38   1  19   0"
      ]
     },
     "execution_count": 206,
     "metadata": {},
     "output_type": "execute_result"
    }
   ],
   "source": [
    "# Замените на 0 все значения на диагоналях матрицы:\n",
    "\n",
    "\n",
    "import pandas as pd\n",
    "import numpy as np\n",
    "\n",
    "def solution(df):\n",
    "    dn = df.to_numpy()\n",
    "    np.fill_diagonal(dn, 0)\n",
    "    np.fill_diagonal(np.fliplr(dn), 0)\n",
    "    return df\n",
    "\n",
    "df = pd.DataFrame({0: {0: 10, 1: 41, 2: 50, 3: 31, 4: 94, 5: 16, 6: 29, 7: 89, 8: 23, 9: 98}, \n",
    "                   1: {0: 16, 1: 37, 2: 52, 3: 31, 4: 78, 5: 19, 6: 34, 7: 51, 8: 12, 9: 51}, \n",
    "                   2: {0: 65, 1: 17, 2: 55, 3: 90, 4: 23, 5: 81, 6: 85, 7: 55, 8: 13, 9: 46}, \n",
    "                   3: {0: 29, 1: 12, 2: 78, 3: 13, 4: 24, 5: 72, 6: 97, 7: 35, 8: 93, 9: 41}, \n",
    "                   4: {0: 90, 1: 55, 2: 70, 3: 66, 4: 95, 5: 89, 6: 89, 7: 16, 8: 97, 9: 90}, \n",
    "                   5: {0: 94, 1: 89, 2: 14, 3: 32, 4: 12, 5: 12, 6: 45, 7: 78, 8: 63, 9: 74}, \n",
    "                   6: {0: 30, 1: 63, 2: 26, 3: 58, 4: 29, 5: 18, 6: 6, 7: 89, 8: 58, 9: 38}, \n",
    "                   7: {0: 9, 1: 34, 2: 14, 3: 37, 4: 75, 5: 47, 6: 5, 7: 16, 8: 80, 9: 1}, \n",
    "                   8: {0: 74, 1: 73, 2: 93, 3: 28, 4: 89, 5: 8, 6: 72, 7: 7, 8: 43, 9: 19}, \n",
    "                   9: {0: 1, 1: 79, 2: 87, 3: 19, 4: 10, 5: 76, 6: 89, 7: 86, 8: 58, 9: 24}})\n",
    "\n",
    "solution(df)\n"
   ]
  },
  {
   "cell_type": "code",
   "execution_count": 207,
   "id": "5e7670eb",
   "metadata": {
    "ExecuteTime": {
     "end_time": "2022-05-30T13:25:00.955922Z",
     "start_time": "2022-05-30T13:25:00.934016Z"
    }
   },
   "outputs": [
    {
     "data": {
      "text/html": [
       "<div>\n",
       "<style scoped>\n",
       "    .dataframe tbody tr th:only-of-type {\n",
       "        vertical-align: middle;\n",
       "    }\n",
       "\n",
       "    .dataframe tbody tr th {\n",
       "        vertical-align: top;\n",
       "    }\n",
       "\n",
       "    .dataframe thead th {\n",
       "        text-align: right;\n",
       "    }\n",
       "</style>\n",
       "<table border=\"1\" class=\"dataframe\">\n",
       "  <thead>\n",
       "    <tr style=\"text-align: right;\">\n",
       "      <th></th>\n",
       "      <th>a</th>\n",
       "      <th>b</th>\n",
       "      <th>c</th>\n",
       "      <th>d</th>\n",
       "      <th>a_lag1</th>\n",
       "      <th>b_lead1</th>\n",
       "    </tr>\n",
       "  </thead>\n",
       "  <tbody>\n",
       "    <tr>\n",
       "      <th>0</th>\n",
       "      <td>10</td>\n",
       "      <td>16</td>\n",
       "      <td>65</td>\n",
       "      <td>29</td>\n",
       "      <td>NaN</td>\n",
       "      <td>94.0</td>\n",
       "    </tr>\n",
       "    <tr>\n",
       "      <th>1</th>\n",
       "      <td>90</td>\n",
       "      <td>94</td>\n",
       "      <td>30</td>\n",
       "      <td>9</td>\n",
       "      <td>10.0</td>\n",
       "      <td>1.0</td>\n",
       "    </tr>\n",
       "    <tr>\n",
       "      <th>2</th>\n",
       "      <td>74</td>\n",
       "      <td>1</td>\n",
       "      <td>41</td>\n",
       "      <td>37</td>\n",
       "      <td>90.0</td>\n",
       "      <td>12.0</td>\n",
       "    </tr>\n",
       "    <tr>\n",
       "      <th>3</th>\n",
       "      <td>17</td>\n",
       "      <td>12</td>\n",
       "      <td>55</td>\n",
       "      <td>89</td>\n",
       "      <td>74.0</td>\n",
       "      <td>34.0</td>\n",
       "    </tr>\n",
       "    <tr>\n",
       "      <th>4</th>\n",
       "      <td>63</td>\n",
       "      <td>34</td>\n",
       "      <td>73</td>\n",
       "      <td>79</td>\n",
       "      <td>17.0</td>\n",
       "      <td>NaN</td>\n",
       "    </tr>\n",
       "  </tbody>\n",
       "</table>\n",
       "</div>"
      ],
      "text/plain": [
       "    a   b   c   d  a_lag1  b_lead1\n",
       "0  10  16  65  29     NaN     94.0\n",
       "1  90  94  30   9    10.0      1.0\n",
       "2  74   1  41  37    90.0     12.0\n",
       "3  17  12  55  89    74.0     34.0\n",
       "4  63  34  73  79    17.0      NaN"
      ]
     },
     "execution_count": 207,
     "metadata": {},
     "output_type": "execute_result"
    }
   ],
   "source": [
    "#Создайте два новых столбца, один из которых является lag1 (сдвиг значений столбца А вниз на 1 строку), \n",
    "#а другой — lead1 (сдвиг значений столбца B вверх на 1 строку):\n",
    "\n",
    "import pandas as pd\n",
    "import numpy as np\n",
    "\n",
    "def solution(df):\n",
    "    df['a_lag1'] = df['a'].shift(1)\n",
    "    df['b_lead1'] = df['b'].shift(-1)\n",
    "    return df\n",
    "\n",
    "df = pd.DataFrame({'a': {0: 10, 1: 90, 2: 74, 3: 17, 4: 63}, \n",
    "                   'b': {0: 16, 1: 94, 2: 1, 3: 12, 4: 34}, \n",
    "                   'c': {0: 65, 1: 30, 2: 41, 3: 55, 4: 73}, \n",
    "                   'd': {0: 29, 1: 9, 2: 37, 3: 89, 4: 79}})\n",
    "\n",
    "solution(df)"
   ]
  },
  {
   "cell_type": "code",
   "execution_count": 208,
   "id": "985d0257",
   "metadata": {
    "ExecuteTime": {
     "end_time": "2022-05-30T13:25:00.975436Z",
     "start_time": "2022-05-30T13:25:00.957797Z"
    }
   },
   "outputs": [
    {
     "data": {
      "text/html": [
       "<div>\n",
       "<style scoped>\n",
       "    .dataframe tbody tr th:only-of-type {\n",
       "        vertical-align: middle;\n",
       "    }\n",
       "\n",
       "    .dataframe tbody tr th {\n",
       "        vertical-align: top;\n",
       "    }\n",
       "\n",
       "    .dataframe thead th {\n",
       "        text-align: right;\n",
       "    }\n",
       "</style>\n",
       "<table border=\"1\" class=\"dataframe\">\n",
       "  <thead>\n",
       "    <tr style=\"text-align: right;\">\n",
       "      <th></th>\n",
       "      <th>city</th>\n",
       "      <th>agent</th>\n",
       "      <th>Date</th>\n",
       "      <th>Value</th>\n",
       "    </tr>\n",
       "  </thead>\n",
       "  <tbody>\n",
       "    <tr>\n",
       "      <th>0</th>\n",
       "      <td>Moscow</td>\n",
       "      <td>Ivan</td>\n",
       "      <td>Jan-2022</td>\n",
       "      <td>5000</td>\n",
       "    </tr>\n",
       "    <tr>\n",
       "      <th>1</th>\n",
       "      <td>Berlin</td>\n",
       "      <td>Valter</td>\n",
       "      <td>Jan-2022</td>\n",
       "      <td>3000</td>\n",
       "    </tr>\n",
       "    <tr>\n",
       "      <th>2</th>\n",
       "      <td>Paris</td>\n",
       "      <td>Ali Abu</td>\n",
       "      <td>Jan-2022</td>\n",
       "      <td>2000</td>\n",
       "    </tr>\n",
       "    <tr>\n",
       "      <th>3</th>\n",
       "      <td>Moscow</td>\n",
       "      <td>Ivan</td>\n",
       "      <td>Feb-2022</td>\n",
       "      <td>3000</td>\n",
       "    </tr>\n",
       "    <tr>\n",
       "      <th>4</th>\n",
       "      <td>Berlin</td>\n",
       "      <td>Valter</td>\n",
       "      <td>Feb-2022</td>\n",
       "      <td>2000</td>\n",
       "    </tr>\n",
       "    <tr>\n",
       "      <th>5</th>\n",
       "      <td>Paris</td>\n",
       "      <td>Ali Abu</td>\n",
       "      <td>Feb-2022</td>\n",
       "      <td>4000</td>\n",
       "    </tr>\n",
       "    <tr>\n",
       "      <th>6</th>\n",
       "      <td>Moscow</td>\n",
       "      <td>Ivan</td>\n",
       "      <td>March-2022</td>\n",
       "      <td>0</td>\n",
       "    </tr>\n",
       "    <tr>\n",
       "      <th>7</th>\n",
       "      <td>Berlin</td>\n",
       "      <td>Valter</td>\n",
       "      <td>March-2022</td>\n",
       "      <td>5000</td>\n",
       "    </tr>\n",
       "    <tr>\n",
       "      <th>8</th>\n",
       "      <td>Paris</td>\n",
       "      <td>Ali Abu</td>\n",
       "      <td>March-2022</td>\n",
       "      <td>7000</td>\n",
       "    </tr>\n",
       "  </tbody>\n",
       "</table>\n",
       "</div>"
      ],
      "text/plain": [
       "     city    agent        Date  Value\n",
       "0  Moscow     Ivan    Jan-2022   5000\n",
       "1  Berlin   Valter    Jan-2022   3000\n",
       "2   Paris  Ali Abu    Jan-2022   2000\n",
       "3  Moscow     Ivan    Feb-2022   3000\n",
       "4  Berlin   Valter    Feb-2022   2000\n",
       "5   Paris  Ali Abu    Feb-2022   4000\n",
       "6  Moscow     Ivan  March-2022      0\n",
       "7  Berlin   Valter  March-2022   5000\n",
       "8   Paris  Ali Abu  March-2022   7000"
      ]
     },
     "execution_count": 208,
     "metadata": {},
     "output_type": "execute_result"
    }
   ],
   "source": [
    "#В исходном датафрейме содержится информация о затратах во время командировок по каждому месяцу для каждого сотрудника.\n",
    "#Выполните преобразование датафрейма:\n",
    "\n",
    "import pandas as pd\n",
    "import numpy as np\n",
    "\n",
    "\n",
    "def solution(df):\n",
    "    df = df.melt(id_vars=['city', 'agent'],\n",
    "                 var_name='Date',\n",
    "                 value_name='Value')\n",
    "    return df\n",
    "\n",
    "\n",
    "df = pd.DataFrame({\n",
    "    'city': {\n",
    "        0: 'Moscow',\n",
    "        1: 'Berlin',\n",
    "        2: 'Paris'\n",
    "    },\n",
    "    'agent': {\n",
    "        0: 'Ivan',\n",
    "        1: 'Valter',\n",
    "        2: 'Ali Abu'\n",
    "    },\n",
    "    'Jan-2022': {\n",
    "        0: 5000,\n",
    "        1: 3000,\n",
    "        2: 2000\n",
    "    },\n",
    "    'Feb-2022': {\n",
    "        0: 3000,\n",
    "        1: 2000,\n",
    "        2: 4000\n",
    "    },\n",
    "    'March-2022': {\n",
    "        0: 0,\n",
    "        1: 5000,\n",
    "        2: 7000\n",
    "    }\n",
    "})\n",
    "\n",
    "solution(df)"
   ]
  },
  {
   "cell_type": "code",
   "execution_count": 209,
   "id": "d13997a9",
   "metadata": {
    "ExecuteTime": {
     "end_time": "2022-05-30T13:25:01.006874Z",
     "start_time": "2022-05-30T13:25:00.978471Z"
    }
   },
   "outputs": [
    {
     "data": {
      "text/html": [
       "<div>\n",
       "<style scoped>\n",
       "    .dataframe tbody tr th:only-of-type {\n",
       "        vertical-align: middle;\n",
       "    }\n",
       "\n",
       "    .dataframe tbody tr th {\n",
       "        vertical-align: top;\n",
       "    }\n",
       "\n",
       "    .dataframe thead th {\n",
       "        text-align: right;\n",
       "    }\n",
       "</style>\n",
       "<table border=\"1\" class=\"dataframe\">\n",
       "  <thead>\n",
       "    <tr style=\"text-align: right;\">\n",
       "      <th></th>\n",
       "      <th>city</th>\n",
       "      <th>agent</th>\n",
       "      <th>Date</th>\n",
       "      <th>Value</th>\n",
       "    </tr>\n",
       "  </thead>\n",
       "  <tbody>\n",
       "    <tr>\n",
       "      <th>0</th>\n",
       "      <td>Moscow</td>\n",
       "      <td>Ivan</td>\n",
       "      <td>Jan-2022</td>\n",
       "      <td>5000</td>\n",
       "    </tr>\n",
       "    <tr>\n",
       "      <th>5</th>\n",
       "      <td>Paris</td>\n",
       "      <td>Ali Abu</td>\n",
       "      <td>Feb-2022</td>\n",
       "      <td>4000</td>\n",
       "    </tr>\n",
       "    <tr>\n",
       "      <th>8</th>\n",
       "      <td>Paris</td>\n",
       "      <td>Ali Abu</td>\n",
       "      <td>March-2022</td>\n",
       "      <td>7000</td>\n",
       "    </tr>\n",
       "  </tbody>\n",
       "</table>\n",
       "</div>"
      ],
      "text/plain": [
       "     city    agent        Date  Value\n",
       "0  Moscow     Ivan    Jan-2022   5000\n",
       "5   Paris  Ali Abu    Feb-2022   4000\n",
       "8   Paris  Ali Abu  March-2022   7000"
      ]
     },
     "execution_count": 209,
     "metadata": {},
     "output_type": "execute_result"
    }
   ],
   "source": [
    "#Для каждого месяца определите, кто затратил больше всего денег:\n",
    "\n",
    "import pandas as pd\n",
    "import numpy as np\n",
    "\n",
    "\n",
    "def solution(df):\n",
    "    df = df.groupby(by='Date').apply(\n",
    "        lambda x: x.nlargest(1, columns=['Value'])).reset_index(\n",
    "            level=0, drop=True).sort_index(level=0)\n",
    "    return df\n",
    "\n",
    "\n",
    "df = pd.DataFrame({\n",
    "    'city': {\n",
    "        0: 'Moscow',\n",
    "        1: 'Berlin',\n",
    "        2: 'Paris',\n",
    "        3: 'Moscow',\n",
    "        4: 'Berlin',\n",
    "        5: 'Paris',\n",
    "        6: 'Moscow',\n",
    "        7: 'Berlin',\n",
    "        8: 'Paris'\n",
    "    },\n",
    "    'agent': {\n",
    "        0: 'Ivan',\n",
    "        1: 'Valter',\n",
    "        2: 'Ali Abu',\n",
    "        3: 'Ivan',\n",
    "        4: 'Valter',\n",
    "        5: 'Ali Abu',\n",
    "        6: 'Ivan',\n",
    "        7: 'Valter',\n",
    "        8: 'Ali Abu'\n",
    "    },\n",
    "    'Date': {\n",
    "        0: 'Jan-2022',\n",
    "        1: 'Jan-2022',\n",
    "        2: 'Jan-2022',\n",
    "        3: 'Feb-2022',\n",
    "        4: 'Feb-2022',\n",
    "        5: 'Feb-2022',\n",
    "        6: 'March-2022',\n",
    "        7: 'March-2022',\n",
    "        8: 'March-2022'\n",
    "    },\n",
    "    'Value': {\n",
    "        0: 5000,\n",
    "        1: 3000,\n",
    "        2: 2000,\n",
    "        3: 3000,\n",
    "        4: 2000,\n",
    "        5: 4000,\n",
    "        6: 0,\n",
    "        7: 5000,\n",
    "        8: 7000\n",
    "    }\n",
    "})\n",
    "\n",
    "solution(df)"
   ]
  },
  {
   "cell_type": "code",
   "execution_count": 210,
   "id": "dc54ce20",
   "metadata": {
    "ExecuteTime": {
     "end_time": "2022-05-30T13:25:01.031058Z",
     "start_time": "2022-05-30T13:25:01.009230Z"
    }
   },
   "outputs": [
    {
     "data": {
      "text/html": [
       "<div>\n",
       "<style scoped>\n",
       "    .dataframe tbody tr th:only-of-type {\n",
       "        vertical-align: middle;\n",
       "    }\n",
       "\n",
       "    .dataframe tbody tr th {\n",
       "        vertical-align: top;\n",
       "    }\n",
       "\n",
       "    .dataframe thead th {\n",
       "        text-align: right;\n",
       "    }\n",
       "</style>\n",
       "<table border=\"1\" class=\"dataframe\">\n",
       "  <thead>\n",
       "    <tr style=\"text-align: right;\">\n",
       "      <th></th>\n",
       "      <th>Date</th>\n",
       "      <th>values_in_list</th>\n",
       "    </tr>\n",
       "  </thead>\n",
       "  <tbody>\n",
       "    <tr>\n",
       "      <th>0</th>\n",
       "      <td>Feb-2022</td>\n",
       "      <td>[3000, 2000, 4000]</td>\n",
       "    </tr>\n",
       "    <tr>\n",
       "      <th>1</th>\n",
       "      <td>Jan-2022</td>\n",
       "      <td>[5000, 3000, 2000]</td>\n",
       "    </tr>\n",
       "    <tr>\n",
       "      <th>2</th>\n",
       "      <td>March-2022</td>\n",
       "      <td>[0, 5000, 7000]</td>\n",
       "    </tr>\n",
       "  </tbody>\n",
       "</table>\n",
       "</div>"
      ],
      "text/plain": [
       "         Date      values_in_list\n",
       "0    Feb-2022  [3000, 2000, 4000]\n",
       "1    Jan-2022  [5000, 3000, 2000]\n",
       "2  March-2022     [0, 5000, 7000]"
      ]
     },
     "execution_count": 210,
     "metadata": {},
     "output_type": "execute_result"
    }
   ],
   "source": [
    "#Сгруппируйте все затраты для каждого месяца в список:\n",
    "\n",
    "import pandas as pd\n",
    "import numpy as np\n",
    "\n",
    "\n",
    "def solution(df):\n",
    "    df = df.groupby('Date')['Value'].apply(list).reset_index(name='values_in_list')\n",
    "    return df\n",
    "\n",
    "\n",
    "df = pd.DataFrame({\n",
    "    'city': {\n",
    "        0: 'Moscow',\n",
    "        1: 'Berlin',\n",
    "        2: 'Paris',\n",
    "        3: 'Moscow',\n",
    "        4: 'Berlin',\n",
    "        5: 'Paris',\n",
    "        6: 'Moscow',\n",
    "        7: 'Berlin',\n",
    "        8: 'Paris'\n",
    "    },\n",
    "    'agent': {\n",
    "        0: 'Ivan',\n",
    "        1: 'Valter',\n",
    "        2: 'Ali Abu',\n",
    "        3: 'Ivan',\n",
    "        4: 'Valter',\n",
    "        5: 'Ali Abu',\n",
    "        6: 'Ivan',\n",
    "        7: 'Valter',\n",
    "        8: 'Ali Abu'\n",
    "    },\n",
    "    'Date': {\n",
    "        0: 'Jan-2022',\n",
    "        1: 'Jan-2022',\n",
    "        2: 'Jan-2022',\n",
    "        3: 'Feb-2022',\n",
    "        4: 'Feb-2022',\n",
    "        5: 'Feb-2022',\n",
    "        6: 'March-2022',\n",
    "        7: 'March-2022',\n",
    "        8: 'March-2022'\n",
    "    },\n",
    "    'Value': {\n",
    "        0: 5000,\n",
    "        1: 3000,\n",
    "        2: 2000,\n",
    "        3: 3000,\n",
    "        4: 2000,\n",
    "        5: 4000,\n",
    "        6: 0,\n",
    "        7: 5000,\n",
    "        8: 7000\n",
    "    }\n",
    "})\n",
    "\n",
    "solution(df)"
   ]
  },
  {
   "cell_type": "markdown",
   "id": "8a5bc2dd",
   "metadata": {},
   "source": [
    "# Step 1.9"
   ]
  },
  {
   "cell_type": "code",
   "execution_count": 211,
   "id": "6d85d123",
   "metadata": {
    "ExecuteTime": {
     "end_time": "2022-05-30T13:25:01.064516Z",
     "start_time": "2022-05-30T13:25:01.033215Z"
    }
   },
   "outputs": [
    {
     "data": {
      "text/html": [
       "<div>\n",
       "<style scoped>\n",
       "    .dataframe tbody tr th:only-of-type {\n",
       "        vertical-align: middle;\n",
       "    }\n",
       "\n",
       "    .dataframe tbody tr th {\n",
       "        vertical-align: top;\n",
       "    }\n",
       "\n",
       "    .dataframe thead th {\n",
       "        text-align: right;\n",
       "    }\n",
       "</style>\n",
       "<table border=\"1\" class=\"dataframe\">\n",
       "  <thead>\n",
       "    <tr style=\"text-align: right;\">\n",
       "      <th></th>\n",
       "      <th></th>\n",
       "      <th>base1_1</th>\n",
       "      <th>base1_2</th>\n",
       "    </tr>\n",
       "    <tr>\n",
       "      <th>class_1</th>\n",
       "      <th>class_2</th>\n",
       "      <th></th>\n",
       "      <th></th>\n",
       "    </tr>\n",
       "  </thead>\n",
       "  <tbody>\n",
       "    <tr>\n",
       "      <th rowspan=\"4\" valign=\"top\">ABC1</th>\n",
       "      <th>ABC2</th>\n",
       "      <td>1</td>\n",
       "      <td>2</td>\n",
       "    </tr>\n",
       "    <tr>\n",
       "      <th>ABC3</th>\n",
       "      <td>1</td>\n",
       "      <td>3</td>\n",
       "    </tr>\n",
       "    <tr>\n",
       "      <th>ABC4</th>\n",
       "      <td>1</td>\n",
       "      <td>4</td>\n",
       "    </tr>\n",
       "    <tr>\n",
       "      <th>ABC5</th>\n",
       "      <td>1</td>\n",
       "      <td>5</td>\n",
       "    </tr>\n",
       "    <tr>\n",
       "      <th rowspan=\"3\" valign=\"top\">ABC2</th>\n",
       "      <th>ABC3</th>\n",
       "      <td>2</td>\n",
       "      <td>3</td>\n",
       "    </tr>\n",
       "    <tr>\n",
       "      <th>ABC4</th>\n",
       "      <td>2</td>\n",
       "      <td>4</td>\n",
       "    </tr>\n",
       "    <tr>\n",
       "      <th>ABC5</th>\n",
       "      <td>2</td>\n",
       "      <td>5</td>\n",
       "    </tr>\n",
       "    <tr>\n",
       "      <th rowspan=\"2\" valign=\"top\">ABC3</th>\n",
       "      <th>ABC4</th>\n",
       "      <td>3</td>\n",
       "      <td>4</td>\n",
       "    </tr>\n",
       "    <tr>\n",
       "      <th>ABC5</th>\n",
       "      <td>3</td>\n",
       "      <td>5</td>\n",
       "    </tr>\n",
       "    <tr>\n",
       "      <th>ABC4</th>\n",
       "      <th>ABC5</th>\n",
       "      <td>4</td>\n",
       "      <td>5</td>\n",
       "    </tr>\n",
       "  </tbody>\n",
       "</table>\n",
       "</div>"
      ],
      "text/plain": [
       "                 base1_1  base1_2\n",
       "class_1 class_2                  \n",
       "ABC1    ABC2           1        2\n",
       "        ABC3           1        3\n",
       "        ABC4           1        4\n",
       "        ABC5           1        5\n",
       "ABC2    ABC3           2        3\n",
       "        ABC4           2        4\n",
       "        ABC5           2        5\n",
       "ABC3    ABC4           3        4\n",
       "        ABC5           3        5\n",
       "ABC4    ABC5           4        5"
      ]
     },
     "execution_count": 211,
     "metadata": {},
     "output_type": "execute_result"
    }
   ],
   "source": [
    "#В датафрейме содержатся классы ABC1 - ABC5. \n",
    "#Постройте новый датафрейм, который будет состоять из уникальных пар классов:\n",
    "\n",
    "import pandas as pd\n",
    "import numpy as np\n",
    "from itertools import combinations\n",
    "\n",
    "\n",
    "def solution(df):\n",
    "    df = df.join(df, lsuffix='_1', rsuffix='_2', how='cross').set_index(['class_1', 'class_2'])\n",
    "    df = df.loc[[(a,b) for a,b in df.index if b>a]]\n",
    "    return df\n",
    "        \n",
    "\n",
    "\n",
    "df = pd.DataFrame({\n",
    "    'class': {\n",
    "        0: 'ABC1',\n",
    "        1: 'ABC2',\n",
    "        2: 'ABC3',\n",
    "        3: 'ABC4',\n",
    "        4: 'ABC5'\n",
    "    },\n",
    "    'base1': {\n",
    "        0: 1,\n",
    "        1: 2,\n",
    "        2: 3,\n",
    "        3: 4,\n",
    "        4: 5\n",
    "    }\n",
    "})\n",
    "\n",
    "solution(df)"
   ]
  },
  {
   "cell_type": "markdown",
   "id": "c9c6774d",
   "metadata": {},
   "source": [
    "* В результате некоторой выездной проверки, контролёром Петренко была собрана информация о работающих магазинах (наименование, ИНН владельца, адрес магазина)[df_shops]:\n",
    "\n",
    "* Контролёр Петренко имеет доступ к базе разрешений на торговлю (номер разрешения, ИНН владельца, адрес торговли)[df_licenses]:\n",
    "\n",
    "* Помогите контролёру Петренко подтянуть информацию о разрешениях на торговлю в его датафрейм. "
   ]
  },
  {
   "cell_type": "code",
   "execution_count": 212,
   "id": "e17a38a7",
   "metadata": {
    "ExecuteTime": {
     "end_time": "2022-05-30T13:25:01.107694Z",
     "start_time": "2022-05-30T13:25:01.066727Z"
    }
   },
   "outputs": [
    {
     "data": {
      "text/html": [
       "<div>\n",
       "<style scoped>\n",
       "    .dataframe tbody tr th:only-of-type {\n",
       "        vertical-align: middle;\n",
       "    }\n",
       "\n",
       "    .dataframe tbody tr th {\n",
       "        vertical-align: top;\n",
       "    }\n",
       "\n",
       "    .dataframe thead th {\n",
       "        text-align: right;\n",
       "    }\n",
       "</style>\n",
       "<table border=\"1\" class=\"dataframe\">\n",
       "  <thead>\n",
       "    <tr style=\"text-align: right;\">\n",
       "      <th></th>\n",
       "      <th>shop_name</th>\n",
       "      <th>owner_inn</th>\n",
       "      <th>address</th>\n",
       "      <th>reg_number</th>\n",
       "    </tr>\n",
       "  </thead>\n",
       "  <tbody>\n",
       "    <tr>\n",
       "      <th>0</th>\n",
       "      <td>Детские игрушки</td>\n",
       "      <td>7700000001</td>\n",
       "      <td>ул. Академика Иванова, 1</td>\n",
       "      <td>A-000-001</td>\n",
       "    </tr>\n",
       "    <tr>\n",
       "      <th>1</th>\n",
       "      <td>Продукты</td>\n",
       "      <td>7700000001</td>\n",
       "      <td>ул. Академика Иванова, 1</td>\n",
       "      <td>A-000-002</td>\n",
       "    </tr>\n",
       "    <tr>\n",
       "      <th>2</th>\n",
       "      <td>Хоз. товары</td>\n",
       "      <td>7700000002</td>\n",
       "      <td>ул. Летчиков, 5</td>\n",
       "      <td>A-000-003</td>\n",
       "    </tr>\n",
       "    <tr>\n",
       "      <th>3</th>\n",
       "      <td>Бытовая химия</td>\n",
       "      <td>7700000002</td>\n",
       "      <td>ул. Летчиков, 5</td>\n",
       "      <td>-</td>\n",
       "    </tr>\n",
       "    <tr>\n",
       "      <th>4</th>\n",
       "      <td>Военторг</td>\n",
       "      <td>7700000003</td>\n",
       "      <td>ул. Автомобилистов, 6</td>\n",
       "      <td>A-000-005</td>\n",
       "    </tr>\n",
       "    <tr>\n",
       "      <th>5</th>\n",
       "      <td>АлкоМаркет</td>\n",
       "      <td>7700000004</td>\n",
       "      <td>ул. Автомобилистов, 6</td>\n",
       "      <td>-</td>\n",
       "    </tr>\n",
       "    <tr>\n",
       "      <th>6</th>\n",
       "      <td>Фрукты-Овощи</td>\n",
       "      <td>7700000005</td>\n",
       "      <td>ул. Первомайская, 66</td>\n",
       "      <td>A-000-007</td>\n",
       "    </tr>\n",
       "    <tr>\n",
       "      <th>7</th>\n",
       "      <td>Цветы 24</td>\n",
       "      <td>7700000006</td>\n",
       "      <td>ул. Степика, 123</td>\n",
       "      <td>-</td>\n",
       "    </tr>\n",
       "  </tbody>\n",
       "</table>\n",
       "</div>"
      ],
      "text/plain": [
       "         shop_name   owner_inn                   address reg_number\n",
       "0  Детские игрушки  7700000001  ул. Академика Иванова, 1  A-000-001\n",
       "1         Продукты  7700000001  ул. Академика Иванова, 1  A-000-002\n",
       "2      Хоз. товары  7700000002           ул. Летчиков, 5  A-000-003\n",
       "3    Бытовая химия  7700000002           ул. Летчиков, 5          -\n",
       "4         Военторг  7700000003     ул. Автомобилистов, 6  A-000-005\n",
       "5       АлкоМаркет  7700000004     ул. Автомобилистов, 6          -\n",
       "6     Фрукты-Овощи  7700000005      ул. Первомайская, 66  A-000-007\n",
       "7         Цветы 24  7700000006          ул. Степика, 123          -"
      ]
     },
     "execution_count": 212,
     "metadata": {},
     "output_type": "execute_result"
    }
   ],
   "source": [
    "import pandas as pd\n",
    "import numpy as np\n",
    "\n",
    "# def solution(df_shops, df_licenses):\n",
    "#     df_shops['rank'] = df_shops.reset_index().groupby(['owner_inn'])['index'].rank()\n",
    "#     df_licenses['rank'] = df_licenses.reset_index().groupby(['owner_inn'])['index'].rank()\n",
    "#     df = pd.merge(df_shops, df_licenses, on=['rank', 'owner_inn', 'address'], how='left') \\\n",
    "#         [['shop_name', 'owner_inn', 'address', 'reg_number']].fillna('-')\n",
    "\n",
    "#     return df\n",
    "\n",
    "\n",
    "def solution(df_shops: pd.DataFrame, df_licenses: pd.DataFrame):\n",
    "    df_shops['rank'] = df_shops.groupby('owner_inn')['owner_inn'].apply(\n",
    "        lambda x: x.astype('int64').rank(method='first'))\n",
    "    df_licenses['rank'] = df_licenses.groupby('owner_inn')['owner_inn'].apply(\n",
    "        lambda x: x.astype('int64').rank(method='first'))\n",
    "    df_shops = df_shops.merge(df_licenses,\n",
    "                              on=['owner_inn', 'address', 'rank'],\n",
    "                              how='left').fillna('-').drop(columns=['rank'])\n",
    "    return df_shops\n",
    "\n",
    "\n",
    "df_shops = pd.DataFrame({\n",
    "    'shop_name': {\n",
    "        0: 'Детские игрушки',\n",
    "        1: 'Продукты',\n",
    "        2: 'Хоз. товары',\n",
    "        3: 'Бытовая химия',\n",
    "        4: 'Военторг',\n",
    "        5: 'АлкоМаркет',\n",
    "        6: 'Фрукты-Овощи',\n",
    "        7: 'Цветы 24'\n",
    "    },\n",
    "    'owner_inn': {\n",
    "        0: '7700000001',\n",
    "        1: '7700000001',\n",
    "        2: '7700000002',\n",
    "        3: '7700000002',\n",
    "        4: '7700000003',\n",
    "        5: '7700000004',\n",
    "        6: '7700000005',\n",
    "        7: '7700000006'\n",
    "    },\n",
    "    'address': {\n",
    "        0: 'ул. Академика Иванова, 1',\n",
    "        1: 'ул. Академика Иванова, 1',\n",
    "        2: 'ул. Летчиков, 5',\n",
    "        3: 'ул. Летчиков, 5',\n",
    "        4: 'ул. Автомобилистов, 6',\n",
    "        5: 'ул. Автомобилистов, 6',\n",
    "        6: 'ул. Первомайская, 66',\n",
    "        7: 'ул. Степика, 123'\n",
    "    }\n",
    "})\n",
    "df_licenses = pd.DataFrame({\n",
    "    'reg_number': {\n",
    "        0: 'A-000-001',\n",
    "        1: 'A-000-002',\n",
    "        2: 'A-000-003',\n",
    "        3: 'A-000-005',\n",
    "        4: 'A-000-006',\n",
    "        5: 'A-000-007'\n",
    "    },\n",
    "    'owner_inn': {\n",
    "        0: '7700000001',\n",
    "        1: '7700000001',\n",
    "        2: '7700000002',\n",
    "        3: '7700000003',\n",
    "        4: '7700000004',\n",
    "        5: '7700000005'\n",
    "    },\n",
    "    'address': {\n",
    "        0: 'ул. Академика Иванова, 1',\n",
    "        1: 'ул. Академика Иванова, 1',\n",
    "        2: 'ул. Летчиков, 5',\n",
    "        3: 'ул. Автомобилистов, 6',\n",
    "        4: 'ул. Автомобилистов, 8',\n",
    "        5: 'ул. Первомайская, 66'\n",
    "    }\n",
    "})\n",
    "\n",
    "solution(df_shops, df_licenses)"
   ]
  },
  {
   "cell_type": "code",
   "execution_count": 213,
   "id": "633d7d1c",
   "metadata": {
    "ExecuteTime": {
     "end_time": "2022-05-30T13:25:01.140035Z",
     "start_time": "2022-05-30T13:25:01.110584Z"
    }
   },
   "outputs": [
    {
     "name": "stdout",
     "output_type": "stream",
     "text": [
      "<class 'pandas.core.frame.DataFrame'>\n",
      "Int64Index: 12 entries, 0 to 11\n",
      "Data columns (total 3 columns):\n",
      " #   Column        Non-Null Count  Dtype \n",
      "---  ------        --------------  ----- \n",
      " 0   group         12 non-null     int64 \n",
      " 1   value         12 non-null     object\n",
      " 2   group_val_id  12 non-null     int8  \n",
      "dtypes: int64(1), int8(1), object(1)\n",
      "memory usage: 300.0+ bytes\n",
      "None\n"
     ]
    },
    {
     "data": {
      "text/html": [
       "<div>\n",
       "<style scoped>\n",
       "    .dataframe tbody tr th:only-of-type {\n",
       "        vertical-align: middle;\n",
       "    }\n",
       "\n",
       "    .dataframe tbody tr th {\n",
       "        vertical-align: top;\n",
       "    }\n",
       "\n",
       "    .dataframe thead th {\n",
       "        text-align: right;\n",
       "    }\n",
       "</style>\n",
       "<table border=\"1\" class=\"dataframe\">\n",
       "  <thead>\n",
       "    <tr style=\"text-align: right;\">\n",
       "      <th></th>\n",
       "      <th>group</th>\n",
       "      <th>value</th>\n",
       "      <th>group_val_id</th>\n",
       "    </tr>\n",
       "  </thead>\n",
       "  <tbody>\n",
       "    <tr>\n",
       "      <th>0</th>\n",
       "      <td>1</td>\n",
       "      <td>a</td>\n",
       "      <td>1</td>\n",
       "    </tr>\n",
       "    <tr>\n",
       "      <th>1</th>\n",
       "      <td>1</td>\n",
       "      <td>a</td>\n",
       "      <td>1</td>\n",
       "    </tr>\n",
       "    <tr>\n",
       "      <th>2</th>\n",
       "      <td>1</td>\n",
       "      <td>b</td>\n",
       "      <td>2</td>\n",
       "    </tr>\n",
       "    <tr>\n",
       "      <th>3</th>\n",
       "      <td>1</td>\n",
       "      <td>b</td>\n",
       "      <td>2</td>\n",
       "    </tr>\n",
       "    <tr>\n",
       "      <th>4</th>\n",
       "      <td>1</td>\n",
       "      <td>b</td>\n",
       "      <td>2</td>\n",
       "    </tr>\n",
       "    <tr>\n",
       "      <th>5</th>\n",
       "      <td>1</td>\n",
       "      <td>b</td>\n",
       "      <td>2</td>\n",
       "    </tr>\n",
       "    <tr>\n",
       "      <th>6</th>\n",
       "      <td>1</td>\n",
       "      <td>c</td>\n",
       "      <td>3</td>\n",
       "    </tr>\n",
       "    <tr>\n",
       "      <th>7</th>\n",
       "      <td>2</td>\n",
       "      <td>d</td>\n",
       "      <td>1</td>\n",
       "    </tr>\n",
       "    <tr>\n",
       "      <th>8</th>\n",
       "      <td>2</td>\n",
       "      <td>d</td>\n",
       "      <td>1</td>\n",
       "    </tr>\n",
       "    <tr>\n",
       "      <th>9</th>\n",
       "      <td>2</td>\n",
       "      <td>d</td>\n",
       "      <td>1</td>\n",
       "    </tr>\n",
       "    <tr>\n",
       "      <th>10</th>\n",
       "      <td>2</td>\n",
       "      <td>d</td>\n",
       "      <td>1</td>\n",
       "    </tr>\n",
       "    <tr>\n",
       "      <th>11</th>\n",
       "      <td>2</td>\n",
       "      <td>e</td>\n",
       "      <td>2</td>\n",
       "    </tr>\n",
       "  </tbody>\n",
       "</table>\n",
       "</div>"
      ],
      "text/plain": [
       "    group value  group_val_id\n",
       "0       1     a             1\n",
       "1       1     a             1\n",
       "2       1     b             2\n",
       "3       1     b             2\n",
       "4       1     b             2\n",
       "5       1     b             2\n",
       "6       1     c             3\n",
       "7       2     d             1\n",
       "8       2     d             1\n",
       "9       2     d             1\n",
       "10      2     d             1\n",
       "11      2     e             2"
      ]
     },
     "execution_count": 213,
     "metadata": {},
     "output_type": "execute_result"
    }
   ],
   "source": [
    "#Для каждой группы определите номер уникального значения:\n",
    "\n",
    "import pandas as pd\n",
    "import numpy as np\n",
    "\n",
    "\n",
    "def solution(df):\n",
    "    df['group_val_id'] = df.groupby([\n",
    "        'group'\n",
    "    ]).apply(lambda x: x.groupby('value').ngroup() + 1).reset_index(\n",
    "        drop=True).astype(\"int8\")\n",
    "    print(df.info())\n",
    "    return df\n",
    "\n",
    "\n",
    "df = pd.DataFrame({\n",
    "    'group': {\n",
    "        0: 1,\n",
    "        1: 1,\n",
    "        2: 1,\n",
    "        3: 1,\n",
    "        4: 1,\n",
    "        5: 1,\n",
    "        6: 1,\n",
    "        7: 2,\n",
    "        8: 2,\n",
    "        9: 2,\n",
    "        10: 2,\n",
    "        11: 2\n",
    "    },\n",
    "    'value': {\n",
    "        0: 'a',\n",
    "        1: 'a',\n",
    "        2: 'b',\n",
    "        3: 'b',\n",
    "        4: 'b',\n",
    "        5: 'b',\n",
    "        6: 'c',\n",
    "        7: 'd',\n",
    "        8: 'd',\n",
    "        9: 'd',\n",
    "        10: 'd',\n",
    "        11: 'e'\n",
    "    }\n",
    "})\n",
    "\n",
    "solution(df)"
   ]
  },
  {
   "cell_type": "markdown",
   "id": "52f373de",
   "metadata": {},
   "source": [
    "# Step 2 (Numpy)\n",
    "* ## Step 2.1"
   ]
  },
  {
   "cell_type": "code",
   "execution_count": 214,
   "id": "d018b591",
   "metadata": {
    "ExecuteTime": {
     "end_time": "2022-05-30T13:25:01.156668Z",
     "start_time": "2022-05-30T13:25:01.151166Z"
    }
   },
   "outputs": [
    {
     "data": {
      "text/plain": [
       "array([0., 0., 0., 0., 0., 0., 0., 0., 0., 0.])"
      ]
     },
     "execution_count": 214,
     "metadata": {},
     "output_type": "execute_result"
    }
   ],
   "source": [
    "#Создайте нулевой вектор размера 10.\n",
    "\n",
    "import numpy as np\n",
    "\n",
    "np.zeros(10)"
   ]
  },
  {
   "cell_type": "code",
   "execution_count": 215,
   "id": "c0c2da74",
   "metadata": {
    "ExecuteTime": {
     "end_time": "2022-05-30T13:25:01.165339Z",
     "start_time": "2022-05-30T13:25:01.159313Z"
    }
   },
   "outputs": [
    {
     "name": "stdout",
     "output_type": "stream",
     "text": [
      "800 bytes\n"
     ]
    }
   ],
   "source": [
    "#Как узнать размер в памяти массива Z.\n",
    "\n",
    "import numpy as np\n",
    "\n",
    "Z = np.zeros((10, 10))\n",
    "\n",
    "print(f\"{Z.nbytes} bytes\")"
   ]
  },
  {
   "cell_type": "code",
   "execution_count": 216,
   "id": "1793ce54",
   "metadata": {
    "ExecuteTime": {
     "end_time": "2022-05-30T13:25:01.171941Z",
     "start_time": "2022-05-30T13:25:01.167230Z"
    }
   },
   "outputs": [
    {
     "data": {
      "text/plain": [
       "array([0., 0., 0., 0., 1., 0., 0., 0., 0., 0.])"
      ]
     },
     "execution_count": 216,
     "metadata": {},
     "output_type": "execute_result"
    }
   ],
   "source": [
    "#Создайте нулевой вектор размера 10, но пятое значение равно 1\n",
    "\n",
    "import numpy as np\n",
    "\n",
    "a = np.zeros(10)\n",
    "a[4] = 1\n",
    "a"
   ]
  },
  {
   "cell_type": "code",
   "execution_count": 217,
   "id": "9a6849b6",
   "metadata": {
    "ExecuteTime": {
     "end_time": "2022-05-30T13:25:01.180056Z",
     "start_time": "2022-05-30T13:25:01.174465Z"
    }
   },
   "outputs": [
    {
     "data": {
      "text/plain": [
       "array([10, 11, 12, 13, 14, 15, 16, 17, 18, 19, 20])"
      ]
     },
     "execution_count": 217,
     "metadata": {},
     "output_type": "execute_result"
    }
   ],
   "source": [
    "#Создайте вектор со значениями в диапазоне от 10 до 20\n",
    "\n",
    "import numpy as np\n",
    "\n",
    "np.arange(10, 21)"
   ]
  },
  {
   "cell_type": "code",
   "execution_count": 218,
   "id": "57cc7dab",
   "metadata": {
    "ExecuteTime": {
     "end_time": "2022-05-30T13:25:01.188365Z",
     "start_time": "2022-05-30T13:25:01.182461Z"
    }
   },
   "outputs": [
    {
     "data": {
      "text/plain": [
       "array([9, 8, 7, 6, 5, 4, 3, 2, 1, 0])"
      ]
     },
     "execution_count": 218,
     "metadata": {},
     "output_type": "execute_result"
    }
   ],
   "source": [
    "#Разверните вектор Z (первый элемент становится последним, а последний первым)\n",
    "import numpy as np\n",
    "\n",
    "Z = np.arange(10)\n",
    "Z[::-1]"
   ]
  },
  {
   "cell_type": "code",
   "execution_count": 219,
   "id": "a758cc03",
   "metadata": {
    "ExecuteTime": {
     "end_time": "2022-05-30T13:25:01.195978Z",
     "start_time": "2022-05-30T13:25:01.190992Z"
    }
   },
   "outputs": [
    {
     "data": {
      "text/plain": [
       "array([[0, 1, 2],\n",
       "       [3, 4, 5],\n",
       "       [6, 7, 8]])"
      ]
     },
     "execution_count": 219,
     "metadata": {},
     "output_type": "execute_result"
    }
   ],
   "source": [
    "#Создайте матрицу 3x3 со значениями в диапазоне от 0 до 8. Используйте arange и reshape.\n",
    "\n",
    "import numpy as np\n",
    "\n",
    "np.arange(0, 9).reshape(3, 3)"
   ]
  },
  {
   "cell_type": "code",
   "execution_count": 220,
   "id": "e0625e08",
   "metadata": {
    "ExecuteTime": {
     "end_time": "2022-05-30T13:25:01.200541Z",
     "start_time": "2022-05-30T13:25:01.197688Z"
    }
   },
   "outputs": [],
   "source": [
    "#Найдите индексы ненулевых элементов массива Z. Ответ представьте в виде одномерного массива.\n",
    "\n",
    "import numpy as np\n",
    "\n",
    "\n",
    "def solution(Z):\n",
    "    M = Z.nonzero()\n",
    "    return M"
   ]
  },
  {
   "cell_type": "code",
   "execution_count": 221,
   "id": "c197bf2a",
   "metadata": {
    "ExecuteTime": {
     "end_time": "2022-05-30T13:25:01.206599Z",
     "start_time": "2022-05-30T13:25:01.202280Z"
    }
   },
   "outputs": [
    {
     "data": {
      "text/plain": [
       "array([[1., 0., 0.],\n",
       "       [0., 1., 0.],\n",
       "       [0., 0., 1.]])"
      ]
     },
     "execution_count": 221,
     "metadata": {},
     "output_type": "execute_result"
    }
   ],
   "source": [
    "#Создайте единичную матрицу 3х3\n",
    "import numpy as np\n",
    "\n",
    "np.eye(3)"
   ]
  },
  {
   "cell_type": "code",
   "execution_count": 222,
   "id": "43415372",
   "metadata": {
    "ExecuteTime": {
     "end_time": "2022-05-30T13:25:01.212160Z",
     "start_time": "2022-05-30T13:25:01.208145Z"
    }
   },
   "outputs": [
    {
     "name": "stdout",
     "output_type": "stream",
     "text": [
      "4 0\n"
     ]
    }
   ],
   "source": [
    "#Найдите наименьшее и наибольшее значение массива Z\n",
    "\n",
    "import numpy as np\n",
    "\n",
    "Z = np.array([1, 2, 0, 0, 4, 0])\n",
    "print(Z.max(), Z.min())"
   ]
  },
  {
   "cell_type": "code",
   "execution_count": 223,
   "id": "fbdf9b97",
   "metadata": {
    "ExecuteTime": {
     "end_time": "2022-05-30T13:25:01.221068Z",
     "start_time": "2022-05-30T13:25:01.214321Z"
    }
   },
   "outputs": [
    {
     "data": {
      "text/plain": [
       "array([[1., 1., 1., 1., 1.],\n",
       "       [1., 0., 0., 0., 1.],\n",
       "       [1., 0., 0., 0., 1.],\n",
       "       [1., 0., 0., 0., 1.],\n",
       "       [1., 1., 1., 1., 1.]])"
      ]
     },
     "execution_count": 223,
     "metadata": {},
     "output_type": "execute_result"
    }
   ],
   "source": [
    "#Создайте матрицу размером 5х5, где по краям будут единицы, а в центре нули.\n",
    "\n",
    "import numpy as np\n",
    "\n",
    "z = np.ones(shape=(5, 5))\n",
    "z[1:-1, 1:-1] = 0\n",
    "z"
   ]
  },
  {
   "cell_type": "markdown",
   "id": "e9071dc8",
   "metadata": {},
   "source": [
    "# Step 2.2"
   ]
  },
  {
   "cell_type": "code",
   "execution_count": 224,
   "id": "be38c5e2",
   "metadata": {
    "ExecuteTime": {
     "end_time": "2022-05-30T13:25:01.229919Z",
     "start_time": "2022-05-30T13:25:01.223217Z"
    }
   },
   "outputs": [
    {
     "data": {
      "text/plain": [
       "array([[0, 0, 0, 0, 0],\n",
       "       [1, 0, 0, 0, 0],\n",
       "       [0, 2, 0, 0, 0],\n",
       "       [0, 0, 3, 0, 0],\n",
       "       [0, 0, 0, 4, 0]])"
      ]
     },
     "execution_count": 224,
     "metadata": {},
     "output_type": "execute_result"
    }
   ],
   "source": [
    "#Создайте матрицу 5x5 со значениями 1,2,3,4 чуть ниже диагонали\n",
    "\n",
    "import numpy as np\n",
    "\n",
    "#np.diag(np.arange(1, 5), -1)\n",
    "\n",
    "z = np.zeros((5, 5))\n",
    "np.fill_diagonal(z[1:, :-1], np.arange(1, 5))\n",
    "z.astype(\"int64\")"
   ]
  },
  {
   "cell_type": "code",
   "execution_count": 225,
   "id": "9abf08ef",
   "metadata": {
    "ExecuteTime": {
     "end_time": "2022-05-30T13:25:01.237885Z",
     "start_time": "2022-05-30T13:25:01.231556Z"
    }
   },
   "outputs": [
    {
     "data": {
      "text/plain": [
       "array([[0, 1, 0, 1, 0, 1, 0, 1],\n",
       "       [1, 0, 1, 0, 1, 0, 1, 0],\n",
       "       [0, 1, 0, 1, 0, 1, 0, 1],\n",
       "       [1, 0, 1, 0, 1, 0, 1, 0],\n",
       "       [0, 1, 0, 1, 0, 1, 0, 1],\n",
       "       [1, 0, 1, 0, 1, 0, 1, 0],\n",
       "       [0, 1, 0, 1, 0, 1, 0, 1],\n",
       "       [1, 0, 1, 0, 1, 0, 1, 0]])"
      ]
     },
     "execution_count": 225,
     "metadata": {},
     "output_type": "execute_result"
    }
   ],
   "source": [
    "#Создайте матрицу 8x8 и заполните ее в шахматном порядке.\n",
    "\n",
    "import numpy as np\n",
    "\n",
    "# print(np.indices((8,8)).sum(axis=0) % 2)\n",
    "\n",
    "z = np.zeros((8, 8), dtype=int)\n",
    "z[1::2, ::2] = 1\n",
    "z[::2, 1::2] = 1\n",
    "z"
   ]
  },
  {
   "cell_type": "code",
   "execution_count": 226,
   "id": "930297c0",
   "metadata": {
    "ExecuteTime": {
     "end_time": "2022-05-30T13:25:01.246248Z",
     "start_time": "2022-05-30T13:25:01.239645Z"
    }
   },
   "outputs": [
    {
     "data": {
      "text/plain": [
       "array([[-1.41421356, -0.70710678,  0.        ,  0.70710678,  1.41421356],\n",
       "       [ 1.41421356,  0.70710678,  0.        , -0.70710678, -1.41421356],\n",
       "       [-1.41421356, -0.70710678,  0.        ,  0.70710678,  1.41421356],\n",
       "       [ 1.41421356,  0.70710678,  0.        , -0.70710678, -1.41421356]])"
      ]
     },
     "execution_count": 226,
     "metadata": {},
     "output_type": "execute_result"
    }
   ],
   "source": [
    "#Нормализуйте матрицу Z\n",
    "\n",
    "import numpy as np\n",
    "\n",
    "Z = np.array([[1, 2, 3, 4, 5], [5, 4, 3, 2, 1], [1, 2, 3, 4, 5],\n",
    "              [5, 4, 3, 2, 1]])\n",
    "(Z - Z.mean()) / Z.std()"
   ]
  },
  {
   "cell_type": "code",
   "execution_count": 227,
   "id": "e2311424",
   "metadata": {
    "ExecuteTime": {
     "end_time": "2022-05-30T13:25:01.253547Z",
     "start_time": "2022-05-30T13:25:01.248194Z"
    }
   },
   "outputs": [
    {
     "data": {
      "text/plain": [
       "array([[3., 3.],\n",
       "       [3., 3.],\n",
       "       [3., 3.],\n",
       "       [3., 3.],\n",
       "       [3., 3.]])"
      ]
     },
     "execution_count": 227,
     "metadata": {},
     "output_type": "execute_result"
    }
   ],
   "source": [
    "#Выполните матричное умножение А и B\n",
    "\n",
    "import numpy as np\n",
    "\n",
    "A = np.ones((5, 3))\n",
    "B = np.ones((3, 2))\n",
    "\n",
    "np.dot(A, B)"
   ]
  },
  {
   "cell_type": "code",
   "execution_count": 228,
   "id": "c7a6dd34",
   "metadata": {
    "ExecuteTime": {
     "end_time": "2022-05-30T13:25:01.260094Z",
     "start_time": "2022-05-30T13:25:01.255370Z"
    }
   },
   "outputs": [
    {
     "data": {
      "text/plain": [
       "array([ 0,  1,  2,  3, -4, -5, -6, -7,  8,  9, 10])"
      ]
     },
     "execution_count": 228,
     "metadata": {},
     "output_type": "execute_result"
    }
   ],
   "source": [
    "#Выполните умножение на -1 те значения, которые больше 3, но меньше 8.\n",
    "\n",
    "import numpy as np\n",
    "\n",
    "Z = np.arange(11)\n",
    "\n",
    "np.where((Z > 3) & (Z < 8), -1 * Z, Z)"
   ]
  },
  {
   "cell_type": "code",
   "execution_count": 229,
   "id": "3daf5de8",
   "metadata": {
    "ExecuteTime": {
     "end_time": "2022-05-30T13:25:01.273618Z",
     "start_time": "2022-05-30T13:25:01.262405Z"
    }
   },
   "outputs": [
    {
     "data": {
      "text/plain": [
       "array([4, 5])"
      ]
     },
     "execution_count": 229,
     "metadata": {},
     "output_type": "execute_result"
    }
   ],
   "source": [
    "#Как найти общие значения между двумя массивами Z1 и Z2?\n",
    "\n",
    "import numpy as np\n",
    "\n",
    "Z1 = np.array([1, 2, 3, 4, 5])\n",
    "Z2 = np.array([6, 7, 8, 9, 5, 4])\n",
    "\n",
    "np.intersect1d(Z1, Z2)"
   ]
  },
  {
   "cell_type": "code",
   "execution_count": 230,
   "id": "22dfdb4e",
   "metadata": {
    "ExecuteTime": {
     "end_time": "2022-05-30T13:25:01.282892Z",
     "start_time": "2022-05-30T13:25:01.275705Z"
    }
   },
   "outputs": [
    {
     "data": {
      "text/plain": [
       "array([-1.5, -1.5, -1.5])"
      ]
     },
     "execution_count": 230,
     "metadata": {},
     "output_type": "execute_result"
    }
   ],
   "source": [
    "#Вычислите ((A+B)*(-A/2)) без копирования массивов.\n",
    "\n",
    "import numpy as np\n",
    "\n",
    "A = np.ones(3) * 1\n",
    "B = np.ones(3) * 2\n",
    "\n",
    "np.multiply(np.add(A, B), np.divide(np.negative(A), 2))"
   ]
  },
  {
   "cell_type": "code",
   "execution_count": 231,
   "id": "9178f4d0",
   "metadata": {
    "ExecuteTime": {
     "end_time": "2022-05-30T13:25:01.289054Z",
     "start_time": "2022-05-30T13:25:01.284532Z"
    }
   },
   "outputs": [
    {
     "data": {
      "text/plain": [
       "array([[0., 1., 2., 3., 4.],\n",
       "       [0., 1., 2., 3., 4.],\n",
       "       [0., 1., 2., 3., 4.],\n",
       "       [0., 1., 2., 3., 4.],\n",
       "       [0., 1., 2., 3., 4.]])"
      ]
     },
     "execution_count": 231,
     "metadata": {},
     "output_type": "execute_result"
    }
   ],
   "source": [
    "#Создайте матрицу 5x5 со значениями строк в диапазоне от 0 до 4.\n",
    "\n",
    "import numpy as np\n",
    "\n",
    "np.ones((5, 5)) * np.arange(5)"
   ]
  },
  {
   "cell_type": "code",
   "execution_count": 232,
   "id": "f193210b",
   "metadata": {
    "ExecuteTime": {
     "end_time": "2022-05-30T13:25:01.296306Z",
     "start_time": "2022-05-30T13:25:01.290579Z"
    }
   },
   "outputs": [
    {
     "data": {
      "text/plain": [
       "array([0.09090909, 0.18181818, 0.27272727, 0.36363636, 0.45454545,\n",
       "       0.54545455, 0.63636364, 0.72727273, 0.81818182, 0.90909091])"
      ]
     },
     "execution_count": 232,
     "metadata": {},
     "output_type": "execute_result"
    }
   ],
   "source": [
    "#Создайте вектор размера 10 со значениями в диапазоне от 0 до 1. (0 и 1 не должны входить)\n",
    "\n",
    "import numpy as np\n",
    "\n",
    "np.linspace(0, 1, num=11, endpoint=False)[-10:]"
   ]
  },
  {
   "cell_type": "code",
   "execution_count": 233,
   "id": "4271bc55",
   "metadata": {
    "ExecuteTime": {
     "end_time": "2022-05-30T13:25:01.306062Z",
     "start_time": "2022-05-30T13:25:01.299161Z"
    }
   },
   "outputs": [
    {
     "data": {
      "text/plain": [
       "array([4, 5, 6, 7, 8, 9])"
      ]
     },
     "execution_count": 233,
     "metadata": {},
     "output_type": "execute_result"
    }
   ],
   "source": [
    "#Выполните сортировку массива Z\n",
    "\n",
    "import numpy as np\n",
    "\n",
    "Z = np.array([6, 9, 5, 7, 8, 4])\n",
    "\n",
    "np.sort(Z)"
   ]
  },
  {
   "cell_type": "markdown",
   "id": "76280938",
   "metadata": {},
   "source": [
    "# Step 2.3"
   ]
  },
  {
   "cell_type": "code",
   "execution_count": 234,
   "id": "ad64db2a",
   "metadata": {
    "ExecuteTime": {
     "end_time": "2022-05-30T13:25:01.318328Z",
     "start_time": "2022-05-30T13:25:01.308422Z"
    }
   },
   "outputs": [
    {
     "name": "stderr",
     "output_type": "stream",
     "text": [
      "/tmp/ipykernel_4507/1554705133.py:9: RuntimeWarning: invalid value encountered in true_divide\n",
      "  np.array(0) / np.array(0),\n",
      "/tmp/ipykernel_4507/1554705133.py:10: RuntimeWarning: divide by zero encountered in floor_divide\n",
      "  np.array(0) // np.array(0),\n"
     ]
    },
    {
     "data": {
      "text/plain": [
       "0                         NaN\n",
       "1                       False\n",
       "2                       False\n",
       "3                         NaN\n",
       "4                        True\n",
       "5                       False\n",
       "6                         NaN\n",
       "7                           0\n",
       "8    [-9.223372036854776e+18]\n",
       "9             [0, 1, 2, 4, 8]\n",
       "dtype: object"
      ]
     },
     "execution_count": 234,
     "metadata": {},
     "output_type": "execute_result"
    }
   ],
   "source": [
    "#Чему равен результат операции:\n",
    "\n",
    "import numpy as np\n",
    "import pandas as pd\n",
    "\n",
    "pd.Series([\n",
    "    0 * np.nan, np.nan == np.nan, np.inf > np.nan, np.nan - np.nan, np.nan\n",
    "    in set([np.nan]), 0.3 == 3 * 0.1,\n",
    "    np.array(0) / np.array(0),\n",
    "    np.array(0) // np.array(0),\n",
    "    np.array([np.nan]).astype(int).astype(float), 2 << np.arange(5) >> 2\n",
    "])"
   ]
  },
  {
   "cell_type": "markdown",
   "id": "3ef7e91e",
   "metadata": {},
   "source": [
    "# Step 2.4"
   ]
  },
  {
   "cell_type": "code",
   "execution_count": 235,
   "id": "6d354698",
   "metadata": {
    "ExecuteTime": {
     "end_time": "2022-05-30T13:25:01.326006Z",
     "start_time": "2022-05-30T13:25:01.320147Z"
    }
   },
   "outputs": [
    {
     "data": {
      "text/plain": [
       "True"
      ]
     },
     "execution_count": 235,
     "metadata": {},
     "output_type": "execute_result"
    }
   ],
   "source": [
    "#Проверьте, равны ли элементы массивов A и B в пределах допуска, который равен 1\n",
    "#(проверка на приблизительное равенство).\n",
    "\n",
    "import numpy as np\n",
    "\n",
    "A = np.array([1, 2, 3, 4, 5])\n",
    "B = np.array([2, 3, 4, 5, 6])\n",
    "\n",
    "# np.all(np.abs(A-B) <= 1)\n",
    "np.allclose(A, B, atol=1)"
   ]
  },
  {
   "cell_type": "code",
   "execution_count": 236,
   "id": "de449c9a",
   "metadata": {
    "ExecuteTime": {
     "end_time": "2022-05-30T13:25:01.336663Z",
     "start_time": "2022-05-30T13:25:01.328508Z"
    }
   },
   "outputs": [
    {
     "name": "stdout",
     "output_type": "stream",
     "text": [
      "[0.74825819 0.68294516 1.02312669 1.0192263  0.71304601 0.56093145\n",
      " 0.92551255 0.93814859 1.01328548 0.33529741]\n",
      "[0.53384421 0.24197957 0.34566872 0.23271877 0.60693925 1.32547133\n",
      " 0.97655486 0.09576376 1.37636924 0.79342443]\n"
     ]
    }
   ],
   "source": [
    "# Матрица Z размером 10x2, содержит декартовы координаты. Преобразуйте их в полярные координаты.\n",
    "\n",
    "import numpy as np\n",
    "\n",
    "Z = np.array([[0.64414354, 0.38074849], [0.66304791, 0.16365073],\n",
    "              [0.96260781, 0.34666184], [0.99175099, 0.2350579],\n",
    "              [0.58569427, 0.4066901], [0.13623432, 0.54413629],\n",
    "              [0.51817635, 0.76685511], [0.93385014, 0.08970338],\n",
    "              [0.19577126, 0.99419368], [0.2351805, 0.23898637]])\n",
    "\n",
    "print(np.sqrt(Z[:, 1]**2 + Z[:, 0]**2))\n",
    "print(np.arctan2(Z[:, 1], Z[:, 0]))"
   ]
  },
  {
   "cell_type": "code",
   "execution_count": 237,
   "id": "0c7bd341",
   "metadata": {
    "ExecuteTime": {
     "end_time": "2022-05-30T13:25:01.347454Z",
     "start_time": "2022-05-30T13:25:01.339570Z"
    }
   },
   "outputs": [
    {
     "data": {
      "text/plain": [
       "array([ 1,  6,  3,  9,  3,  6,  7, -1,  3])"
      ]
     },
     "execution_count": 237,
     "metadata": {},
     "output_type": "execute_result"
    }
   ],
   "source": [
    "#Замените максимальное значение массива на -1\n",
    "\n",
    "import numpy as np\n",
    "\n",
    "Z = np.array([1, 6, 3, 9, 3, 6, 7, 10, 3])\n",
    "\n",
    "Z[np.argsort(Z)[-1]] = -1\n",
    "Z"
   ]
  },
  {
   "cell_type": "code",
   "execution_count": 238,
   "id": "5b08e326",
   "metadata": {
    "ExecuteTime": {
     "end_time": "2022-05-30T13:25:01.357169Z",
     "start_time": "2022-05-30T13:25:01.349848Z"
    }
   },
   "outputs": [
    {
     "data": {
      "text/plain": [
       "3638.1636371179666"
      ]
     },
     "execution_count": 238,
     "metadata": {},
     "output_type": "execute_result"
    }
   ],
   "source": [
    "#Имея массивы X и Y постройте матрицу Коши: C (Cij =1/(xi - yj))а затем посчитайте детерминант.\n",
    "\n",
    "import numpy as np\n",
    "\n",
    "X = np.arange(8)\n",
    "Y = X + 0.5\n",
    "\n",
    "C = np.zeros((8, 8))\n",
    "for j, v in enumerate(Y):\n",
    "    C[j] = 1 / (X - v)\n",
    "\n",
    "np.linalg.det(C)"
   ]
  },
  {
   "cell_type": "code",
   "execution_count": 239,
   "id": "801347d7",
   "metadata": {
    "ExecuteTime": {
     "end_time": "2022-05-30T13:25:01.364461Z",
     "start_time": "2022-05-30T13:25:01.359192Z"
    }
   },
   "outputs": [
    {
     "data": {
      "text/plain": [
       "68"
      ]
     },
     "execution_count": 239,
     "metadata": {},
     "output_type": "execute_result"
    }
   ],
   "source": [
    "#Найдите ближайшее значение (к заданному скаляру v) в векторе Z?\n",
    "\n",
    "import numpy as np\n",
    "\n",
    "Z = np.arange(100)\n",
    "v = 68.2139380784148\n",
    "\n",
    "Z[np.abs(Z - v).argmin()]"
   ]
  }
 ],
 "metadata": {
  "kernelspec": {
   "display_name": "Python 3 (ipykernel)",
   "language": "python",
   "name": "python3"
  },
  "language_info": {
   "codemirror_mode": {
    "name": "ipython",
    "version": 3
   },
   "file_extension": ".py",
   "mimetype": "text/x-python",
   "name": "python",
   "nbconvert_exporter": "python",
   "pygments_lexer": "ipython3",
   "version": "3.8.10"
  },
  "latex_envs": {
   "LaTeX_envs_menu_present": true,
   "autoclose": false,
   "autocomplete": true,
   "bibliofile": "biblio.bib",
   "cite_by": "apalike",
   "current_citInitial": 1,
   "eqLabelWithNumbers": true,
   "eqNumInitial": 1,
   "hotkeys": {
    "equation": "Ctrl-E",
    "itemize": "Ctrl-I"
   },
   "labels_anchors": false,
   "latex_user_defs": false,
   "report_style_numbering": false,
   "user_envs_cfg": false
  },
  "varInspector": {
   "cols": {
    "lenName": 16,
    "lenType": 16,
    "lenVar": 40
   },
   "kernels_config": {
    "python": {
     "delete_cmd_postfix": "",
     "delete_cmd_prefix": "del ",
     "library": "var_list.py",
     "varRefreshCmd": "print(var_dic_list())"
    },
    "r": {
     "delete_cmd_postfix": ") ",
     "delete_cmd_prefix": "rm(",
     "library": "var_list.r",
     "varRefreshCmd": "cat(var_dic_list()) "
    }
   },
   "position": {
    "height": "117.85px",
    "left": "985px",
    "right": "20px",
    "top": "166px",
    "width": "412px"
   },
   "types_to_exclude": [
    "module",
    "function",
    "builtin_function_or_method",
    "instance",
    "_Feature"
   ],
   "window_display": false
  }
 },
 "nbformat": 4,
 "nbformat_minor": 5
}
