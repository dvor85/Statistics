{
 "cells": [
  {
   "cell_type": "markdown",
   "id": "3c28994b",
   "metadata": {},
   "source": [
    "# 1.3 Расстояние $\\chi^2$ Пирсона"
   ]
  },
  {
   "cell_type": "markdown",
   "id": "39988563",
   "metadata": {},
   "source": [
    "O - observed (наблюдаемый)  \n",
    "E - expected (ожидаемый)  \n",
    "\n",
    "$$\\chi^2=\\sum^n_{i=1}{\\frac{(O_i-E_i)^2}{E_i}}$$"
   ]
  },
  {
   "cell_type": "markdown",
   "id": "c2b7de06",
   "metadata": {},
   "source": [
    "### Пример 1  \n",
    "#### Чему будут равны ожидаемые значения частот и $\\chi^2$?\n"
   ]
  },
  {
   "cell_type": "code",
   "execution_count": 5,
   "id": "a44e32b2",
   "metadata": {},
   "outputs": [
    {
     "name": "stdout",
     "output_type": "stream",
     "text": [
      "Ei=array([25., 50., 25.])\n",
      "x2=2.62\n"
     ]
    }
   ],
   "source": [
    "import numpy as np\n",
    "\n",
    "#В одном из опытов эмпирическое распределение частот некоторого цвета гороха приняло следующий вид:\n",
    "peas = np.array([18,55,27])\n",
    "#предполагаемое теоретическое распределение имеет следующий вид\n",
    "prop = np.array([1,2,1])\n",
    "\n",
    "Ei = prop*peas.sum()/prop.sum()\n",
    "print(f\"{Ei=}\")\n",
    "x2 = (((peas - Ei)**2)/Ei).sum()\n",
    "print(f\"{x2=}\")\n",
    "\n"
   ]
  },
  {
   "cell_type": "markdown",
   "id": "e5a8a8dc",
   "metadata": {},
   "source": [
    "# 1.4 Расспределение $\\chi^2$ Пирсона"
   ]
  },
  {
   "cell_type": "markdown",
   "id": "f7a5347c",
   "metadata": {},
   "source": [
    "### Пример 2  \n",
    "#### Симуляция распределения $\\chi^2$"
   ]
  },
  {
   "cell_type": "code",
   "execution_count": 35,
   "id": "ef119e61",
   "metadata": {},
   "outputs": [
    {
     "data": {
      "image/png": "[encoded data removed]",
      "text/plain": [
       "<Figure size 432x288 with 1 Axes>"
      ]
     },
     "metadata": {
      "needs_background": "light"
     },
     "output_type": "display_data"
    }
   ],
   "source": [
    "import matplotlib.pyplot as plt\n",
    "import numpy as np\n",
    "\n",
    "plt.hist(np.random.chisquare(1, 10000), 10)\n",
    "plt.show()"
   ]
  },
  {
   "cell_type": "markdown",
   "id": "5f480b1d",
   "metadata": {},
   "source": [
    "**Распределение Хи-квадрат с k степенями свободы** - *это распределение суммы квадратов k независимых стандартных нормальных случайных величин*"
   ]
  },
  {
   "cell_type": "code",
   "execution_count": 37,
   "id": "848d651b",
   "metadata": {},
   "outputs": [
    {
     "data": {
      "image/png": "[encoded data removed]",
      "text/plain": [
       "<Figure size 432x288 with 1 Axes>"
      ]
     },
     "metadata": {
      "needs_background": "light"
     },
     "output_type": "display_data"
    }
   ],
   "source": [
    "import matplotlib.pyplot as plt\n",
    "import numpy as np\n",
    "\n",
    "plt.hist(np.array([np.random.normal(0, 1)**2 +\n",
    "         np.random.normal(0, 1)**2 for _ in range(10000)]), bins=48)\n",
    "plt.show()"
   ]
  },
  {
   "cell_type": "markdown",
   "id": "ac8d5915",
   "metadata": {},
   "source": [
    "**Расстояние Хи-квадрат с k степенями свободы** - это квадрат расстояния до точки в k - мерном пространстве.  \n",
    "Распределение с большим количеством степеней свободы будет стремиться к нормальному."
   ]
  },
  {
   "cell_type": "markdown",
   "id": "54d7928a",
   "metadata": {},
   "source": [
    "Давайте вспомним как рассчитывается значение статистики в тесте Стьюдента (на примере одновыборочного теста):\n",
    "\n",
    "$$t = \\frac{\\bar{x} - \\mu }{\\frac{s}{\\sqrt{n}}}\n",
    "$$\n",
    "\n",
    "В знаменателе у нас находится стандартная ошибка, которая представляет собой выборочное стандартное отклонение, делённое на  корень из объёма выборки. В расчёт стандартного отклонения входит сумма квадратов отклонений наблюдаемых значений от их среднего значения - то есть сумма нескольких случайных положительных величин. А из предыдущих степов мы знаем, что сумма квадратов n случайных положительных величин может быть описана при помощи распределения хи-квадрат с n-1 степеням свободы! Так как зная выборочное среднее и n-1 элементов выборки мы всегда можем точно задать последний элемент! Получается, в знаменателе t-статистики у нас спрятано распределение хи-квадрат, для которого нам и нужно знать количество степеней свободы! Таким образом, степени свободы в T-распределении на самом деле берутся из распределения хи-квадрат, которое спрятано в формуле T-статистики.\n",
    "\n",
    "Давайте теперь вспомним формулу F-статистики, которая является главным показателем дисперсионного анализа:\n",
    "\n",
    "$$F = \\frac{\\sum_{j=1}^{k} n_{i}(\\bar{y_{j}} - \\bar{y})^2/(k-1)}{\\sum_{j=1}^{k}\\sum_{i=1}^{n_{j}} (y_{ij} - \\bar{y_{j}})^2/(n-k)}$$\n",
    "\n",
    "В числителе находится сумма квадратов отклонений групповых средних от общего среднего. В знаменателе у нас сумма квадратов отклонений наблюдений от внутригрупповых средних. Таким образом, у нас опять две величины, складывающиеся из квадратов независимых положительных случайных величин. Высчитывая F-значение, мы делим одну величину, имеющую распределение хи-квадрат, на другую величину, имеющую распределение хи-квадрат. Каждой из них соответствует своё количество степеней свободы. Получается, что распределение F-статистики будет характеризоваться двумя параметрами - степенями свободы для двух распределений хи-квадрат!"
   ]
  },
  {
   "cell_type": "markdown",
   "id": "e28120fd",
   "metadata": {},
   "source": [
    "# 1.5 Рассчет p-уровня значимости"
   ]
  },
  {
   "cell_type": "markdown",
   "id": "ba8def21",
   "metadata": {},
   "source": [
    "**Число степеней свободы** - это число независимых слагаемых в распределении хи-квадрат  \n",
    "Например для монетки будет одна степень свободы. Так если из 60 подбрасываний 20 раз выпалала решка, то мы можем точно сказать, что 40 раз выпал орел. С игральной костью - тоже самое: если мы знаем сколько раз выпали 5 граней, то можем точно сказать - сколько раз выпала 6 грань. Т.е. для игральной кости число степеней свободы = 5."
   ]
  },
  {
   "cell_type": "code",
   "execution_count": 21,
   "id": "0bdfb8a0",
   "metadata": {},
   "outputs": [
    {
     "name": "stdout",
     "output_type": "stream",
     "text": [
      "p-value = 0.009823274507519235\n"
     ]
    }
   ],
   "source": [
    "from scipy.stats import chisquare\n",
    "\n",
    "# p-value\n",
    "print(\"p-value =\", chisquare([20, 40], ddof=0).pvalue)"
   ]
  },
  {
   "cell_type": "markdown",
   "id": "9e6a2c8c",
   "metadata": {},
   "source": [
    "#### Пример 1  \n",
    "Какая доля наблюдений лежит в диапазоне от 2 до 4 у распределения хи-квадрат с двумя степенями свободы?"
   ]
  },
  {
   "cell_type": "code",
   "execution_count": 16,
   "id": "523664f7",
   "metadata": {},
   "outputs": [
    {
     "name": "stdout",
     "output_type": "stream",
     "text": [
      "0.23254415793482963\n"
     ]
    }
   ],
   "source": [
    "from scipy import stats\n",
    "\n",
    "a = stats.chi2.cdf(2, 2)\n",
    "b = stats.chi2.cdf(4, 2)\n",
    "\n",
    "print(b-a)"
   ]
  },
  {
   "cell_type": "markdown",
   "id": "1fd0a95d",
   "metadata": {},
   "source": [
    "#### Пример 2  \n",
    "p-уровень значимости для нашего примера с игральной костью"
   ]
  },
  {
   "cell_type": "code",
   "execution_count": 22,
   "id": "2d72659e",
   "metadata": {},
   "outputs": [
    {
     "name": "stdout",
     "output_type": "stream",
     "text": [
      "p-value = 0.4158801869955079\n"
     ]
    }
   ],
   "source": [
    "from scipy.stats import chisquare\n",
    "\n",
    "# p-value\n",
    "print(\"p-value =\", chisquare([10, 10, 10, 5, 10, 15], ddof=0).pvalue)"
   ]
  },
  {
   "cell_type": "markdown",
   "id": "ee519952",
   "metadata": {},
   "source": [
    "#### Пример 3  \n",
    "Проверьте гипотезу о том, что в ГС нет никаких различий в предпочтениях трех партий"
   ]
  },
  {
   "cell_type": "code",
   "execution_count": 28,
   "id": "d7f7a565",
   "metadata": {},
   "outputs": [
    {
     "name": "stdout",
     "output_type": "stream",
     "text": [
      "X^2 = 26.7\n"
     ]
    }
   ],
   "source": [
    "from scipy.stats import chisquare\n",
    "\n",
    "print(\"X^2 =\", round(chisquare([10, 30, 50]).statistic, 1))"
   ]
  },
  {
   "cell_type": "markdown",
   "id": "f46208cd",
   "metadata": {},
   "source": [
    "#### Пример 4\n",
    "распределение частот девушек и юношей"
   ]
  },
  {
   "cell_type": "code",
   "execution_count": 29,
   "id": "b38eec48",
   "metadata": {},
   "outputs": [
    {
     "name": "stdout",
     "output_type": "stream",
     "text": [
      "p-value = 0.22067136191984324\n"
     ]
    }
   ],
   "source": [
    "from scipy.stats import chisquare\n",
    "\n",
    "# p-value\n",
    "print(\"p-value =\", chisquare([15, 9], ddof=0).pvalue)"
   ]
  },
  {
   "cell_type": "markdown",
   "id": "2cd358b5",
   "metadata": {},
   "source": [
    "#### Пример 5  \n",
    "Оценка поступка Сноудена"
   ]
  },
  {
   "cell_type": "code",
   "execution_count": 30,
   "id": "997edfc5",
   "metadata": {},
   "outputs": [
    {
     "name": "stdout",
     "output_type": "stream",
     "text": [
      "p-value = 0.02013675155034633\n"
     ]
    }
   ],
   "source": [
    "from scipy.stats import chisquare\n",
    "\n",
    "# p-value\n",
    "o1 = 1500*0.53\n",
    "print(\"p-value =\", chisquare([o1, 1500-o1], ddof=0).pvalue)"
   ]
  },
  {
   "cell_type": "markdown",
   "id": "a505293b",
   "metadata": {},
   "source": [
    "## 1.6 Анализ таблиц сопряженности"
   ]
  },
  {
   "cell_type": "markdown",
   "id": "4d5b590b",
   "metadata": {},
   "source": [
    "|   | Юноши | Девушки | Всего |\n",
    "|---|---|---|---|\n",
    "| **Биологи** | 15 | 9 | 24 |\n",
    "| **Информатики** | 11 | 6 | 17 |\n",
    "| **Всего** | 26 | 15 | 41 |\n",
    "\n",
    "$$VS$$\n",
    "\n",
    "|   | Юноши | Девушки | Всего |\n",
    "|---|---|---|---|\n",
    "| **Биологи** | 15.2 | 8.8 |24|\n",
    "| **Информатики** | 10.8 | 6.2 |17|\n",
    "| **Всего** | 26 | 15 |41|\n",
    "\n",
    "**Нулевая Гипотеза** - Распределение не отличается от ожидаемого  \n",
    "**Альтернативная гипотеза** - Распределение отличается, или иными словами 2 переменные взаимосвязаны между собой  \n",
    "\n",
    "Формала рассчеча ожидаемого значения:\n",
    "$$\n",
    "f_{ij} = \\frac{f_i \\cdot f_j}{N},\\\\\n",
    "f_{i}\\ -\\ число\\ наблюдений\\ в\\ i-ой\\ строке \\\\\n",
    "f_{j}\\ -\\ число\\ наблюдений\\ в\\ j-ой\\ строке\\\\\n",
    "N\\ -\\ Общее\\ количество\\ наблюдений \n",
    "$$\n"
   ]
  },
  {
   "cell_type": "markdown",
   "id": "a28ae67e",
   "metadata": {},
   "source": [
    "#### Пример 1\n",
    "Рассчитайте ожидаемые частоты для проверки нулевой гипотезы о независимости двух переменных X и Y\n"
   ]
  },
  {
   "cell_type": "code",
   "execution_count": 5,
   "id": "6afda812",
   "metadata": {},
   "outputs": [
    {
     "name": "stdout",
     "output_type": "stream",
     "text": [
      "Ручной рассчет:\n",
      " [[ 6.66666667  9.33333333]\n",
      " [ 8.33333333 11.66666667]]\n",
      "Рассчет с помощью библиотеки scipy:\n",
      " [[ 6.66666667  9.33333333]\n",
      " [ 8.33333333 11.66666667]]\n",
      "max freq = 11.7\n"
     ]
    }
   ],
   "source": [
    "import numpy as np\n",
    "from scipy import stats\n",
    "\n",
    "XY = np.array([[10, 6],\n",
    "               [5, 15]], dtype='float64')\n",
    "\n",
    "f = np.array(XY)\n",
    "\n",
    "for j, vi in enumerate(XY.sum(axis=0)):\n",
    "    for i, vj in enumerate(XY.sum(axis=1)):\n",
    "        f[i, j] = vi * vj / XY.sum()\n",
    "        \n",
    "print(\"Ручной рассчет:\\n\", f)\n",
    "\n",
    "f = stats.contingency.expected_freq(XY)\n",
    "print(\"Рассчет с помощью библиотеки scipy:\\n\", f)\n",
    "print(f\"max freq = {f.max():.1f}\")"
   ]
  },
  {
   "cell_type": "markdown",
   "id": "3628f352",
   "metadata": {},
   "source": [
    "#### Поправка Йетса  \n",
    "В теории распределение хи-квадрат непрерывно, тогда как вычисляемые значения всегда дискретны, в результате нулевая гипотеза может отвергаться слишком часто. Чтобы скорректирвоать значения p-уровня значимости, применяется поправка Йетса на непрерывность. *Обычно применяется, когда некоторые ожидаемые частоты меньше 10 и для таблиц 2х2*.\n",
    "\n",
    "$$\\chi^2=\\sum^n_{i=1}{\\frac{(\\mid O_i-E_i\\mid - 0.5)^2}{E_i}}$$"
   ]
  },
  {
   "cell_type": "code",
   "execution_count": 30,
   "id": "91abf2bc",
   "metadata": {},
   "outputs": [
    {
     "name": "stdout",
     "output_type": "stream",
     "text": [
      "X2=0.0340764831573656\n",
      "chi2=0.0 p_value=1.0 ddof=1 expected=array([[15.2195122,  8.7804878],\n",
      "       [10.7804878,  6.2195122]])\n"
     ]
    }
   ],
   "source": [
    "import numpy as np\n",
    "from scipy import stats\n",
    "\n",
    "O = np.array([[15, 9], [11, 6]], dtype='float64')\n",
    "E = stats.contingency.expected_freq(O)\n",
    "yets = 0.5\n",
    "\n",
    "X2 = np.sum((np.absolute(O-E)-0.5)**2/E)\n",
    "print(f\"{X2=}\")\n",
    "chi2, p_value, ddof, expected = stats.chi2_contingency(O, correction=True)\n",
    "print(f\"{chi2=} {p_value=} {ddof=} {expected=}\")"
   ]
  },
  {
   "cell_type": "markdown",
   "id": "4cdd2c48",
   "metadata": {},
   "source": [
    "**Выводы:**\n",
    "- Критерий хи-квадрат проверяет гипотезу о том, что наблюдаемое распределение номинативной переменной отличается от ожидаемого\n",
    "- Для одной номинативной переменной df=n-1, где n - количество столбцов таблицы\n",
    "- Для таблиц сопряженности df = (n-1) * (m-1), где n - количество столбцов, m - количество строк\n",
    "\n",
    "**Условия применения:**  \n",
    "1. Все наблюдения независимы\n",
    "2. Минимальное количество ожидаемых наблюдений в каждой из ячеек должно быть больше 5."
   ]
  },
  {
   "cell_type": "markdown",
   "id": "5b6ffb6f",
   "metadata": {},
   "source": [
    "#### Пример 1 Проверьте нулевую гипотезу о взаимосвязи стиля вождения и пола водителя. "
   ]
  },
  {
   "cell_type": "code",
   "execution_count": 41,
   "id": "3b66bf00",
   "metadata": {},
   "outputs": [
    {
     "name": "stdout",
     "output_type": "stream",
     "text": [
      "chi2=0.95 p_value=0.62 ddof=2 \n",
      "expected values:\n",
      "[[17.97 17.03]\n",
      " [11.81 11.19]\n",
      " [ 8.22  7.78]]\n"
     ]
    }
   ],
   "source": [
    "import numpy as np\n",
    "from scipy import stats\n",
    "\n",
    "O = np.array([[20, 15], [11, 12], [7, 9]], dtype='float64')\n",
    "chi2, p_value, ddof, expected = stats.chi2_contingency(O)\n",
    "print(f\"{chi2=:.2f} {p_value=:.2f} {ddof=} \\nexpected values:\\n{np.round(expected,2)}\")"
   ]
  },
  {
   "cell_type": "markdown",
   "id": "8e1685ce",
   "metadata": {},
   "source": [
    "### Анализ остатков  \n",
    "Позволяет выявить, какие именно частоты значимо отклоняются от ожидаемых значений"
   ]
  },
  {
   "cell_type": "code",
   "execution_count": 74,
   "id": "d4bc6ca6",
   "metadata": {},
   "outputs": [
    {
     "name": "stdout",
     "output_type": "stream",
     "text": [
      "         Yes  No\n",
      "Placebo   18   7\n",
      "Aspirin    6  13\n"
     ]
    },
    {
     "data": {
      "image/png": "[encoded data removed]",
      "text/plain": [
       "<Figure size 432x288 with 3 Axes>"
      ]
     },
     "metadata": {
      "needs_background": "light"
     },
     "output_type": "display_data"
    }
   ],
   "source": [
    "import pandas as pd\n",
    "from statsmodels.graphics.mosaicplot import mosaic\n",
    "\n",
    "tab = pd.DataFrame([[18,7],[6,13]], index=('Placebo','Aspirin'), columns=['Yes','No'])\n",
    "print(tab)\n",
    "\n",
    "_=mosaic(tab.stack(), horizontal=True, title='mosaic-plot', statistic=True, gap=0.02)"
   ]
  },
  {
   "cell_type": "markdown",
   "id": "45cbb1be",
   "metadata": {},
   "source": [
    "**Итого:**\n",
    "- размер прямоугольников  соответствует количеству наблюдений.\n",
    "- цвет прямоугольников - величине значимости отклонения ожидаемых и наблюдаемых частот в этой ячейке.\n",
    "- если значения стандартизированных остатков по модулю больше 3х, можно считать, что в этой ячейке зафиксированы значимые отклонения."
   ]
  },
  {
   "cell_type": "markdown",
   "id": "0b8be850",
   "metadata": {},
   "source": [
    "## 1.8 Точный критерий Фишера\n",
    "Как правило применяется для очень маленьких выборок, когда критерий хи-квадрат применять не совсем корректно. В тесте Фишера фиксированы и суммы по строкам, и суммы по столбцам.\n",
    "\n",
    "| | Поправился | Не поправился | Сумма |\n",
    "|---|---|---|---|\n",
    "|Лекарство №1 | a | b |a+b|\n",
    "|Лекарство №2 | c | d |c+d|\n",
    "|Сумма|a+c|b|d|n|\n",
    "\n",
    "$$\n",
    "p=\\frac{C_{a+b}^a\\cdot C_{c+d}^c}{C_{n}^{a+c}},\\ p\\ -\\ вероятность,\\ С\\ -\\ число\\ сочетаний \n",
    "$$"
   ]
  }
 ],
 "metadata": {
  "kernelspec": {
   "display_name": "Python 3 (ipykernel)",
   "language": "python",
   "name": "python3"
  },
  "language_info": {
   "codemirror_mode": {
    "name": "ipython",
    "version": 3
   },
   "file_extension": ".py",
   "mimetype": "text/x-python",
   "name": "python",
   "nbconvert_exporter": "python",
   "pygments_lexer": "ipython3",
   "version": "3.8.10"
  },
  "latex_envs": {
   "LaTeX_envs_menu_present": true,
   "autoclose": true,
   "autocomplete": true,
   "bibliofile": "biblio.bib",
   "cite_by": "apalike",
   "current_citInitial": 1,
   "eqLabelWithNumbers": true,
   "eqNumInitial": 1,
   "hotkeys": {
    "equation": "Ctrl-E",
    "itemize": "Ctrl-I"
   },
   "labels_anchors": false,
   "latex_user_defs": false,
   "report_style_numbering": false,
   "user_envs_cfg": false
  }
 },
 "nbformat": 4,
 "nbformat_minor": 5
}
