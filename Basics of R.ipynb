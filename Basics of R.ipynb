{
 "cells": [
  {
   "cell_type": "markdown",
   "id": "1163794d",
   "metadata": {},
   "source": [
    "### 1.3 Векторы (часть 1)\n",
    "Напишите функцию get_fractions, которая принимает на вход два числа, m и n, и возвращает аналогичный вектор, содержащий все дроби вида {i/m, i = 0, 1, ..., m} и  {j/n, j = 0, 1, ..., n}. Вектор не должен содержать повторов. И -- сюжетный поворот -- должен быть упорядочен в порядке убывания"
   ]
  },
  {
   "cell_type": "code",
   "execution_count": 11,
   "id": "152cbe58",
   "metadata": {
    "slideshow": {
     "slide_type": "-"
    }
   },
   "outputs": [
    {
     "name": "stdout",
     "output_type": "stream",
     "text": [
      " [1] 1.000 0.857 0.714 0.667 0.571 0.429 0.333 0.286 0.143 0.000\n"
     ]
    }
   ],
   "source": [
    "get_fractions <- function(m,n) {\n",
    "    round(unique(sort(c(seq(0,1,1/m),seq(0,1,1/n)),decreasing=TRUE)),3)\n",
    "}\n",
    "\n",
    "#####################\n",
    "print(get_fractions(3,7))\n"
   ]
  },
  {
   "cell_type": "markdown",
   "id": "b59e9ba8",
   "metadata": {},
   "source": [
    "#### Игральный кубик\n",
    "Функция dice_roll(n) должна выдавать n независимых бросков игрального кубика. Допустимые значения, разумеется, в диапазоне от 1 до 6."
   ]
  },
  {
   "cell_type": "code",
   "execution_count": 3,
   "id": "9edce4bb",
   "metadata": {},
   "outputs": [
    {
     "data": {
      "text/plain": [
       "\n",
       "  1   2   3   4   5   6 \n",
       "172 185 148 144 175 176 "
      ]
     },
     "metadata": {},
     "output_type": "display_data"
    }
   ],
   "source": [
    "dice_roll <- function(n) {\n",
    "    sample(1:6, n, replace = T)\n",
    "}\n",
    "\n",
    "######################\n",
    "table(dice_roll(1000))\n"
   ]
  },
  {
   "cell_type": "markdown",
   "id": "68bb936b",
   "metadata": {},
   "source": [
    "### 1.5 Векторы (часть 2)\n",
    "Напишите функцию, которая принимает один аргумент (числовой вектор) и возвращает TRUE, если вектор обладает свойством нестрогой монотонности, то есть является либо несторого возрастающим, либо нестрого убывающим. В противном случае функция возвращает FALSE."
   ]
  },
  {
   "cell_type": "code",
   "execution_count": 109,
   "id": "731879ed",
   "metadata": {},
   "outputs": [
    {
     "data": {
      "text/html": [
       "<dl>\n",
       "\t<dt>$not_monotone</dt>\n",
       "\t\t<dd>FALSE</dd>\n",
       "\t<dt>$monotone</dt>\n",
       "\t\t<dd>TRUE</dd>\n",
       "</dl>\n"
      ],
      "text/latex": [
       "\\begin{description}\n",
       "\\item[\\$not\\_monotone] FALSE\n",
       "\\item[\\$monotone] TRUE\n",
       "\\end{description}\n"
      ],
      "text/markdown": [
       "$not_monotone\n",
       ":   FALSE\n",
       "$monotone\n",
       ":   TRUE\n",
       "\n",
       "\n"
      ],
      "text/plain": [
       "$not_monotone\n",
       "[1] FALSE\n",
       "\n",
       "$monotone\n",
       "[1] TRUE\n"
      ]
     },
     "metadata": {},
     "output_type": "display_data"
    }
   ],
   "source": [
    "is_monotone <- function(x) {\n",
    "  return(all(sort(x)==x)|all(sort(x,decreasing=T)==x))\n",
    "}\n",
    "\n",
    "####################\n",
    "list(not_monotone = is_monotone(sample(1:10, 10, replace = T)),\n",
    "    monotone = is_monotone(sort(sample(1:10, 10, replace = T))))\n"
   ]
  },
  {
   "cell_type": "markdown",
   "id": "49ac8cfa",
   "metadata": {},
   "source": [
    "#### Разбавим курс ложечкой комбинаторики. \n",
    "Пусть у нас есть n предметов, из которых нужно выбрать k штук. \n",
    "$$\n",
    "C_n^k = \\frac{n!}{k!(n-k)!}\n",
    "$$\n",
    "Похожий вид имеет и количество сочетаний с повторениями (мультикомбинаций):\n",
    "$$\n",
    "C_{(n)}^k = \\frac{(n+k-1)!}{k!(n-1)!}\n",
    "$$"
   ]
  },
  {
   "cell_type": "code",
   "execution_count": 4,
   "id": "9ab3e354",
   "metadata": {},
   "outputs": [
    {
     "data": {
      "text/html": [
       "<dl>\n",
       "\t<dt>$without_repretitions</dt>\n",
       "\t\t<dd>20</dd>\n",
       "\t<dt>$with_repretitions</dt>\n",
       "\t\t<dd>56</dd>\n",
       "</dl>\n"
      ],
      "text/latex": [
       "\\begin{description}\n",
       "\\item[\\$without\\_repretitions] 20\n",
       "\\item[\\$with\\_repretitions] 56\n",
       "\\end{description}\n"
      ],
      "text/markdown": [
       "$without_repretitions\n",
       ":   20\n",
       "$with_repretitions\n",
       ":   56\n",
       "\n",
       "\n"
      ],
      "text/plain": [
       "$without_repretitions\n",
       "[1] 20\n",
       "\n",
       "$with_repretitions\n",
       "[1] 56\n"
      ]
     },
     "metadata": {},
     "output_type": "display_data"
    }
   ],
   "source": [
    "combin_count <- function(n, k, with_repretitions = FALSE) {\n",
    "  if (with_repretitions) {\n",
    "    return(prod(1:(n+k-1))/prod(1:k)/prod(1:(n-1)))\n",
    "  } else {\n",
    "    return(prod(1:n)/prod(1:k)/prod(1:(n-k)))\n",
    "  }\n",
    "}\n",
    "\n",
    "##########################\n",
    "list(without_repretitions = combin_count(6, 3, FALSE),\n",
    "    with_repretitions = combin_count(6, 3, TRUE))\n"
   ]
  },
  {
   "cell_type": "markdown",
   "id": "6464a407",
   "metadata": {},
   "source": [
    "### 2.1 Матрицы и списки\n",
    "Предположим, что у нас есть целочисленный вектор v и число n. Наша задача — найти позицию элемента в векторе, который ближе всего к числу n. При этом если таких элементов несколько, необходимо указать все позиции.\n",
    "\n",
    "Напишите функцию, которая принимает на вход вектор и число и возвращает вектор индексов, отвечающих указанному условию. Индексы должны быть выстроены по возрастанию."
   ]
  },
  {
   "cell_type": "code",
   "execution_count": 6,
   "id": "4c11649a",
   "metadata": {},
   "outputs": [
    {
     "name": "stdout",
     "output_type": "stream",
     "text": [
      "[1] 2 6 7 8\n"
     ]
    }
   ],
   "source": [
    "find_closest <- function(v, n) {\n",
    "    d=abs(v-n)\n",
    "    return(which(d == min(d)))\n",
    "}\n",
    "\n",
    "###########################\n",
    "print(find_closest(c(5, 2, 7, 7, 7, 2, 0, 0), 1))\n"
   ]
  },
  {
   "cell_type": "markdown",
   "id": "b45e66f1",
   "metadata": {},
   "source": [
    "#### Построим зиккурат!\n",
    "Напишите функцию, которая принимает одно целое число n, а возвращает “ступенчатую” матрицу, состоящую из n этажей. Этажи нумеруются с первого, ширина каждой ступеньки равна одной строке или столбцу."
   ]
  },
  {
   "cell_type": "code",
   "execution_count": 10,
   "id": "ac6af6be",
   "metadata": {},
   "outputs": [
    {
     "data": {
      "text/html": [
       "<table class=\"dataframe\">\n",
       "<caption>A matrix: 7 × 7 of type dbl</caption>\n",
       "<tbody>\n",
       "\t<tr><td>1</td><td>1</td><td>1</td><td>1</td><td>1</td><td>1</td><td>1</td></tr>\n",
       "\t<tr><td>1</td><td>2</td><td>2</td><td>2</td><td>2</td><td>2</td><td>1</td></tr>\n",
       "\t<tr><td>1</td><td>2</td><td>3</td><td>3</td><td>3</td><td>2</td><td>1</td></tr>\n",
       "\t<tr><td>1</td><td>2</td><td>3</td><td>4</td><td>3</td><td>2</td><td>1</td></tr>\n",
       "\t<tr><td>1</td><td>2</td><td>3</td><td>3</td><td>3</td><td>2</td><td>1</td></tr>\n",
       "\t<tr><td>1</td><td>2</td><td>2</td><td>2</td><td>2</td><td>2</td><td>1</td></tr>\n",
       "\t<tr><td>1</td><td>1</td><td>1</td><td>1</td><td>1</td><td>1</td><td>1</td></tr>\n",
       "</tbody>\n",
       "</table>\n"
      ],
      "text/latex": [
       "A matrix: 7 × 7 of type dbl\n",
       "\\begin{tabular}{lllllll}\n",
       "\t 1 & 1 & 1 & 1 & 1 & 1 & 1\\\\\n",
       "\t 1 & 2 & 2 & 2 & 2 & 2 & 1\\\\\n",
       "\t 1 & 2 & 3 & 3 & 3 & 2 & 1\\\\\n",
       "\t 1 & 2 & 3 & 4 & 3 & 2 & 1\\\\\n",
       "\t 1 & 2 & 3 & 3 & 3 & 2 & 1\\\\\n",
       "\t 1 & 2 & 2 & 2 & 2 & 2 & 1\\\\\n",
       "\t 1 & 1 & 1 & 1 & 1 & 1 & 1\\\\\n",
       "\\end{tabular}\n"
      ],
      "text/markdown": [
       "\n",
       "A matrix: 7 × 7 of type dbl\n",
       "\n",
       "| 1 | 1 | 1 | 1 | 1 | 1 | 1 |\n",
       "| 1 | 2 | 2 | 2 | 2 | 2 | 1 |\n",
       "| 1 | 2 | 3 | 3 | 3 | 2 | 1 |\n",
       "| 1 | 2 | 3 | 4 | 3 | 2 | 1 |\n",
       "| 1 | 2 | 3 | 3 | 3 | 2 | 1 |\n",
       "| 1 | 2 | 2 | 2 | 2 | 2 | 1 |\n",
       "| 1 | 1 | 1 | 1 | 1 | 1 | 1 |\n",
       "\n"
      ],
      "text/plain": [
       "     [,1] [,2] [,3] [,4] [,5] [,6] [,7]\n",
       "[1,] 1    1    1    1    1    1    1   \n",
       "[2,] 1    2    2    2    2    2    1   \n",
       "[3,] 1    2    3    3    3    2    1   \n",
       "[4,] 1    2    3    4    3    2    1   \n",
       "[5,] 1    2    3    3    3    2    1   \n",
       "[6,] 1    2    2    2    2    2    1   \n",
       "[7,] 1    1    1    1    1    1    1   "
      ]
     },
     "metadata": {},
     "output_type": "display_data"
    }
   ],
   "source": [
    "build_ziggurat <- function(n) {\n",
    "  m=matrix(1, nrow=n*2-1, ncol = n*2-1)\n",
    "  for (i in 1:n) {  \n",
    "    m[i:(2*n-i),i:(2*n-i)] = i\n",
    "  }\n",
    "  return(m)\n",
    "}\n",
    "\n",
    "#############################\n",
    "build_ziggurat(4)\n"
   ]
  },
  {
   "cell_type": "markdown",
   "id": "6cc6aa6f",
   "metadata": {},
   "source": [
    "#### Частоты элементов\n",
    "Пусть x -- целочисленный вектор. Напишите функцию, которая вернёт матрицу из двух строк. В первой строке перечислите все различные элементы вектора, упорядоченные по возрастанию. Во второй строке укажите частоты (количество повторов) этих элементов."
   ]
  },
  {
   "cell_type": "code",
   "execution_count": 112,
   "id": "d0742b37",
   "metadata": {},
   "outputs": [
    {
     "data": {
      "text/plain": [
       "$count_elements\n",
       "  [,1] [,2] [,3] [,4]\n",
       "x    0    2    5    7\n",
       "y    2    2    1    3\n",
       "\n",
       "$table\n",
       "x\n",
       "0 2 5 7 \n",
       "2 2 1 3 \n"
      ]
     },
     "metadata": {},
     "output_type": "display_data"
    }
   ],
   "source": [
    "count_elements <- function(x) {\n",
    "    x=sort(x)\n",
    "    y=numeric(0)\n",
    "    for(i in x){\n",
    "      y=c(y,length(which(x==i)))\n",
    "    }\n",
    "    z=unique(rbind(x,y),MARGIN=2)\n",
    "    return(z)\n",
    "}\n",
    "\n",
    "#######################\n",
    "x = c(5, 2, 7, 7, 7, 2, 0, 0)\n",
    "list(count_elements = count_elements(x),\n",
    "    table = table(x))\n"
   ]
  },
  {
   "cell_type": "markdown",
   "id": "f74c1612",
   "metadata": {},
   "source": [
    "### 2.2 Дата фреймы\n",
    "Дата фрейм attitude -- встроенный массив данных, содержащий рейтинг департаментов одной финансовой компании, составленный сотрудниками. Представьте, что вы хотите устраиваться как раз в эту компанию, и дата фрейм (совершенно случайно!) оказался в вашем распоряжении. \n",
    "\n",
    "Вы решили, что самое главное для вас -- это возможность учиться новому (learning). Возьмите 5 топовых департаментов по этому показателю. Из этого набора вам более всего подойдёт тот департамент, который имеет наибольшую сумму баллов по трём показателям: реакция на жалобы работников (complaints), надбавки в зависимости от результатов работы (raises) и возможность продвижения (advance).\n",
    "\n",
    "Какой же департамент вам выбрать? Напишите его номер XX (номер строки в дата фрейме)."
   ]
  },
  {
   "cell_type": "code",
   "execution_count": 7,
   "id": "a737d105",
   "metadata": {},
   "outputs": [
    {
     "name": "stdout",
     "output_type": "stream",
     "text": [
      "29 \n",
      " 5 \n"
     ]
    }
   ],
   "source": [
    "df = attitude\n",
    "learn = tail(sort(df$learning),5)\n",
    "rat = df[df$learning %in% learn, c(1,2,4,5)]\n",
    "\n",
    "print(which.max(apply(rat, 1, FUN=sum)))\n"
   ]
  },
  {
   "cell_type": "markdown",
   "id": "ce1aee21",
   "metadata": {},
   "source": [
    "#### AvianHabbitat\n",
    "Cкачайте файл по ссылке, добавьте новые данные в общий дата фрейм и повторите подсчёт общего покрытия, добавив переменную total_coverage. В качестве ответа пришлите величину среднего покрытия с точностью до второго знака: X.XX"
   ]
  },
  {
   "cell_type": "code",
   "execution_count": 8,
   "id": "bb627161",
   "metadata": {},
   "outputs": [
    {
     "name": "stdout",
     "output_type": "stream",
     "text": [
      "[1] \"Mean total coverage =  9.57\"\n"
     ]
    }
   ],
   "source": [
    "library(stringr)\n",
    "avian = read.csv(\"https://raw.githubusercontent.com/tonytonov/Rcourse/master/R%20programming/avianHabitat.csv\", stringsAsFactors = F)\n",
    "coverage_variables = names(avian)[str_detect(names(avian), \"^P\")]\n",
    "avian$Observer = as.factor(avian$Observer)\n",
    "\n",
    "avian2 = read.csv2(\"https://raw.githubusercontent.com/tonytonov/Rcourse/master/R%20programming/avianHabitat2.csv\", stringsAsFactors = F, skip = 5, comment.char = '%', na.strings = c(\"Don't remember\"), dec = '.')\n",
    "avian2$Observer = \"RA\"\n",
    "avian21 = rbind(avian,avian2)\n",
    "avian21$total_coverage = rowSums(avian21[, coverage_variables])\n",
    "\n",
    "print(paste(\"Mean total coverage = \", round(mean(avian21$total_coverage),2)))\n"
   ]
  },
  {
   "cell_type": "markdown",
   "id": "1b4a4ed4",
   "metadata": {},
   "source": [
    "#### Максимальные высоты\n",
    "Исследователям интересно, какие выдающиеся экземпляры растений удалось обнаружить? На массиве avianHabitat найдите максимальные высоты по каждому виду растений и отсортируйте эти виды по убыванию, от самого высокого к самому низкому."
   ]
  },
  {
   "cell_type": "code",
   "execution_count": 45,
   "id": "363b016e",
   "metadata": {},
   "outputs": [
    {
     "data": {
      "text/html": [
       "<style>\n",
       ".dl-inline {width: auto; margin:0; padding: 0}\n",
       ".dl-inline>dt, .dl-inline>dd {float: none; width: auto; display: inline-block}\n",
       ".dl-inline>dt::after {content: \":\\0020\"; padding-right: .5ex}\n",
       ".dl-inline>dt:not(:first-of-type) {padding-left: .5ex}\n",
       "</style><dl class=dl-inline><dt>LHt</dt><dd>1.3</dd><dt>EHt</dt><dd>5.3</dd><dt>HHt</dt><dd>8.2</dd><dt>DBHt</dt><dd>10</dd><dt>WHt</dt><dd>24.5</dd><dt>AHt</dt><dd>31.5</dd></dl>\n"
      ],
      "text/latex": [
       "\\begin{description*}\n",
       "\\item[LHt] 1.3\n",
       "\\item[EHt] 5.3\n",
       "\\item[HHt] 8.2\n",
       "\\item[DBHt] 10\n",
       "\\item[WHt] 24.5\n",
       "\\item[AHt] 31.5\n",
       "\\end{description*}\n"
      ],
      "text/markdown": [
       "LHt\n",
       ":   1.3EHt\n",
       ":   5.3HHt\n",
       ":   8.2DBHt\n",
       ":   10WHt\n",
       ":   24.5AHt\n",
       ":   31.5\n",
       "\n"
      ],
      "text/plain": [
       " LHt  EHt  HHt DBHt  WHt  AHt \n",
       " 1.3  5.3  8.2 10.0 24.5 31.5 "
      ]
     },
     "metadata": {},
     "output_type": "display_data"
    }
   ],
   "source": [
    "library(stringr)\n",
    "avian = read.csv(\"https://raw.githubusercontent.com/tonytonov/Rcourse/master/R%20programming/avianHabitat.csv\", stringsAsFactors = F)\n",
    "plants = names(avian)[str_detect(names(avian), \"Ht$\")]\n",
    "avian_sub=avian[,plants]\n",
    "\n",
    "sort(apply(avian_sub[,plants], 2, FUN=max))\n"
   ]
  },
  {
   "cell_type": "markdown",
   "id": "f1711b9e",
   "metadata": {},
   "source": [
    "### 2.3 Факторы и строки\n",
    "В память о бедном Йорике я подготовил небольшую тираду и обработал её средствами stringr. Вы не могли бы дать мне небольшой лингвистический обзор этого предложения?"
   ]
  },
  {
   "cell_type": "code",
   "execution_count": 36,
   "id": "ee557b7a",
   "metadata": {},
   "outputs": [
    {
     "data": {
      "text/html": [
       "<table class=\"dataframe\">\n",
       "<caption>A matrix: 1 × 4 of type int</caption>\n",
       "<thead>\n",
       "\t<tr><th></th><th scope=col>to</th><th scope=col>[fqw]</th><th scope=col>b.</th><th scope=col>^.{7}$</th></tr>\n",
       "</thead>\n",
       "<tbody>\n",
       "\t<tr><th scope=row>count</th><td>4</td><td>7</td><td>5</td><td>3</td></tr>\n",
       "</tbody>\n",
       "</table>\n"
      ],
      "text/latex": [
       "A matrix: 1 × 4 of type int\n",
       "\\begin{tabular}{r|llll}\n",
       "  & to & {[}fqw{]} & b. & \\textasciicircum{}.\\{7\\}\\$\\\\\n",
       "\\hline\n",
       "\tcount & 4 & 7 & 5 & 3\\\\\n",
       "\\end{tabular}\n"
      ],
      "text/markdown": [
       "\n",
       "A matrix: 1 × 4 of type int\n",
       "\n",
       "| <!--/--> | to | [fqw] | b. | ^.{7}$ |\n",
       "|---|---|---|---|---|\n",
       "| count | 4 | 7 | 5 | 3 |\n",
       "\n"
      ],
      "text/plain": [
       "      to [fqw] b. ^.{7}$\n",
       "count 4  7     5  3     "
      ]
     },
     "metadata": {},
     "output_type": "display_data"
    }
   ],
   "source": [
    "library(stringr)\n",
    "\n",
    "hamlet <- \"To be, or not to be: that is the question:\n",
    "Whether 'tis nobler in the mind to suffer\n",
    "The slings and arrows of outrageous fortune,\n",
    "Or to take arms against a sea of troubles,\n",
    "And by opposing end them?\"\n",
    "\n",
    "hamlet <- str_replace_all(hamlet, \"[:punct:]\", \"\")\n",
    "hamlet <- tolower(unlist(str_split(hamlet, \"[:space:]\")))\n",
    "\n",
    "regs = c(\"to\", \"[fqw]\", \"b.\", \"^.{7}$\")\n",
    "m=matrix(nrow=1, ncol=4, dimnames = list(\"count\", regs))\n",
    "\n",
    "for (i in regs) {\n",
    "    m[1, i] = sum(str_detect(hamlet, i))\n",
    "}\n",
    "m"
   ]
  },
  {
   "cell_type": "markdown",
   "id": "14694c33",
   "metadata": {},
   "source": [
    "#### quakes\n",
    "Превратить количественную переменную mag (сила землетрясения в баллах по шкале Рихтера) дата фрейма quakes в качественную. Интервалы должны быть длиной в полбалла, начиная с минимального, при этом левый конец интервала включается. Теперь отсортируйте общее количество случаев, попавших в каждую категорию, в порядке убывания."
   ]
  },
  {
   "cell_type": "code",
   "execution_count": 9,
   "id": "e74bd0eb",
   "metadata": {},
   "outputs": [
    {
     "name": "stdout",
     "output_type": "stream",
     "text": [
      "\n",
      "(6,6.5] (5.5,6] (5,5.5] (4.5,5] [4,4.5] \n",
      "      2      22     127     365     484 \n"
     ]
    }
   ],
   "source": [
    "df = quakes\n",
    "df$mag = cut(df$mag, include.lowest = T, seq(from = min(df$mag), to=max(df$mag)+0.1, by=0.5))\n",
    "sort(table(df$mag))"
   ]
  },
  {
   "cell_type": "markdown",
   "id": "e140f25b",
   "metadata": {},
   "source": [
    "#### Cреднее общее покрытие\n",
    "Теперь, когда у нас есть переменная site_name, мы можем оценить общее покрытие в каждой из исследованных местностей. Используйте комбинацию site_name и total_coverage﻿, чтобы определить тот регион, в котором среднее общее покрытие, скажем, наименьшее."
   ]
  },
  {
   "cell_type": "code",
   "execution_count": 55,
   "id": "3d0d3194",
   "metadata": {},
   "outputs": [
    {
     "data": {
      "text/html": [
       "<style>\n",
       ".dl-inline {width: auto; margin:0; padding: 0}\n",
       ".dl-inline>dt, .dl-inline>dd {float: none; width: auto; display: inline-block}\n",
       ".dl-inline>dt::after {content: \":\\0020\"; padding-right: .5ex}\n",
       ".dl-inline>dt:not(:first-of-type) {padding-left: .5ex}\n",
       "</style><dl class=dl-inline><dt>McAdamCreek</dt><dd>8.63</dd><dt>BunkerHill</dt><dd>9.24</dd><dt>LivingstonCreek</dt><dd>9.48</dd><dt>CreteCreek</dt><dd>10.02</dd><dt>HortonCreek</dt><dd>10.14</dd></dl>\n"
      ],
      "text/latex": [
       "\\begin{description*}\n",
       "\\item[McAdamCreek] 8.63\n",
       "\\item[BunkerHill] 9.24\n",
       "\\item[LivingstonCreek] 9.48\n",
       "\\item[CreteCreek] 10.02\n",
       "\\item[HortonCreek] 10.14\n",
       "\\end{description*}\n"
      ],
      "text/markdown": [
       "McAdamCreek\n",
       ":   8.63BunkerHill\n",
       ":   9.24LivingstonCreek\n",
       ":   9.48CreteCreek\n",
       ":   10.02HortonCreek\n",
       ":   10.14\n",
       "\n"
      ],
      "text/plain": [
       "    McAdamCreek      BunkerHill LivingstonCreek      CreteCreek     HortonCreek \n",
       "           8.63            9.24            9.48           10.02           10.14 "
      ]
     },
     "metadata": {},
     "output_type": "display_data"
    }
   ],
   "source": [
    "avian <- read.csv(\"https://raw.githubusercontent.com/tonytonov/Rcourse/master/R%20programming/avianHabitat.csv\")\n",
    "coverage_variables = names(avian)[str_detect(names(avian), \"^P\")]\n",
    "avian$total_coverage = rowSums(avian[, coverage_variables])\n",
    "avian$site_name <- factor(gsub('[0-9]', '', avian$Site))\n",
    "sort(round(tapply(avian$total_coverage, avian$site_name, mean),2))\n"
   ]
  },
  {
   "cell_type": "markdown",
   "id": "e3a68c36",
   "metadata": {},
   "source": [
    "#### Cамые большие экземпляры по каждому виду\n",
    "Наши любимые учёные, конечно же, соревнуются между собой. Самоё почётное, как нам уже известно, -- найти самый высокий экземпляр вида. В конце сезона исследователи подводят итоги и определяют самого удачливого, который торжественно объявляется чемпионом. После чего все пьют горячий грог и травят байки у костра.\n",
    "Хорошо у них там!\n",
    "Давайте поможем нашим друзьям определить, кто из них нашёл самые большие экземпляры по каждому виду."
   ]
  },
  {
   "cell_type": "code",
   "execution_count": 56,
   "id": "d7f5d26e",
   "metadata": {},
   "outputs": [
    {
     "data": {
      "text/html": [
       "<style>\n",
       ".dl-inline {width: auto; margin:0; padding: 0}\n",
       ".dl-inline>dt, .dl-inline>dd {float: none; width: auto; display: inline-block}\n",
       ".dl-inline>dt::after {content: \":\\0020\"; padding-right: .5ex}\n",
       ".dl-inline>dt:not(:first-of-type) {padding-left: .5ex}\n",
       "</style><dl class=dl-inline><dt>DBHt</dt><dd>'RA'</dd><dt>WHt</dt><dd>'JT'</dd><dt>EHt</dt><dd>'JT'</dd><dt>AHt</dt><dd>'JT'</dd><dt>HHt</dt><dd>'JT'</dd><dt>LHt</dt><dd>'RA'</dd></dl>\n"
      ],
      "text/latex": [
       "\\begin{description*}\n",
       "\\item[DBHt] 'RA'\n",
       "\\item[WHt] 'JT'\n",
       "\\item[EHt] 'JT'\n",
       "\\item[AHt] 'JT'\n",
       "\\item[HHt] 'JT'\n",
       "\\item[LHt] 'RA'\n",
       "\\end{description*}\n"
      ],
      "text/markdown": [
       "DBHt\n",
       ":   'RA'WHt\n",
       ":   'JT'EHt\n",
       ":   'JT'AHt\n",
       ":   'JT'HHt\n",
       ":   'JT'LHt\n",
       ":   'RA'\n",
       "\n"
      ],
      "text/plain": [
       "DBHt  WHt  EHt  AHt  HHt  LHt \n",
       "\"RA\" \"JT\" \"JT\" \"JT\" \"JT\" \"RA\" "
      ]
     },
     "metadata": {},
     "output_type": "display_data"
    }
   ],
   "source": [
    "avian <- read.csv('https://raw.githubusercontent.com/tonytonov/Rcourse/master/R%20programming/avianHabitat.csv')\n",
    "ht_vars <- names(avian)[str_detect(names(avian), \"Ht$\")]\n",
    "sapply(ht_vars, function(name) avian$Observer[which.max(avian[[name]])])\n",
    "       "
   ]
  },
  {
   "cell_type": "markdown",
   "id": "735833c2",
   "metadata": {},
   "source": [
    "### 3.1 Функции\n",
    "Пусть функция decorate_string действует поверх функции paste, дополнительно приклеивая к результату аргумент pattern. При этом этот аргумент должен быть присоединён как в начале строки (строк), так и в конце, но перевёрнутый задом наперёд."
   ]
  },
  {
   "cell_type": "code",
   "execution_count": 58,
   "id": "8088ea6a",
   "metadata": {},
   "outputs": [
    {
     "data": {
      "text/html": [
       "<ol>\n",
       "\t<li>'123abc321'</li>\n",
       "\t<li>'123abc def321'</li>\n",
       "\t<li><style>\n",
       ".list-inline {list-style: none; margin:0; padding: 0}\n",
       ".list-inline>li {display: inline-block}\n",
       ".list-inline>li:not(:last-child)::after {content: \"\\00b7\"; padding: 0 .5ex}\n",
       "</style>\n",
       "<ol class=list-inline><li>'123abc321'</li><li>'123def321'</li></ol>\n",
       "</li>\n",
       "\t<li>'123abc+def321'</li>\n",
       "\t<li>'!x_x!'</li>\n",
       "\t<li><style>\n",
       ".list-inline {list-style: none; margin:0; padding: 0}\n",
       ".list-inline>li {display: inline-block}\n",
       ".list-inline>li:not(:last-child)::after {content: \"\\00b7\"; padding: 0 .5ex}\n",
       "</style>\n",
       "<ol class=list-inline><li>'.:1&amp;3&amp;5:.'</li><li>'.:2&amp;4&amp;6:.'</li></ol>\n",
       "</li>\n",
       "</ol>\n"
      ],
      "text/latex": [
       "\\begin{enumerate}\n",
       "\\item '123abc321'\n",
       "\\item '123abc def321'\n",
       "\\item \\begin{enumerate*}\n",
       "\\item '123abc321'\n",
       "\\item '123def321'\n",
       "\\end{enumerate*}\n",
       "\n",
       "\\item '123abc+def321'\n",
       "\\item '!x\\_x!'\n",
       "\\item \\begin{enumerate*}\n",
       "\\item '.:1\\&3\\&5:.'\n",
       "\\item '.:2\\&4\\&6:.'\n",
       "\\end{enumerate*}\n",
       "\n",
       "\\end{enumerate}\n"
      ],
      "text/markdown": [
       "1. '123abc321'\n",
       "2. '123abc def321'\n",
       "3. 1. '123abc321'\n",
       "2. '123def321'\n",
       "\n",
       "\n",
       "\n",
       "4. '123abc+def321'\n",
       "5. '!x_x!'\n",
       "6. 1. '.:1&amp;3&amp;5:.'\n",
       "2. '.:2&amp;4&amp;6:.'\n",
       "\n",
       "\n",
       "\n",
       "\n",
       "\n"
      ],
      "text/plain": [
       "[[1]]\n",
       "[1] \"123abc321\"\n",
       "\n",
       "[[2]]\n",
       "[1] \"123abc def321\"\n",
       "\n",
       "[[3]]\n",
       "[1] \"123abc321\" \"123def321\"\n",
       "\n",
       "[[4]]\n",
       "[1] \"123abc+def321\"\n",
       "\n",
       "[[5]]\n",
       "[1] \"!x_x!\"\n",
       "\n",
       "[[6]]\n",
       "[1] \".:1&3&5:.\" \".:2&4&6:.\"\n"
      ]
     },
     "metadata": {},
     "output_type": "display_data"
    }
   ],
   "source": [
    "library(stringi)\n",
    "decorate_string = function(pattern, ...) {\n",
    "  paste0(pattern,paste(...),stri_reverse(pattern))\n",
    "}\n",
    "\n",
    "#######################\n",
    "list(decorate_string(pattern = \"123\", \"abc\"),\n",
    "decorate_string(pattern = \"123\", \"abc\", \"def\"),  \n",
    "decorate_string(pattern = \"123\", c(\"abc\", \"def\")),\n",
    "decorate_string(pattern = \"123\", \"abc\", \"def\", sep = \"+\"),\n",
    "decorate_string(pattern = \"!\", c(\"x\", \"x\"), collapse = \"_\"),\n",
    "decorate_string(pattern = \".:\", 1:2, 3:4, 5:6, sep = \"&\"))\n"
   ]
  },
  {
   "cell_type": "markdown",
   "id": "9c0f9aa6",
   "metadata": {},
   "source": [
    "#### Давайте откроем казино!\n",
    "Для создания респектабельного заведения нам не хватает игры в рулетку. Это единственное, что отделяет нас от заветного \"Делайте ваши ставки, дамы и господа!\"\n",
    "\n",
    "И, раз уж вы займётесь изготовлением рулетки, у меня к вам одна деликатная просьба: не могли бы вы устроить так, чтобы их было две? При этом одна будет абсолютно нормальной, а вторая, ну, как бы так выразиться... Ведь если зеро будет выпадать чуточку почаще, то казино получит больше денег..."
   ]
  },
  {
   "cell_type": "code",
   "execution_count": 113,
   "id": "30189dcf",
   "metadata": {},
   "outputs": [
    {
     "data": {
      "text/plain": [
       "$fair\n",
       "\n",
       "    1    10    11    12    13    14    15    16    17    18    19     2    20 \n",
       "   36    29    26    22    28    28    23    23    28    26    22    23    23 \n",
       "   21    22    23    24    25    26    27    28    29     3    30    31    32 \n",
       "   21    34    27    25    24    32    30    24    28    36    34    24    22 \n",
       "   33    34    35    36     4     5     6     7     8     9 Zero! \n",
       "   25    20    27    30    27    31    27    31    29    29    26 \n",
       "\n",
       "$rigged\n",
       "\n",
       "    1    10    11    12    13    14    15    16    17    18    19     2    20 \n",
       "   17    18    25    25    25    31    33    26    31    24    30    26    32 \n",
       "   21    22    23    24    25    26    27    28    29     3    30    31    32 \n",
       "   21    34    21    30    26    18    30    33    24    30    25    19    33 \n",
       "   33    34    35    36     4     5     6     7     8     9 Zero! \n",
       "   24    34    25    31    25    23    22    26    32    23    48 \n"
      ]
     },
     "metadata": {},
     "output_type": "display_data"
    }
   ],
   "source": [
    "generator <- function(set, prob = rep(1/length(set), length(set))) {\n",
    "  function(n) sample(set, n, prob, replace = T)\n",
    "} \n",
    "roulette_values <- c(\"Zero!\", 1:36)\n",
    "fair_roulette <- generator(roulette_values)\n",
    "rigged_roulette <- generator(roulette_values, prob = c(2,rep(1,length(roulette_values)-1)))\n",
    "\n",
    "################\n",
    "list(fair = table(fair_roulette(1000)),\n",
    "     rigged = table(rigged_roulette(1000)))"
   ]
  },
  {
   "cell_type": "markdown",
   "id": "dd68fa16",
   "metadata": {},
   "source": [
    "#### Бинарный оператор.\n",
    "Пусть %+% действует на два числовых вектора, складывая их поэлементно, но без учёта правил переписывания: если длина векторов различна, то возвращаем вектор большей длины, но с пропущенными значениями в конце."
   ]
  },
  {
   "cell_type": "code",
   "execution_count": 116,
   "id": "e21b48f2",
   "metadata": {},
   "outputs": [
    {
     "data": {
      "text/html": [
       "<ol>\n",
       "\t<li><style>\n",
       ".list-inline {list-style: none; margin:0; padding: 0}\n",
       ".list-inline>li {display: inline-block}\n",
       ".list-inline>li:not(:last-child)::after {content: \"\\00b7\"; padding: 0 .5ex}\n",
       "</style>\n",
       "<ol class=list-inline><li>2</li><li>4</li><li>&lt;NA&gt;</li><li>&lt;NA&gt;</li><li>&lt;NA&gt;</li></ol>\n",
       "</li>\n",
       "\t<li><style>\n",
       ".list-inline {list-style: none; margin:0; padding: 0}\n",
       ".list-inline>li {display: inline-block}\n",
       ".list-inline>li:not(:last-child)::after {content: \"\\00b7\"; padding: 0 .5ex}\n",
       "</style>\n",
       "<ol class=list-inline><li>7</li><li>&lt;NA&gt;</li></ol>\n",
       "</li>\n",
       "</ol>\n"
      ],
      "text/latex": [
       "\\begin{enumerate}\n",
       "\\item \\begin{enumerate*}\n",
       "\\item 2\n",
       "\\item 4\n",
       "\\item <NA>\n",
       "\\item <NA>\n",
       "\\item <NA>\n",
       "\\end{enumerate*}\n",
       "\n",
       "\\item \\begin{enumerate*}\n",
       "\\item 7\n",
       "\\item <NA>\n",
       "\\end{enumerate*}\n",
       "\n",
       "\\end{enumerate}\n"
      ],
      "text/markdown": [
       "1. 1. 2\n",
       "2. 4\n",
       "3. &lt;NA&gt;\n",
       "4. &lt;NA&gt;\n",
       "5. &lt;NA&gt;\n",
       "\n",
       "\n",
       "\n",
       "2. 1. 7\n",
       "2. &lt;NA&gt;\n",
       "\n",
       "\n",
       "\n",
       "\n",
       "\n"
      ],
      "text/plain": [
       "[[1]]\n",
       "[1]  2  4 NA NA NA\n",
       "\n",
       "[[2]]\n",
       "[1]  7 NA\n"
      ]
     },
     "metadata": {},
     "output_type": "display_data"
    }
   ],
   "source": [
    "\"%+%\" <- function(x, y) {\n",
    "  length(y)=length(x)=max(length(y), length(x))\n",
    "  x+y\n",
    "}\n",
    "\n",
    "##################\n",
    "list(1:5 %+% 1:2, \n",
    "     5 %+% c(2, 6))\n"
   ]
  },
  {
   "cell_type": "markdown",
   "id": "6b5ecadf",
   "metadata": {},
   "source": [
    "### 3.2 Элементы функционального программирования\n",
    "Один крупный учёный по фамилии Дарвин и имени Чарльз прославился не только своей книгой, название которой вы и без меня знаете, но и обширными трудами по классификациям видов. Благодаря ему мы знаем, что разнообразие признаков в популяции -- один из механизмов, обеспечивающих устойчивость вида.\n",
    "\n",
    "В рамках исследовательского гранта сотрудники научно-исследовательского института Котологии занялись классификацией признаков сотен котов, котиков и котофеев.\n",
    "Составьте вектор cat_catalogue, содержащий всевозможные комбинации имеющихся характеристик, и отсортируйте его. Помимо научной ценности, каталог (котолог?) можно использовать как средство для выбора домашнего питомца. Допустим, я хочу завести кота. Тогда я беру случайное число, скажем, 42, и выбираю запись под этим номером. Что за кот мне достался?\n"
   ]
  },
  {
   "cell_type": "code",
   "execution_count": 114,
   "id": "1073615a",
   "metadata": {},
   "outputs": [
    {
     "data": {
      "text/html": [
       "'1 1 1 1'"
      ],
      "text/latex": [
       "'1 1 1 1'"
      ],
      "text/markdown": [
       "'1 1 1 1'"
      ],
      "text/plain": [
       "[1] \"1 1 1 1\""
      ]
     },
     "metadata": {},
     "output_type": "display_data"
    },
    {
     "name": "stdout",
     "output_type": "stream",
     "text": [
      "[1] \"игривый серый котёнок с умными глазами\"\n"
     ]
    }
   ],
   "source": [
    "cat_temper <- c(\"задиристый\", \"игривый\", \"спокойный\", \"ленивый\")\n",
    "cat_color <- c(\"белый\", \"серый\", \"чёрный\", \"рыжий\")\n",
    "cat_age <- c(\"кот\", \"котёнок\")\n",
    "cat_trait <- c(\"с умными глазами\", \"с острыми когтями\", \"с длинными усами\")\n",
    "\n",
    "cats = expand.grid(cat_temper, cat_color, cat_age, cat_trait)\n",
    "paste(cats[1,], collapse = \" \")\n",
    "print(sort(apply(cats, 1, paste0, collapse=\" \"))[42])\n"
   ]
  },
  {
   "cell_type": "markdown",
   "id": "27a238ba",
   "metadata": {},
   "source": [
    "#### Симуляция\n",
    "Блуждание на отрезке"
   ]
  },
  {
   "cell_type": "code",
   "execution_count": 85,
   "id": "89011e5a",
   "metadata": {},
   "outputs": [
    {
     "data": {
      "text/html": [
       "<table class=\"dataframe\">\n",
       "<caption>A data.frame: 4 × 2</caption>\n",
       "<thead>\n",
       "\t<tr><th scope=col>status</th><th scope=col>position</th></tr>\n",
       "\t<tr><th scope=col>&lt;chr&gt;</th><th scope=col>&lt;int&gt;</th></tr>\n",
       "</thead>\n",
       "<tbody>\n",
       "\t<tr><td>Absorbed         </td><td> 87</td></tr>\n",
       "\t<tr><td>Left breach      </td><td>409</td></tr>\n",
       "\t<tr><td>Max steps reached</td><td>112</td></tr>\n",
       "\t<tr><td>Right breach     </td><td>392</td></tr>\n",
       "</tbody>\n",
       "</table>\n"
      ],
      "text/latex": [
       "A data.frame: 4 × 2\n",
       "\\begin{tabular}{ll}\n",
       " status & position\\\\\n",
       " <chr> & <int>\\\\\n",
       "\\hline\n",
       "\t Absorbed          &  87\\\\\n",
       "\t Left breach       & 409\\\\\n",
       "\t Max steps reached & 112\\\\\n",
       "\t Right breach      & 392\\\\\n",
       "\\end{tabular}\n"
      ],
      "text/markdown": [
       "\n",
       "A data.frame: 4 × 2\n",
       "\n",
       "| status &lt;chr&gt; | position &lt;int&gt; |\n",
       "|---|---|\n",
       "| Absorbed          |  87 |\n",
       "| Left breach       | 409 |\n",
       "| Max steps reached | 112 |\n",
       "| Right breach      | 392 |\n",
       "\n"
      ],
      "text/plain": [
       "  status            position\n",
       "1 Absorbed           87     \n",
       "2 Left breach       409     \n",
       "3 Max steps reached 112     \n",
       "4 Right breach      392     "
      ]
     },
     "metadata": {},
     "output_type": "display_data"
    },
    {
     "data": {
      "text/html": [
       "<table class=\"dataframe\">\n",
       "<caption>A data.frame: 4 × 2</caption>\n",
       "<thead>\n",
       "\t<tr><th scope=col>status</th><th scope=col>steps</th></tr>\n",
       "\t<tr><th scope=col>&lt;chr&gt;</th><th scope=col>&lt;dbl&gt;</th></tr>\n",
       "</thead>\n",
       "<tbody>\n",
       "\t<tr><td>Absorbed         </td><td> 76.32184</td></tr>\n",
       "\t<tr><td>Left breach      </td><td> 80.96577</td></tr>\n",
       "\t<tr><td>Max steps reached</td><td>200.00000</td></tr>\n",
       "\t<tr><td>Right breach     </td><td> 74.17857</td></tr>\n",
       "</tbody>\n",
       "</table>\n"
      ],
      "text/latex": [
       "A data.frame: 4 × 2\n",
       "\\begin{tabular}{ll}\n",
       " status & steps\\\\\n",
       " <chr> & <dbl>\\\\\n",
       "\\hline\n",
       "\t Absorbed          &  76.32184\\\\\n",
       "\t Left breach       &  80.96577\\\\\n",
       "\t Max steps reached & 200.00000\\\\\n",
       "\t Right breach      &  74.17857\\\\\n",
       "\\end{tabular}\n"
      ],
      "text/markdown": [
       "\n",
       "A data.frame: 4 × 2\n",
       "\n",
       "| status &lt;chr&gt; | steps &lt;dbl&gt; |\n",
       "|---|---|\n",
       "| Absorbed          |  76.32184 |\n",
       "| Left breach       |  80.96577 |\n",
       "| Max steps reached | 200.00000 |\n",
       "| Right breach      |  74.17857 |\n",
       "\n"
      ],
      "text/plain": [
       "  status            steps    \n",
       "1 Absorbed           76.32184\n",
       "2 Left breach        80.96577\n",
       "3 Max steps reached 200.00000\n",
       "4 Right breach       74.17857"
      ]
     },
     "metadata": {},
     "output_type": "display_data"
    }
   ],
   "source": [
    "# Random walk with absorption\n",
    "simulate_walk <- function(lower = -10, upper = 10, n_max = 200, p = 1e-3) {\n",
    "  current_position <- (lower + upper) / 2\n",
    "  for (i in 1:n_max) {\n",
    "    is_absorbed <- rbinom(1, 1, p)\n",
    "    if (is_absorbed) return(list(status = \"Absorbed\", \n",
    "                                 position = current_position, \n",
    "                                 steps = i))\n",
    "    current_position <- current_position + rnorm(1)\n",
    "    if (current_position < lower) return(list(status = \"Left breach\", \n",
    "                                              position = current_position, \n",
    "                                              steps = i))\n",
    "    if (current_position > upper) return(list(status = \"Right breach\", \n",
    "                                              position = current_position, \n",
    "                                              steps = i))\n",
    "  }\n",
    "  return(list(status = \"Max steps reached\", \n",
    "              position = current_position,\n",
    "              steps = n_max))\n",
    "}\n",
    "\n",
    "# Simulate results\n",
    "result <- replicate(1000, simulate_walk(), simplify = FALSE)\n",
    "result <- data.frame(\n",
    "  status = sapply(result, function(x) x$status),\n",
    "  position = sapply(result, function(x) x$position),\n",
    "  steps = sapply(result, function(x) x$steps)\n",
    ")\n",
    "# Inspect results\n",
    "aggregate(position ~ status, data=result, FUN=length)\n",
    "aggregate(steps ~ status, data=result, FUN=mean)\n",
    "                   "
   ]
  },
  {
   "cell_type": "markdown",
   "id": "05938b6b",
   "metadata": {},
   "source": [
    "#### Блуждание на плоскости\n",
    "Возьмите написанную мной функцию и измените её так, чтобы блуждание начиналось в центре координат (0, 0), а все переходы по координатам x и y были бы независимы и имели стандартное нормальное распределение. Если вас пугают эти слова, то это то же самое, что делал я, только отдельно по x и по y.\n",
    "\n",
    "Процесс обрывается в момент выхода за границу круга с центром в (0, 0) и радиусом 6. Вероятность поглощения на каждом шаге равна 0.01. Максимальное количество шагов — 100. Расстояние, разумеется, евклидово: расстояние от точки (x, y) до (0, 0) есть $ \\sqrt{x^2 + y^2} $\n",
    "\n",
    "​. Один шаг процесса подразумевает изменение обеих координат одновременно!\n",
    "\n",
    "Теперь, когда все параметры зафиксированы, вероятность выхода частицы за пределы круга строго определена. Наша задача — найти эту вероятность. Это некоторое число, не зависящее от реализации алгоритма."
   ]
  },
  {
   "cell_type": "code",
   "execution_count": 10,
   "id": "176fd942",
   "metadata": {},
   "outputs": [
    {
     "name": "stdout",
     "output_type": "stream",
     "text": [
      "[1] \"probability of out of range =  0.819\"\n"
     ]
    }
   ],
   "source": [
    "simulate_walk_round <- function(radius = 6, n_max = 100, p = 1e-2) {\n",
    "  current_position <- c(0,0)\n",
    "  for (i in 1:n_max) {\n",
    "    is_absorbed <- rbinom(1, 1, p)\n",
    "    if (is_absorbed) return(1) # absorbed\n",
    "    current_position <- current_position + c(rnorm(1),rnorm(1))\n",
    "    if (sqrt(sum(current_position**2)) > radius) return(2)# \"out of range\", \n",
    "  }\n",
    "  return(3) # \"Max steps reached\", \n",
    "}\n",
    "\n",
    "############################\n",
    "n=1000\n",
    "result <- replicate(n, simulate_walk_round(), simplify = T)\n",
    "p_out = length(result[result==2])/n #probability of out of range\n",
    "print(paste(\"probability of out of range = \", p_out))\n"
   ]
  },
  {
   "cell_type": "markdown",
   "id": "da5cbac6",
   "metadata": {},
   "source": [
    "#### generic функции\n",
    "Такие функции, как print, summary и plot, удобно определены как generic функции. Более того, если у вас есть собственные классы, то вы можете задавать свои варианты поведения для этих функций при передаче объектов вашего класса. Найдите, какие функции вида fun.obj существуют для этих трёх функций в базовом R."
   ]
  },
  {
   "cell_type": "code",
   "execution_count": 91,
   "id": "90f55c45",
   "metadata": {},
   "outputs": [
    {
     "data": {
      "text/html": [
       "<table class=\"dataframe\">\n",
       "<caption>A matrix: 3 × 3 of type int</caption>\n",
       "<thead>\n",
       "\t<tr><th></th><th scope=col>print</th><th scope=col>summary</th><th scope=col>plot</th></tr>\n",
       "</thead>\n",
       "<tbody>\n",
       "\t<tr><th scope=row>matrix</th><td>0</td><td>1</td><td>1</td></tr>\n",
       "\t<tr><th scope=row>function</th><td>1</td><td>0</td><td>1</td></tr>\n",
       "\t<tr><th scope=row>default</th><td>0</td><td>1</td><td>1</td></tr>\n",
       "</tbody>\n",
       "</table>\n"
      ],
      "text/latex": [
       "A matrix: 3 × 3 of type int\n",
       "\\begin{tabular}{r|lll}\n",
       "  & print & summary & plot\\\\\n",
       "\\hline\n",
       "\tmatrix & 0 & 1 & 1\\\\\n",
       "\tfunction & 1 & 0 & 1\\\\\n",
       "\tdefault & 0 & 1 & 1\\\\\n",
       "\\end{tabular}\n"
      ],
      "text/markdown": [
       "\n",
       "A matrix: 3 × 3 of type int\n",
       "\n",
       "| <!--/--> | print | summary | plot |\n",
       "|---|---|---|---|\n",
       "| matrix | 0 | 1 | 1 |\n",
       "| function | 1 | 0 | 1 |\n",
       "| default | 0 | 1 | 1 |\n",
       "\n"
      ],
      "text/plain": [
       "         print summary plot\n",
       "matrix   0     1       1   \n",
       "function 1     0       1   \n",
       "default  0     1       1   "
      ]
     },
     "metadata": {},
     "output_type": "display_data"
    }
   ],
   "source": [
    "library(stringr)\n",
    "objs = c(\"matrix\", \"function\", \"default\")\n",
    "func = c(\"print\", \"summary\", \"plot\")\n",
    "ee=outer(func,objs,paste, sep=\".\")\n",
    "(matrix(as.integer(mapply(exists, ee)), nc=3, dimnames = list(objs,func)))"
   ]
  },
  {
   "cell_type": "markdown",
   "id": "4db67d78",
   "metadata": {},
   "source": [
    "### 3.3 Обработка данных при помощи dplyr"
   ]
  },
  {
   "cell_type": "markdown",
   "id": "2d4b5bde",
   "metadata": {},
   "source": [
    "#### С помощью базового R"
   ]
  },
  {
   "cell_type": "code",
   "execution_count": 92,
   "id": "963c19c0",
   "metadata": {},
   "outputs": [
    {
     "data": {
      "text/html": [
       "<table class=\"dataframe\">\n",
       "<caption>A data.frame: 5 × 3</caption>\n",
       "<thead>\n",
       "\t<tr><th></th><th scope=col>Site</th><th scope=col>Observer</th><th scope=col>x</th></tr>\n",
       "\t<tr><th></th><th scope=col>&lt;fct&gt;</th><th scope=col>&lt;chr&gt;</th><th scope=col>&lt;dbl&gt;</th></tr>\n",
       "</thead>\n",
       "<tbody>\n",
       "\t<tr><th scope=row>1</th><td>BunkerHill </td><td>JT</td><td> 9.9</td></tr>\n",
       "\t<tr><th scope=row>3</th><td>BunkerHill </td><td>RA</td><td> 7.0</td></tr>\n",
       "\t<tr><th scope=row>5</th><td>HortonCreek</td><td>RA</td><td>10.0</td></tr>\n",
       "\t<tr><th scope=row>7</th><td>McAdamCreek</td><td>RA</td><td> 7.2</td></tr>\n",
       "\t<tr><th scope=row>11</th><td>McAdamCreek</td><td>RR</td><td> 5.0</td></tr>\n",
       "</tbody>\n",
       "</table>\n"
      ],
      "text/latex": [
       "A data.frame: 5 × 3\n",
       "\\begin{tabular}{r|lll}\n",
       "  & Site & Observer & x\\\\\n",
       "  & <fct> & <chr> & <dbl>\\\\\n",
       "\\hline\n",
       "\t1 & BunkerHill  & JT &  9.9\\\\\n",
       "\t3 & BunkerHill  & RA &  7.0\\\\\n",
       "\t5 & HortonCreek & RA & 10.0\\\\\n",
       "\t7 & McAdamCreek & RA &  7.2\\\\\n",
       "\t11 & McAdamCreek & RR &  5.0\\\\\n",
       "\\end{tabular}\n"
      ],
      "text/markdown": [
       "\n",
       "A data.frame: 5 × 3\n",
       "\n",
       "| <!--/--> | Site &lt;fct&gt; | Observer &lt;chr&gt; | x &lt;dbl&gt; |\n",
       "|---|---|---|---|\n",
       "| 1 | BunkerHill  | JT |  9.9 |\n",
       "| 3 | BunkerHill  | RA |  7.0 |\n",
       "| 5 | HortonCreek | RA | 10.0 |\n",
       "| 7 | McAdamCreek | RA |  7.2 |\n",
       "| 11 | McAdamCreek | RR |  5.0 |\n",
       "\n"
      ],
      "text/plain": [
       "   Site        Observer x   \n",
       "1  BunkerHill  JT        9.9\n",
       "3  BunkerHill  RA        7.0\n",
       "5  HortonCreek RA       10.0\n",
       "7  McAdamCreek RA        7.2\n",
       "11 McAdamCreek RR        5.0"
      ]
     },
     "metadata": {},
     "output_type": "display_data"
    }
   ],
   "source": [
    "library(stringr)\n",
    "avian <- read.csv(\"https://raw.githubusercontent.com/tonytonov/Rcourse/master/R%20programming/avianHabitat.csv\")\n",
    "avian = subset(avian, PDB>0 & DBHt>0, c(\"Site\", \"Observer\", \"PDB\", \"DBHt\"))\n",
    "avian$Site = factor(str_replace(avian$Site, \"[:digit:]+\", \"\"))\n",
    "subset(\n",
    "  aggregate(avian$DBHt, list(Site=avian$Site, Observer=avian$Observer), max),\n",
    "  x>=5\n",
    ")"
   ]
  },
  {
   "cell_type": "markdown",
   "id": "a534aa84",
   "metadata": {},
   "source": [
    "#### Смешанный способ"
   ]
  },
  {
   "cell_type": "code",
   "execution_count": 102,
   "id": "3338b09d",
   "metadata": {},
   "outputs": [
    {
     "data": {
      "text/html": [
       "<table class=\"dataframe\">\n",
       "<caption>A data.frame: 5 × 3</caption>\n",
       "<thead>\n",
       "\t<tr><th></th><th scope=col>Site</th><th scope=col>Observer</th><th scope=col>x</th></tr>\n",
       "\t<tr><th></th><th scope=col>&lt;fct&gt;</th><th scope=col>&lt;chr&gt;</th><th scope=col>&lt;dbl&gt;</th></tr>\n",
       "</thead>\n",
       "<tbody>\n",
       "\t<tr><th scope=row>1</th><td>BunkerHill </td><td>JT</td><td> 9.9</td></tr>\n",
       "\t<tr><th scope=row>3</th><td>BunkerHill </td><td>RA</td><td> 7.0</td></tr>\n",
       "\t<tr><th scope=row>5</th><td>HortonCreek</td><td>RA</td><td>10.0</td></tr>\n",
       "\t<tr><th scope=row>7</th><td>McAdamCreek</td><td>RA</td><td> 7.2</td></tr>\n",
       "\t<tr><th scope=row>11</th><td>McAdamCreek</td><td>RR</td><td> 5.0</td></tr>\n",
       "</tbody>\n",
       "</table>\n"
      ],
      "text/latex": [
       "A data.frame: 5 × 3\n",
       "\\begin{tabular}{r|lll}\n",
       "  & Site & Observer & x\\\\\n",
       "  & <fct> & <chr> & <dbl>\\\\\n",
       "\\hline\n",
       "\t1 & BunkerHill  & JT &  9.9\\\\\n",
       "\t3 & BunkerHill  & RA &  7.0\\\\\n",
       "\t5 & HortonCreek & RA & 10.0\\\\\n",
       "\t7 & McAdamCreek & RA &  7.2\\\\\n",
       "\t11 & McAdamCreek & RR &  5.0\\\\\n",
       "\\end{tabular}\n"
      ],
      "text/markdown": [
       "\n",
       "A data.frame: 5 × 3\n",
       "\n",
       "| <!--/--> | Site &lt;fct&gt; | Observer &lt;chr&gt; | x &lt;dbl&gt; |\n",
       "|---|---|---|---|\n",
       "| 1 | BunkerHill  | JT |  9.9 |\n",
       "| 3 | BunkerHill  | RA |  7.0 |\n",
       "| 5 | HortonCreek | RA | 10.0 |\n",
       "| 7 | McAdamCreek | RA |  7.2 |\n",
       "| 11 | McAdamCreek | RR |  5.0 |\n",
       "\n"
      ],
      "text/plain": [
       "   Site        Observer x   \n",
       "1  BunkerHill  JT        9.9\n",
       "3  BunkerHill  RA        7.0\n",
       "5  HortonCreek RA       10.0\n",
       "7  McAdamCreek RA        7.2\n",
       "11 McAdamCreek RR        5.0"
      ]
     },
     "metadata": {},
     "output_type": "display_data"
    }
   ],
   "source": [
    "library(stringr)\n",
    "library(dplyr)\n",
    "avian <- read.csv(\"https://raw.githubusercontent.com/tonytonov/Rcourse/master/R%20programming/avianHabitat.csv\")\n",
    "avian = avian %>% \n",
    "  subset(PDB>0 & DBHt>0, c(\"Site\", \"Observer\", \"PDB\", \"DBHt\")) %>% \n",
    "  transform(Site = factor(str_replace(.$Site, \"[:digit:]+\", \"\")))\n",
    "\n",
    "aggregate(avian$DBHt, list(Site=avian$Site, Observer=avian$Observer), max) %>% \n",
    "  subset(x>=5)"
   ]
  },
  {
   "cell_type": "markdown",
   "id": "8dc5b6e9",
   "metadata": {},
   "source": [
    "#### С помощью dplyr"
   ]
  },
  {
   "cell_type": "code",
   "execution_count": 122,
   "id": "055d8196",
   "metadata": {},
   "outputs": [
    {
     "name": "stderr",
     "output_type": "stream",
     "text": [
      "\u001b[1m\u001b[22m`summarise()` has grouped output by 'Site'. You can override using the `.groups` argument.\n"
     ]
    },
    {
     "data": {
      "text/html": [
       "<table class=\"dataframe\">\n",
       "<caption>A grouped_df: 5 × 3</caption>\n",
       "<thead>\n",
       "\t<tr><th scope=col>Site</th><th scope=col>Observer</th><th scope=col>MaxHt</th></tr>\n",
       "\t<tr><th scope=col>&lt;fct&gt;</th><th scope=col>&lt;chr&gt;</th><th scope=col>&lt;dbl&gt;</th></tr>\n",
       "</thead>\n",
       "<tbody>\n",
       "\t<tr><td>BunkerHill </td><td>JT</td><td> 9.9</td></tr>\n",
       "\t<tr><td>BunkerHill </td><td>RA</td><td> 7.0</td></tr>\n",
       "\t<tr><td>HortonCreek</td><td>RA</td><td>10.0</td></tr>\n",
       "\t<tr><td>McAdamCreek</td><td>RA</td><td> 7.2</td></tr>\n",
       "\t<tr><td>McAdamCreek</td><td>RR</td><td> 5.0</td></tr>\n",
       "</tbody>\n",
       "</table>\n"
      ],
      "text/latex": [
       "A grouped\\_df: 5 × 3\n",
       "\\begin{tabular}{lll}\n",
       " Site & Observer & MaxHt\\\\\n",
       " <fct> & <chr> & <dbl>\\\\\n",
       "\\hline\n",
       "\t BunkerHill  & JT &  9.9\\\\\n",
       "\t BunkerHill  & RA &  7.0\\\\\n",
       "\t HortonCreek & RA & 10.0\\\\\n",
       "\t McAdamCreek & RA &  7.2\\\\\n",
       "\t McAdamCreek & RR &  5.0\\\\\n",
       "\\end{tabular}\n"
      ],
      "text/markdown": [
       "\n",
       "A grouped_df: 5 × 3\n",
       "\n",
       "| Site &lt;fct&gt; | Observer &lt;chr&gt; | MaxHt &lt;dbl&gt; |\n",
       "|---|---|---|\n",
       "| BunkerHill  | JT |  9.9 |\n",
       "| BunkerHill  | RA |  7.0 |\n",
       "| HortonCreek | RA | 10.0 |\n",
       "| McAdamCreek | RA |  7.2 |\n",
       "| McAdamCreek | RR |  5.0 |\n",
       "\n"
      ],
      "text/plain": [
       "  Site        Observer MaxHt\n",
       "1 BunkerHill  JT        9.9 \n",
       "2 BunkerHill  RA        7.0 \n",
       "3 HortonCreek RA       10.0 \n",
       "4 McAdamCreek RA        7.2 \n",
       "5 McAdamCreek RR        5.0 "
      ]
     },
     "metadata": {},
     "output_type": "display_data"
    }
   ],
   "source": [
    "library(stringr)\n",
    "library(dplyr)\n",
    "avian = read.csv(\"https://raw.githubusercontent.com/tonytonov/Rcourse/master/R%20programming/avianHabitat.csv\")\n",
    "avian %>% \n",
    "  filter(PDB>0 & DBHt>0) %>% \n",
    "  select(Site, Observer, contains(\"DB\")) %>% \n",
    "  mutate(Site = factor(str_replace(.$Site, \"[:digit:]+\", \"\"))) %>% \n",
    "  group_by(Site, Observer) %>% \n",
    "  summarise(MaxHt = max(DBHt)) %>% \n",
    "  filter(MaxHt >= 5)"
   ]
  },
  {
   "cell_type": "markdown",
   "id": "a4a0fab3",
   "metadata": {},
   "source": [
    "#### Это последняя демонстрация ваших джедайских возможностей с дата фреймами!\n",
    "\n",
    "Возьмите исходный avianHabitat. Примените к нему процедуру объединения по географической локации (Site). Мы будем работать со всеми имеющимися видами одновременно. Интересующая нас характеристика -- высота растений (*Ht). \n",
    "\n",
    "Теперь произведите следующий подсчёт по всем комбинациям места (Site) и наблюдателя (Observer). Интересующая нас статистика -- количество тех замеров, где обнаруживается хотя бы один экземпляр вида. Соберите эту статистику по всем видам. У вас получится таблица, в которой тройке вида (место M, наблюдатель N, вид P) соответствует число замеров в M, произведенных N, где обнаружен хотя бы один P."
   ]
  },
  {
   "cell_type": "code",
   "execution_count": 121,
   "id": "9a133883",
   "metadata": {},
   "outputs": [
    {
     "data": {
      "text/html": [
       "<table class=\"dataframe\">\n",
       "<caption>A grouped_df: 11 × 8</caption>\n",
       "<thead>\n",
       "\t<tr><th scope=col>Site</th><th scope=col>Observer</th><th scope=col>DBHt</th><th scope=col>WHt</th><th scope=col>EHt</th><th scope=col>AHt</th><th scope=col>HHt</th><th scope=col>LHt</th></tr>\n",
       "\t<tr><th scope=col>&lt;fct&gt;</th><th scope=col>&lt;chr&gt;</th><th scope=col>&lt;int&gt;</th><th scope=col>&lt;int&gt;</th><th scope=col>&lt;int&gt;</th><th scope=col>&lt;int&gt;</th><th scope=col>&lt;int&gt;</th><th scope=col>&lt;int&gt;</th></tr>\n",
       "</thead>\n",
       "<tbody>\n",
       "\t<tr><td>BunkerHill     </td><td>JT</td><td>53</td><td> 36</td><td> 63</td><td>5</td><td> 68</td><td> 15</td></tr>\n",
       "\t<tr><td>BunkerHill     </td><td>RA</td><td>56</td><td> 46</td><td> 65</td><td>6</td><td> 70</td><td> 24</td></tr>\n",
       "\t<tr><td>CreteCreek     </td><td>RA</td><td>49</td><td> 42</td><td> 78</td><td>0</td><td> 91</td><td> 78</td></tr>\n",
       "\t<tr><td>CreteCreek     </td><td>RR</td><td>43</td><td> 32</td><td> 67</td><td>0</td><td> 80</td><td> 74</td></tr>\n",
       "\t<tr><td>HortonCreek    </td><td>JT</td><td>39</td><td> 38</td><td> 70</td><td>0</td><td> 75</td><td> 65</td></tr>\n",
       "\t<tr><td>HortonCreek    </td><td>RA</td><td>49</td><td> 60</td><td>116</td><td>0</td><td>123</td><td>110</td></tr>\n",
       "\t<tr><td>HortonCreek    </td><td>RR</td><td>21</td><td> 21</td><td> 45</td><td>1</td><td> 49</td><td> 40</td></tr>\n",
       "\t<tr><td>LivingstonCreek</td><td>RA</td><td>49</td><td>105</td><td>106</td><td>0</td><td>134</td><td> 95</td></tr>\n",
       "\t<tr><td>LivingstonCreek</td><td>RR</td><td>47</td><td>115</td><td>106</td><td>0</td><td>154</td><td> 98</td></tr>\n",
       "\t<tr><td>McAdamCreek    </td><td>RA</td><td>58</td><td>114</td><td>122</td><td>0</td><td>139</td><td> 85</td></tr>\n",
       "\t<tr><td>McAdamCreek    </td><td>RR</td><td>28</td><td> 38</td><td> 49</td><td>0</td><td> 50</td><td> 30</td></tr>\n",
       "</tbody>\n",
       "</table>\n"
      ],
      "text/latex": [
       "A grouped\\_df: 11 × 8\n",
       "\\begin{tabular}{llllllll}\n",
       " Site & Observer & DBHt & WHt & EHt & AHt & HHt & LHt\\\\\n",
       " <fct> & <chr> & <int> & <int> & <int> & <int> & <int> & <int>\\\\\n",
       "\\hline\n",
       "\t BunkerHill      & JT & 53 &  36 &  63 & 5 &  68 &  15\\\\\n",
       "\t BunkerHill      & RA & 56 &  46 &  65 & 6 &  70 &  24\\\\\n",
       "\t CreteCreek      & RA & 49 &  42 &  78 & 0 &  91 &  78\\\\\n",
       "\t CreteCreek      & RR & 43 &  32 &  67 & 0 &  80 &  74\\\\\n",
       "\t HortonCreek     & JT & 39 &  38 &  70 & 0 &  75 &  65\\\\\n",
       "\t HortonCreek     & RA & 49 &  60 & 116 & 0 & 123 & 110\\\\\n",
       "\t HortonCreek     & RR & 21 &  21 &  45 & 1 &  49 &  40\\\\\n",
       "\t LivingstonCreek & RA & 49 & 105 & 106 & 0 & 134 &  95\\\\\n",
       "\t LivingstonCreek & RR & 47 & 115 & 106 & 0 & 154 &  98\\\\\n",
       "\t McAdamCreek     & RA & 58 & 114 & 122 & 0 & 139 &  85\\\\\n",
       "\t McAdamCreek     & RR & 28 &  38 &  49 & 0 &  50 &  30\\\\\n",
       "\\end{tabular}\n"
      ],
      "text/markdown": [
       "\n",
       "A grouped_df: 11 × 8\n",
       "\n",
       "| Site &lt;fct&gt; | Observer &lt;chr&gt; | DBHt &lt;int&gt; | WHt &lt;int&gt; | EHt &lt;int&gt; | AHt &lt;int&gt; | HHt &lt;int&gt; | LHt &lt;int&gt; |\n",
       "|---|---|---|---|---|---|---|---|\n",
       "| BunkerHill      | JT | 53 |  36 |  63 | 5 |  68 |  15 |\n",
       "| BunkerHill      | RA | 56 |  46 |  65 | 6 |  70 |  24 |\n",
       "| CreteCreek      | RA | 49 |  42 |  78 | 0 |  91 |  78 |\n",
       "| CreteCreek      | RR | 43 |  32 |  67 | 0 |  80 |  74 |\n",
       "| HortonCreek     | JT | 39 |  38 |  70 | 0 |  75 |  65 |\n",
       "| HortonCreek     | RA | 49 |  60 | 116 | 0 | 123 | 110 |\n",
       "| HortonCreek     | RR | 21 |  21 |  45 | 1 |  49 |  40 |\n",
       "| LivingstonCreek | RA | 49 | 105 | 106 | 0 | 134 |  95 |\n",
       "| LivingstonCreek | RR | 47 | 115 | 106 | 0 | 154 |  98 |\n",
       "| McAdamCreek     | RA | 58 | 114 | 122 | 0 | 139 |  85 |\n",
       "| McAdamCreek     | RR | 28 |  38 |  49 | 0 |  50 |  30 |\n",
       "\n"
      ],
      "text/plain": [
       "   Site            Observer DBHt WHt EHt AHt HHt LHt\n",
       "1  BunkerHill      JT       53    36  63 5    68  15\n",
       "2  BunkerHill      RA       56    46  65 6    70  24\n",
       "3  CreteCreek      RA       49    42  78 0    91  78\n",
       "4  CreteCreek      RR       43    32  67 0    80  74\n",
       "5  HortonCreek     JT       39    38  70 0    75  65\n",
       "6  HortonCreek     RA       49    60 116 0   123 110\n",
       "7  HortonCreek     RR       21    21  45 1    49  40\n",
       "8  LivingstonCreek RA       49   105 106 0   134  95\n",
       "9  LivingstonCreek RR       47   115 106 0   154  98\n",
       "10 McAdamCreek     RA       58   114 122 0   139  85\n",
       "11 McAdamCreek     RR       28    38  49 0    50  30"
      ]
     },
     "metadata": {},
     "output_type": "display_data"
    }
   ],
   "source": [
    "library(stringr)\n",
    "library(dplyr)\n",
    "avian = read.csv(\"https://raw.githubusercontent.com/tonytonov/Rcourse/master/R%20programming/avianHabitat.csv\")\n",
    "avian %>% \n",
    "  select(Site, Observer, contains(\"Ht\")) %>%\n",
    "  mutate(Site = factor(str_replace(.$Site, \"[:digit:]+\", \"\"))) %>% \n",
    "  group_by(Site, Observer) %>% \n",
    "  mutate_at(vars(contains(\"Ht\")), all_vars(.>0)) %>% \n",
    "  summarise_all(.funs=sum) "
   ]
  }
 ],
 "metadata": {
  "celltoolbar": "Необработанный формат ячейки",
  "kernelspec": {
   "display_name": "R",
   "language": "R",
   "name": "ir"
  },
  "language_info": {
   "codemirror_mode": "r",
   "file_extension": ".r",
   "mimetype": "text/x-r-source",
   "name": "R",
   "pygments_lexer": "r",
   "version": "4.1.3"
  },
  "latex_envs": {
   "LaTeX_envs_menu_present": true,
   "autoclose": false,
   "autocomplete": true,
   "bibliofile": "biblio.bib",
   "cite_by": "apalike",
   "current_citInitial": 1,
   "eqLabelWithNumbers": true,
   "eqNumInitial": 1,
   "hotkeys": {
    "equation": "Ctrl-E",
    "itemize": "Ctrl-I"
   },
   "labels_anchors": false,
   "latex_user_defs": false,
   "report_style_numbering": false,
   "user_envs_cfg": false
  }
 },
 "nbformat": 4,
 "nbformat_minor": 5
}
